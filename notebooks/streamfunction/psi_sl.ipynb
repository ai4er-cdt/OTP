{
 "cells": [
  {
   "cell_type": "code",
   "execution_count": 1,
   "metadata": {
    "ExecuteTime": {
     "end_time": "2024-03-10T13:07:35.803080600Z",
     "start_time": "2024-03-10T13:07:34.646235400Z"
    }
   },
   "outputs": [],
   "source": [
    "import pickle\n",
    "import numpy as np\n",
    "import matplotlib.pyplot as plt"
   ]
  },
  {
   "cell_type": "code",
   "execution_count": 27,
   "metadata": {
    "ExecuteTime": {
     "end_time": "2024-03-10T13:16:55.422144700Z",
     "start_time": "2024-03-10T13:16:55.396261400Z"
    }
   },
   "outputs": [],
   "source": [
    "def plot_psi(section, use_density):\n",
    "    # read stremfunction\n",
    "    path = f\"single_lats/{section}_sf\"\n",
    "    path = path + \"_density.pickle\" if use_density else path + \"_depth.pickle\"\n",
    "    infile = open(path, \"rb\")\n",
    "    psi = pickle.load(infile); infile.close()\n",
    "    psi = psi[:, 1, :].mean(axis=1)\n",
    "    if use_density: psi = psi[::-1]\n",
    "\n",
    "    # read density/depth range for axis ticks\n",
    "    if use_density:\n",
    "        path = f\"single_lats/{section}_density_range.pickle\" \n",
    "    else:\n",
    "        path = f\"single_lats/depth_range.pickle\"\n",
    "    infile = open(path, \"rb\")\n",
    "    d = pickle.load(infile); infile.close()\n",
    "    d = [round(x, 2) for x in d]\n",
    "    d = d[::-1]\n",
    "\n",
    "    start = np.argmax(psi < 0.)\n",
    "    sign = lambda x: (x > 0)*2 - 1\n",
    "    end = np.argmax(sign(psi[start:]) != sign(psi[start])) + start\n",
    "    start = 0\n",
    "    abyssal = f\"Abyssal Cell Range: [{str(round(d[start], 2))}, {str(round(d[end], 2))}]\"\n",
    "\n",
    "    fig, ax = plt.subplots(figsize=(4, 5))\n",
    "    ax.plot(psi, np.arange(len(d)), linestyle=\"-\", alpha=0.7)\n",
    "    ax.set_yticks(np.arange(0, len(d), 10), d[::10])\n",
    "    xlabel = \"$\\\\Psi(\\\\sigma_2)$ [SV]\" if use_density else \"$\\\\Psi$(Z) [Sv]\"\n",
    "    ax.set_xlabel(xlabel)\n",
    "    ylabel = \"$\\\\sigma_2$ [kg/m^3]\" if use_density else \"Z [m]\"\n",
    "    ax.set_ylabel(ylabel)\n",
    "    ax.set_title(section + \"\\n\" + abyssal, fontsize=10)\n",
    "    ax.vlines(0, 0, len(d), color=\"black\", linestyle=\"--\", alpha=0.2)\n",
    "    ax.set_xlim(min(psi)-1, max(psi)+1)\n",
    "    ax.fill_between(np.arange(min(psi)-2, max(psi)+2), start, end, color=\"black\", alpha=0.2)\n",
    "    plt.tight_layout()\n",
    "    plot_title = f\"{section}_density\" if use_density else f\"{section}_depth\"\n",
    "    plt.savefig(f\"plots/{plot_title}.png\", dpi=400)\n",
    "    plt.close()"
   ]
  },
  {
   "cell_type": "code",
   "execution_count": 28,
   "metadata": {
    "ExecuteTime": {
     "end_time": "2024-03-10T13:16:56.048294700Z",
     "start_time": "2024-03-10T13:16:56.005981700Z"
    }
   },
   "outputs": [
    {
     "ename": "FileNotFoundError",
     "evalue": "[Errno 2] No such file or directory: 'H:/.shortcut-targets-by-id/1wvJjD0RMTujKYaXQapEiGk-Mx03_KSin/GTC/ecco_data_minimal/60S_depth_range.pickle'",
     "output_type": "error",
     "traceback": [
      "\u001B[1;31m---------------------------------------------------------------------------\u001B[0m",
      "\u001B[1;31mFileNotFoundError\u001B[0m                         Traceback (most recent call last)",
      "Cell \u001B[1;32mIn[28], line 4\u001B[0m\n\u001B[0;32m      1\u001B[0m sections \u001B[38;5;241m=\u001B[39m [\u001B[38;5;124m\"\u001B[39m\u001B[38;5;124m26N\u001B[39m\u001B[38;5;124m\"\u001B[39m, \u001B[38;5;124m\"\u001B[39m\u001B[38;5;124m30S\u001B[39m\u001B[38;5;124m\"\u001B[39m, \u001B[38;5;124m\"\u001B[39m\u001B[38;5;124m55S\u001B[39m\u001B[38;5;124m\"\u001B[39m, \u001B[38;5;124m\"\u001B[39m\u001B[38;5;124m60S\u001B[39m\u001B[38;5;124m\"\u001B[39m]\n\u001B[0;32m      2\u001B[0m \u001B[38;5;28;01mfor\u001B[39;00m section \u001B[38;5;129;01min\u001B[39;00m sections:\n\u001B[0;32m      3\u001B[0m     \u001B[38;5;66;03m#plot_psi(section, True)\u001B[39;00m\n\u001B[1;32m----> 4\u001B[0m     plot_psi(section, \u001B[38;5;28;01mFalse\u001B[39;00m)\n",
      "Cell \u001B[1;32mIn[27], line 20\u001B[0m, in \u001B[0;36mplot_psi\u001B[1;34m(section, use_density)\u001B[0m\n\u001B[0;32m     18\u001B[0m     path \u001B[38;5;241m=\u001B[39m \u001B[38;5;124mf\u001B[39m\u001B[38;5;124m\"\u001B[39m\u001B[38;5;132;01m{\u001B[39;00mpaths\u001B[38;5;241m.\u001B[39mLOCAL_DIR\u001B[38;5;132;01m}\u001B[39;00m\u001B[38;5;124m/ecco_data_minimal/60S_depth_range.pickle\u001B[39m\u001B[38;5;124m\"\u001B[39m\n\u001B[0;32m     19\u001B[0m     \u001B[38;5;66;03m#path = f\"single_lats/depth_range.pickle\"\u001B[39;00m\n\u001B[1;32m---> 20\u001B[0m infile \u001B[38;5;241m=\u001B[39m \u001B[38;5;28mopen\u001B[39m(path, \u001B[38;5;124m\"\u001B[39m\u001B[38;5;124mrb\u001B[39m\u001B[38;5;124m\"\u001B[39m)\n\u001B[0;32m     21\u001B[0m d \u001B[38;5;241m=\u001B[39m pickle\u001B[38;5;241m.\u001B[39mload(infile); infile\u001B[38;5;241m.\u001B[39mclose()\n\u001B[0;32m     22\u001B[0m d \u001B[38;5;241m=\u001B[39m [\u001B[38;5;28mround\u001B[39m(x, \u001B[38;5;241m2\u001B[39m) \u001B[38;5;28;01mfor\u001B[39;00m x \u001B[38;5;129;01min\u001B[39;00m d]\n",
      "File \u001B[1;32m~\\mambaforge\\envs\\gtc\\Lib\\site-packages\\IPython\\core\\interactiveshell.py:310\u001B[0m, in \u001B[0;36m_modified_open\u001B[1;34m(file, *args, **kwargs)\u001B[0m\n\u001B[0;32m    303\u001B[0m \u001B[38;5;28;01mif\u001B[39;00m file \u001B[38;5;129;01min\u001B[39;00m {\u001B[38;5;241m0\u001B[39m, \u001B[38;5;241m1\u001B[39m, \u001B[38;5;241m2\u001B[39m}:\n\u001B[0;32m    304\u001B[0m     \u001B[38;5;28;01mraise\u001B[39;00m \u001B[38;5;167;01mValueError\u001B[39;00m(\n\u001B[0;32m    305\u001B[0m         \u001B[38;5;124mf\u001B[39m\u001B[38;5;124m\"\u001B[39m\u001B[38;5;124mIPython won\u001B[39m\u001B[38;5;124m'\u001B[39m\u001B[38;5;124mt let you open fd=\u001B[39m\u001B[38;5;132;01m{\u001B[39;00mfile\u001B[38;5;132;01m}\u001B[39;00m\u001B[38;5;124m by default \u001B[39m\u001B[38;5;124m\"\u001B[39m\n\u001B[0;32m    306\u001B[0m         \u001B[38;5;124m\"\u001B[39m\u001B[38;5;124mas it is likely to crash IPython. If you know what you are doing, \u001B[39m\u001B[38;5;124m\"\u001B[39m\n\u001B[0;32m    307\u001B[0m         \u001B[38;5;124m\"\u001B[39m\u001B[38;5;124myou can use builtins\u001B[39m\u001B[38;5;124m'\u001B[39m\u001B[38;5;124m open.\u001B[39m\u001B[38;5;124m\"\u001B[39m\n\u001B[0;32m    308\u001B[0m     )\n\u001B[1;32m--> 310\u001B[0m \u001B[38;5;28;01mreturn\u001B[39;00m io_open(file, \u001B[38;5;241m*\u001B[39margs, \u001B[38;5;241m*\u001B[39m\u001B[38;5;241m*\u001B[39mkwargs)\n",
      "\u001B[1;31mFileNotFoundError\u001B[0m: [Errno 2] No such file or directory: 'H:/.shortcut-targets-by-id/1wvJjD0RMTujKYaXQapEiGk-Mx03_KSin/GTC/ecco_data_minimal/60S_depth_range.pickle'"
     ]
    }
   ],
   "source": [
    "sections = [\"26N\", \"30S\", \"55S\", \"60S\"]\n",
    "for section in sections:\n",
    "    plot_psi(section, True)\n",
    "    plot_psi(section, False)"
   ]
  }
 ],
 "metadata": {
  "kernelspec": {
   "display_name": "gtc",
   "language": "python",
   "name": "python3"
  },
  "language_info": {
   "codemirror_mode": {
    "name": "ipython",
    "version": 3
   },
   "file_extension": ".py",
   "mimetype": "text/x-python",
   "name": "python",
   "nbconvert_exporter": "python",
   "pygments_lexer": "ipython3",
   "version": "3.12.1"
  }
 },
 "nbformat": 4,
 "nbformat_minor": 2
}
