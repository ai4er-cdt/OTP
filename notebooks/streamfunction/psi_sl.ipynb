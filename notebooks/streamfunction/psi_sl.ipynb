{
 "cells": [
  {
   "cell_type": "code",
   "execution_count": 1,
   "metadata": {},
   "outputs": [],
   "source": [
    "import pickle\n",
    "import numpy as np\n",
    "import matplotlib.pyplot as plt"
   ]
  },
  {
   "cell_type": "code",
   "execution_count": 6,
   "metadata": {},
   "outputs": [],
   "source": [
    "def plot_psi(section, use_density):\n",
    "    # read stremfunction\n",
    "    path = f\"single_lats/{section}_sf\"\n",
    "    path = path + \"_density.pickle\" if use_density else path + \"_depth.pickle\"\n",
    "    infile = open(path, \"rb\")\n",
    "    psi = pickle.load(infile); infile.close()\n",
    "    psi = psi[:, 1, :].mean(axis=1)\n",
    "    if use_density: psi = psi[::-1]\n",
    "\n",
    "    # read density/depth range for axis ticks\n",
    "    if use_density:\n",
    "        path = f\"single_lats/{section}_density_range.pickle\" \n",
    "    else:\n",
    "        path = f\"single_lats/depth_range.pickle\"\n",
    "    infile = open(path, \"rb\")\n",
    "    d = pickle.load(infile); infile.close()\n",
    "    d = [round(x, 2) for x in d]\n",
    "    d = d[::-1]\n",
    "\n",
    "    start = np.argmax(psi < 0.)\n",
    "    sign = lambda x: (x > 0)*2 - 1\n",
    "    end = np.argmax(sign(psi[start:]) != sign(psi[start])) + start\n",
    "    start = 0\n",
    "    abyssal = f\"Abyssal Cell Range: [{str(round(d[start], 2))}, {str(round(d[end], 2))}]\"\n",
    "\n",
    "    fig, ax = plt.subplots(figsize=(4, 5))\n",
    "    ax.plot(psi, np.arange(len(d)), linestyle=\"-\", alpha=0.7)\n",
    "    ax.set_yticks(np.arange(0, len(d), 10), d[::10])\n",
    "    xlabel = \"$\\\\Psi(\\\\sigma_2)$ [SV]\" if use_density else \"$\\\\Psi$(Z) [Sv]\"\n",
    "    ax.set_xlabel(xlabel)\n",
    "    ylabel = \"$\\\\sigma_2$ [kg/m^3]\" if use_density else \"Z [m]\"\n",
    "    ax.set_ylabel(ylabel)\n",
    "    ax.set_title(section + \"\\n\" + abyssal, fontsize=10)\n",
    "    ax.vlines(0, 0, len(d), color=\"black\", linestyle=\"--\", alpha=0.2)\n",
    "    ax.set_xlim(min(psi)-1, max(psi)+1)\n",
    "    ax.fill_between(np.arange(min(psi)-2, max(psi)+2), start, end, color=\"black\", alpha=0.2)\n",
    "    plt.tight_layout()\n",
    "    plot_title = f\"{section}_density\" if use_density else f\"{section}_depth\"\n",
    "    plt.savefig(f\"plots/{plot_title}.png\", dpi=400)\n",
    "    plt.close()"
   ]
  },
  {
   "cell_type": "code",
   "execution_count": 7,
   "metadata": {},
   "outputs": [],
   "source": [
    "sections = [\"26N\", \"30S\", \"55S\", \"60S\"]\n",
    "for section in sections:\n",
    "    plot_psi(section, True)\n",
    "    plot_psi(section, False)"
   ]
  }
 ],
 "metadata": {
  "kernelspec": {
   "display_name": "gtc",
   "language": "python",
   "name": "python3"
  },
  "language_info": {
   "codemirror_mode": {
    "name": "ipython",
    "version": 3
   },
   "file_extension": ".py",
   "mimetype": "text/x-python",
   "name": "python",
   "nbconvert_exporter": "python",
   "pygments_lexer": "ipython3",
   "version": "3.12.1"
  }
 },
 "nbformat": 4,
 "nbformat_minor": 2
}
