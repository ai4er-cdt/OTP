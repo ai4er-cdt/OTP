{
 "cells": [
  {
   "cell_type": "code",
   "execution_count": 1,
   "metadata": {},
   "outputs": [],
   "source": [
    "import pickle\n",
    "import numpy as np\n",
    "import xarray as xr\n",
    "import matplotlib.pyplot as plt"
   ]
  },
  {
   "cell_type": "code",
   "execution_count": 2,
   "metadata": {},
   "outputs": [],
   "source": [
    "data = xr.open_dataset(\"../ecco_data_minimal/southern_ocean.nc\")\n",
    "latitudes = data[\"latitude\"].to_numpy()\n",
    "infile = open(\"so/sf_density.pickle\", \"rb\")\n",
    "sf = pickle.load(infile); infile.close()\n",
    "infile = open(\"so/density_range.pickle\", \"rb\")\n",
    "dr = pickle.load(infile); infile.close()"
   ]
  },
  {
   "cell_type": "code",
   "execution_count": 5,
   "metadata": {},
   "outputs": [],
   "source": [
    "def plot_sf(lat):\n",
    "    sf.shape\n",
    "    psi = sf[lat].mean(axis=-1)[::-1]\n",
    "    if (psi == 0).all(): return\n",
    "    d = [round(x, 2) for x in dr[lat]][::-1]\n",
    "\n",
    "    fig, ax = plt.subplots(figsize=(4, 5))\n",
    "    ax.plot(psi, np.arange(len(d)), linestyle=\"-\", alpha=0.7)\n",
    "    ax.set_yticks(np.arange(0, len(d), 10), d[::10])\n",
    "    ax.set_xlabel(\"$\\\\Psi(\\\\sigma_2)$ [SV]\")\n",
    "    ax.set_ylabel(\"$\\\\sigma_2$ [kg/m^3]\")\n",
    "    ax.set_title(f\"{abs(latitudes[lat])}S\", fontsize=10)\n",
    "    ax.vlines(0, 0, len(d), color=\"black\", linestyle=\"--\", alpha=0.2)\n",
    "    ax.set_xlim(min(psi)-1, max(psi)+1)\n",
    "    plt.tight_layout()\n",
    "    plot_title = f\"{abs(latitudes[lat])}S\"\n",
    "    plt.savefig(f\"plots_so/{plot_title}.png\", dpi=400)\n",
    "    plt.close()"
   ]
  },
  {
   "cell_type": "code",
   "execution_count": 6,
   "metadata": {},
   "outputs": [],
   "source": [
    "for i in range(121): plot_sf(i)"
   ]
  }
 ],
 "metadata": {
  "kernelspec": {
   "display_name": "gtc",
   "language": "python",
   "name": "python3"
  },
  "language_info": {
   "codemirror_mode": {
    "name": "ipython",
    "version": 3
   },
   "file_extension": ".py",
   "mimetype": "text/x-python",
   "name": "python",
   "nbconvert_exporter": "python",
   "pygments_lexer": "ipython3",
   "version": "3.12.1"
  }
 },
 "nbformat": 4,
 "nbformat_minor": 2
}
