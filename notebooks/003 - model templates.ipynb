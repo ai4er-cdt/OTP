{
 "cells": [
  {
   "cell_type": "code",
   "execution_count": 1,
   "metadata": {},
   "outputs": [],
   "source": [
    "import numpy as np\n",
    "import xarray as xr\n",
    "import statsmodels.api as sm\n",
    "from statsmodels.regression.linear_model import OLS\n",
    "from sklearn.metrics import mean_squared_error, r2_score\n",
    "\n",
    "data_home = \"/mnt/g/My Drive/GTC/solodoch_data_minimal\"\n",
    "lats = [\"26N\", \"30S\", \"55S\", \"60S\"]"
   ]
  },
  {
   "cell_type": "code",
   "execution_count": 2,
   "metadata": {},
   "outputs": [],
   "source": [
    "lat = lats[0]\n",
    "data = xr.open_dataset(f\"{data_home}/{lat}.nc\")\n",
    "\n",
    "data_np = data.to_array().values\n",
    "# time x lon x feature\n",
    "data_np = data_np.transpose((2, 1, 3, 0)).squeeze(0)\n",
    "\n",
    "# dummy strength data\n",
    "strength = np.random.rand(*(data_np.shape[:-1]))\n",
    "X = data_np.mean(axis=1); y = strength.mean(axis=-1)"
   ]
  },
  {
   "cell_type": "code",
   "execution_count": 3,
   "metadata": {},
   "outputs": [
    {
     "name": "stdout",
     "output_type": "stream",
     "text": [
      "OLS: R-squared = 0.04120167667950103, MSE = 0.00045430303326965464\n",
      "Robust: R-squared = 0.040675550302787244, MSE = 0.00045455232532931996\n",
      "Ridge: R-squared = 0.0038845441528403413, MSE = 0.000471984839847158\n"
     ]
    }
   ],
   "source": [
    "# linear regression and variants\n",
    "\n",
    "# Assuming X and y are your numpy arrays\n",
    "X = sm.add_constant(X) \n",
    "\n",
    "# linear regression\n",
    "model_ols = OLS(y, X).fit()\n",
    "\n",
    "# robust linear regression\n",
    "model_robust = sm.RLM(y, X).fit()\n",
    "\n",
    "# ridge regression\n",
    "model_ridge = OLS(y, X).fit_regularized(alpha=0.1, L1_wt=0)\n",
    "\n",
    "def eval(model, X, y):\n",
    "    predictions = model.predict(X)\n",
    "    mse = mean_squared_error(y, predictions)\n",
    "    r2 = r2_score(y, predictions)\n",
    "    return r2, mse\n",
    "\n",
    "r2_ols, mse_ols = eval(model_ols, X, y)\n",
    "r2_robust, mse_robust = eval(model_robust, X, y)\n",
    "r2_ridge, mse_ridge = eval(model_ridge, X, y)\n",
    "\n",
    "# Print performance metrics\n",
    "print(f\"OLS: R-squared = {r2_ols}, MSE = {mse_ols}\")\n",
    "print(f\"Robust: R-squared = {r2_robust}, MSE = {mse_robust}\")\n",
    "print(f\"Ridge: R-squared = {r2_ridge}, MSE = {mse_ridge}\")"
   ]
  }
 ],
 "metadata": {
  "kernelspec": {
   "display_name": "gtc",
   "language": "python",
   "name": "python3"
  },
  "language_info": {
   "codemirror_mode": {
    "name": "ipython",
    "version": 3
   },
   "file_extension": ".py",
   "mimetype": "text/x-python",
   "name": "python",
   "nbconvert_exporter": "python",
   "pygments_lexer": "ipython3",
   "version": "3.12.1"
  }
 },
 "nbformat": 4,
 "nbformat_minor": 2
}
