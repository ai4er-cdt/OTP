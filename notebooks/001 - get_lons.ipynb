{
 "cells": [
  {
   "cell_type": "markdown",
   "metadata": {},
   "source": [
    "Purpose of this notebook is to get the longitude ranges for all four latitudes (26N, 30S, 55S, 60S)."
   ]
  },
  {
   "cell_type": "code",
   "execution_count": 1,
   "metadata": {},
   "outputs": [],
   "source": [
    "import sys\n",
    "sys.path.append(\"..\")\n",
    "sys.path.append(\"../ECCOv4-py\")\n",
    "import ecco_v4_py as ecco\n",
    "from basin_masks import *\n",
    "\n",
    "geom_fp = \"small_files/GRID_GEOMETRY_ECCO_V4r4_native_llc0090.nc\""
   ]
  },
  {
   "cell_type": "code",
   "execution_count": 2,
   "metadata": {},
   "outputs": [
    {
     "name": "stdout",
     "output_type": "stream",
     "text": [
      "get_basin_name:  ['pac', 'atl', 'ind', 'arct', 'bering', 'southChina', 'mexico', 'okhotsk', 'hudson', 'med', 'java', 'north', 'japan', 'timor', 'eastChina', 'red', 'gulf', 'baffin', 'gin', 'barents'] /home/maish/OTP/ECCOv4-py/binary_data\n",
      "load_binary_array: loading file /home/maish/OTP/ECCOv4-py/binary_data/basins.data\n",
      "load_binary_array: data array shape  (1170, 90)\n",
      "load_binary_array: data array type  >f4\n",
      "llc_compact_to_faces: dims, llc  (1170, 90) 90\n",
      "llc_compact_to_faces: data_compact array type  >f4\n",
      "llc_faces_to_tiles: data_tiles shape  (13, 90, 90)\n",
      "llc_faces_to_tiles: data_tiles dtype  >f4\n",
      "shape after reading \n",
      "(13, 90, 90)\n",
      "get_basin_name:  ['med'] /home/maish/OTP/ECCOv4-py/binary_data\n",
      "load_binary_array: loading file /home/maish/OTP/ECCOv4-py/binary_data/basins.data\n",
      "load_binary_array: data array shape  (1170, 90)\n",
      "load_binary_array: data array type  >f4\n",
      "llc_compact_to_faces: dims, llc  (1170, 90) 90\n",
      "llc_compact_to_faces: data_compact array type  >f4\n",
      "llc_faces_to_tiles: data_tiles shape  (13, 90, 90)\n",
      "llc_faces_to_tiles: data_tiles dtype  >f4\n",
      "shape after reading \n",
      "(13, 90, 90)\n",
      "get_basin_name:  ['atl', 'mexico', 'hudson', 'med', 'north', 'baffin', 'gin'] /home/maish/OTP/ECCOv4-py/binary_data\n",
      "load_binary_array: loading file /home/maish/OTP/ECCOv4-py/binary_data/basins.data\n",
      "load_binary_array: data array shape  (1170, 90)\n",
      "load_binary_array: data array type  >f4\n",
      "llc_compact_to_faces: dims, llc  (1170, 90) 90\n",
      "llc_compact_to_faces: data_compact array type  >f4\n",
      "llc_faces_to_tiles: data_tiles shape  (13, 90, 90)\n",
      "llc_faces_to_tiles: data_tiles dtype  >f4\n",
      "shape after reading \n",
      "(13, 90, 90)\n",
      "get_basin_name:  ['pac', 'atl', 'ind', 'arct', 'bering', 'southChina', 'mexico', 'okhotsk', 'hudson', 'med', 'java', 'north', 'japan', 'timor', 'eastChina', 'red', 'gulf', 'baffin', 'gin', 'barents'] /home/maish/OTP/ECCOv4-py/binary_data\n",
      "load_binary_array: loading file /home/maish/OTP/ECCOv4-py/binary_data/basins.data\n",
      "load_binary_array: data array shape  (1170, 90)\n",
      "load_binary_array: data array type  >f4\n",
      "llc_compact_to_faces: dims, llc  (1170, 90) 90\n",
      "llc_compact_to_faces: data_compact array type  >f4\n",
      "llc_faces_to_tiles: data_tiles shape  (13, 90, 90)\n",
      "llc_faces_to_tiles: data_tiles dtype  >f4\n",
      "shape after reading \n",
      "(13, 90, 90)\n",
      "get_basin_name:  ['pac', 'atl', 'ind', 'arct', 'bering', 'southChina', 'mexico', 'okhotsk', 'hudson', 'med', 'java', 'north', 'japan', 'timor', 'eastChina', 'red', 'gulf', 'baffin', 'gin', 'barents'] /home/maish/OTP/ECCOv4-py/binary_data\n",
      "load_binary_array: loading file /home/maish/OTP/ECCOv4-py/binary_data/basins.data\n",
      "load_binary_array: data array shape  (1170, 90)\n",
      "load_binary_array: data array type  >f4\n",
      "llc_compact_to_faces: dims, llc  (1170, 90) 90\n",
      "llc_compact_to_faces: data_compact array type  >f4\n",
      "llc_faces_to_tiles: data_tiles shape  (13, 90, 90)\n",
      "llc_faces_to_tiles: data_tiles dtype  >f4\n",
      "shape after reading \n",
      "(13, 90, 90)\n",
      "get_basin_name:  ['pac', 'atl', 'ind', 'arct', 'bering', 'southChina', 'mexico', 'okhotsk', 'hudson', 'med', 'java', 'north', 'japan', 'timor', 'eastChina', 'red', 'gulf', 'baffin', 'gin', 'barents'] /home/maish/OTP/ECCOv4-py/binary_data\n",
      "load_binary_array: loading file /home/maish/OTP/ECCOv4-py/binary_data/basins.data\n",
      "load_binary_array: data array shape  (1170, 90)\n",
      "load_binary_array: data array type  >f4\n",
      "llc_compact_to_faces: dims, llc  (1170, 90) 90\n",
      "llc_compact_to_faces: data_compact array type  >f4\n",
      "llc_faces_to_tiles: data_tiles shape  (13, 90, 90)\n",
      "llc_faces_to_tiles: data_tiles dtype  >f4\n",
      "shape after reading \n",
      "(13, 90, 90)\n",
      "get_basin_name:  ['med'] /home/maish/OTP/ECCOv4-py/binary_data\n",
      "load_binary_array: loading file /home/maish/OTP/ECCOv4-py/binary_data/basins.data\n",
      "load_binary_array: data array shape  (1170, 90)\n",
      "load_binary_array: data array type  >f4\n",
      "llc_compact_to_faces: dims, llc  (1170, 90) 90\n",
      "llc_compact_to_faces: data_compact array type  >f4\n",
      "llc_faces_to_tiles: data_tiles shape  (13, 90, 90)\n",
      "llc_faces_to_tiles: data_tiles dtype  >f4\n",
      "shape after reading \n",
      "(13, 90, 90)\n",
      "get_basin_name:  ['atl', 'mexico', 'hudson', 'med', 'north', 'baffin', 'gin'] /home/maish/OTP/ECCOv4-py/binary_data\n",
      "load_binary_array: loading file /home/maish/OTP/ECCOv4-py/binary_data/basins.data\n",
      "load_binary_array: data array shape  (1170, 90)\n",
      "load_binary_array: data array type  >f4\n",
      "llc_compact_to_faces: dims, llc  (1170, 90) 90\n",
      "llc_compact_to_faces: data_compact array type  >f4\n",
      "llc_faces_to_tiles: data_tiles shape  (13, 90, 90)\n",
      "llc_faces_to_tiles: data_tiles dtype  >f4\n",
      "shape after reading \n",
      "(13, 90, 90)\n"
     ]
    }
   ],
   "source": [
    "basins = [\"atlantic\", \"southern\", \"indo-pacific\"]\n",
    "latlons = {}\n",
    "for basin in basins:\n",
    "    lats_of_interest = get_lats_of_interest_solodoch(basin)\n",
    "    for lat in lats_of_interest:\n",
    "        lon_list = get_longitudes_at_latitude(lat, basin, geom_fp, just_bounds=True)\n",
    "        latlons[lat] = lon_list"
   ]
  },
  {
   "cell_type": "code",
   "execution_count": 3,
   "metadata": {},
   "outputs": [
    {
     "data": {
      "text/plain": [
       "{26.5: [(-97, -82), (-81, -14)],\n",
       " -55: [(-180, 180)],\n",
       " -60: [(-180, 180)],\n",
       " -30: [(-180, -71), (31, 115), (153, 180)]}"
      ]
     },
     "execution_count": 3,
     "metadata": {},
     "output_type": "execute_result"
    }
   ],
   "source": [
    "latlons"
   ]
  }
 ],
 "metadata": {
  "kernelspec": {
   "display_name": "gtc",
   "language": "python",
   "name": "python3"
  },
  "language_info": {
   "codemirror_mode": {
    "name": "ipython",
    "version": 3
   },
   "file_extension": ".py",
   "mimetype": "text/x-python",
   "name": "python",
   "nbconvert_exporter": "python",
   "pygments_lexer": "ipython3",
   "version": "3.12.1"
  }
 },
 "nbformat": 4,
 "nbformat_minor": 2
}
