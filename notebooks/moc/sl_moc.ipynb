{
 "cells": [
  {
   "cell_type": "code",
   "execution_count": 1,
   "metadata": {},
   "outputs": [],
   "source": [
    "import matplotlib.pyplot as plt\n",
    "import numpy as np\n",
    "import pickle"
   ]
  },
  {
   "cell_type": "code",
   "execution_count": 2,
   "metadata": {},
   "outputs": [],
   "source": [
    "def moc(section, use_density):\n",
    "    # read stremfunction\n",
    "    path = f\"../sf/single_lats/{section}_sf\"\n",
    "    path = path + \"_density.pickle\" if use_density else path + \"_depth.pickle\"\n",
    "    infile = open(path, \"rb\")\n",
    "    _psi = pickle.load(infile); infile.close()\n",
    "    psi = _psi[:, 1, :].mean(axis=1)\n",
    "    if use_density: psi = psi[::-1]\n",
    "\n",
    "    start = np.argmax(psi < 0.)\n",
    "    sign = lambda x: (x > 0)*2 - 1\n",
    "    end = np.argmax(sign(psi[start:]) != sign(psi[start])) + start\n",
    "\n",
    "    # read density/depth range for axis ticks\n",
    "    if use_density:\n",
    "        path = f\"../sf/single_lats/{section}_density_range.pickle\" \n",
    "    else:\n",
    "        path = f\"../sf/single_lats/depth_range.pickle\"\n",
    "    infile = open(path, \"rb\")\n",
    "    d = pickle.load(infile); infile.close()\n",
    "    d = [round(x, 2) for x in d]\n",
    "    d = d[::-1]\n",
    "\n",
    "    d_0_ix = np.argmax(abs(psi[:end]))\n",
    "    moc = _psi[::-1][d_0_ix, 1, :]\n",
    "    d_0 = d[d_0_ix]\n",
    "\n",
    "    outpath = f\"single_lats/{section}_moc_density\" if use_density else f\"single_lats/{section}_moc_depth\"\n",
    "    outfile = open(f\"{outpath}.pickle\", \"wb\")\n",
    "    pickle.dump(moc, outfile); outfile.close()\n",
    "\n",
    "    fig, ax = plt.subplots(figsize=(10, 3))\n",
    "    ax.plot(moc, color=\"red\", linewidth=1)\n",
    "    ax.set_ylabel(\"Abyssal MOC Strength [Sv]\")\n",
    "    ax.set_xlabel(\"Year\")\n",
    "    ax.set_xticks(np.arange(0, 324, 12), np.arange(1992, 2019), rotation=45)\n",
    "    ax.set_title(f\"{section}: d$_0$={str(round(d_0, 2))}\")\n",
    "    plt.tight_layout()\n",
    "    plot_title = f\"plots/{section}_density\" if use_density else f\"plots/{section}_depth\"\n",
    "    plt.savefig(f\"{plot_title}.png\", dpi=400)\n",
    "    plt.close()"
   ]
  },
  {
   "cell_type": "code",
   "execution_count": 3,
   "metadata": {},
   "outputs": [],
   "source": [
    "sections = [\"26N\", \"30S\", \"55S\", \"60S\"]\n",
    "\n",
    "for section in sections:\n",
    "    for use_density in [True, False]:\n",
    "        moc(section, use_density)"
   ]
  }
 ],
 "metadata": {
  "kernelspec": {
   "display_name": "gtc",
   "language": "python",
   "name": "python3"
  },
  "language_info": {
   "codemirror_mode": {
    "name": "ipython",
    "version": 3
   },
   "file_extension": ".py",
   "mimetype": "text/x-python",
   "name": "python",
   "nbconvert_exporter": "python",
   "pygments_lexer": "ipython3",
   "version": "3.12.1"
  }
 },
 "nbformat": 4,
 "nbformat_minor": 2
}
