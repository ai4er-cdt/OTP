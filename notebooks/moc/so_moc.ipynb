{
 "cells": [
  {
   "cell_type": "code",
   "execution_count": 1,
   "metadata": {},
   "outputs": [],
   "source": [
    "import xarray as xr\n",
    "import numpy as np\n",
    "import pickle\n",
    "import matplotlib.pyplot as plt"
   ]
  },
  {
   "cell_type": "code",
   "execution_count": 2,
   "metadata": {},
   "outputs": [],
   "source": [
    "data = xr.open_dataset(\"../ecco_data_minimal/southern_ocean.nc\")\n",
    "latitudes = data[\"latitude\"].to_numpy()\n",
    "infile = open(\"../sf/so/sf_density.pickle\", \"rb\")\n",
    "sf = pickle.load(infile); infile.close()\n",
    "infile = open(\"../sf/so/density_range.pickle\", \"rb\")\n",
    "dr = pickle.load(infile); infile.close()"
   ]
  },
  {
   "cell_type": "code",
   "execution_count": 5,
   "metadata": {},
   "outputs": [],
   "source": [
    "def plot_moc(lat):\n",
    "    abyssal_cell = np.argmax(dr[lat] > 36.)\n",
    "    psi = sf[lat, abyssal_cell:, :]\n",
    "    if (psi == 0).all(): return\n",
    "    d_0_ix = np.argmin(psi.mean(axis=-1))\n",
    "    d_0 = dr[lat, abyssal_cell+d_0_ix]\n",
    "    moc = psi[d_0_ix]\n",
    "\n",
    "    outpath = f\"so/{abs(latitudes[lat])}S_moc\" \n",
    "    outfile = open(f\"{outpath}.pickle\", \"wb\")\n",
    "    pickle.dump(moc, outfile); outfile.close()\n",
    "\n",
    "    fig, ax = plt.subplots(figsize=(10, 3))\n",
    "    ax.plot(moc, color=\"red\", linewidth=1)\n",
    "    ax.set_ylabel(\"Abyssal MOC Strength [Sv]\")\n",
    "    ax.set_xlabel(\"Year\")\n",
    "    ax.set_xticks(np.arange(0, 324, 12), np.arange(1992, 2019), rotation=45)\n",
    "    ax.set_title(f\"{abs(latitudes[lat])}S: d$_0$={str(round(d_0, 2))}\")\n",
    "    plt.tight_layout()\n",
    "    plot_title = f\"plots_so/{abs(latitudes[lat])}S\"\n",
    "    plt.savefig(f\"{plot_title}.png\", dpi=400)\n",
    "    plt.close()"
   ]
  },
  {
   "cell_type": "code",
   "execution_count": 6,
   "metadata": {},
   "outputs": [],
   "source": [
    "for i in range(121): plot_moc(i)"
   ]
  }
 ],
 "metadata": {
  "kernelspec": {
   "display_name": "gtc",
   "language": "python",
   "name": "python3"
  },
  "language_info": {
   "codemirror_mode": {
    "name": "ipython",
    "version": 3
   },
   "file_extension": ".py",
   "mimetype": "text/x-python",
   "name": "python",
   "nbconvert_exporter": "python",
   "pygments_lexer": "ipython3",
   "version": "3.12.1"
  }
 },
 "nbformat": 4,
 "nbformat_minor": 2
}
