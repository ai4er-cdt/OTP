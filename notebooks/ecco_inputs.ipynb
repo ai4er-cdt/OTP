{
 "cells": [
  {
   "cell_type": "code",
   "execution_count": 10,
   "metadata": {},
   "outputs": [],
   "source": [
    "import xarray as xr"
   ]
  },
  {
   "cell_type": "code",
   "execution_count": 11,
   "metadata": {},
   "outputs": [],
   "source": [
    "path = \"/mnt/g/My Drive/GTC/ecco_data\"\n",
    "lats = [\"26N\", \"30S\", \"55S\", \"60S\", \"southern_ocean\"]\n",
    "latlons = {\"26N\": [(-97, -82), (-81, -14)],\n",
    "           \"30S\": [(-180, -71), (31, 115), (153, 180)],\n",
    "           \"55S\": [(-180, 180)],\n",
    "           \"60S\": [(-180, 180)],\n",
    "           \"southern_ocean\": [(-180, 180)]}\n",
    "\n",
    "ssh_dataset = \"ECCO_L4_SSH_05DEG_MONTHLY_V4R4\"\n",
    "stress_dataset = \"ECCO_L4_STRESS_05DEG_MONTHLY_V4R4\"\n",
    "obp_dataset = \"ECCO_L4_OBP_05DEG_MONTHLY_V4R4\"\n",
    "temp_sal_dataset = \"ECCO_L4_TEMP_SALINITY_05DEG_MONTHLY_V4R4\""
   ]
  },
  {
   "cell_type": "code",
   "execution_count": 12,
   "metadata": {},
   "outputs": [],
   "source": [
    "def make_dataset(lat):    \n",
    "    ssh = xr.open_mfdataset(f\"{path}_full/{lat}/{ssh_dataset}/*.nc\",\n",
    "                            coords=\"minimal\",\n",
    "                            data_vars=\"minimal\",\n",
    "                            parallel=True, compat=\"override\")\n",
    "    ssh = ssh[\"SSH\"].to_dataset()\n",
    "\n",
    "    stress = xr.open_mfdataset(f\"{path}_full/{lat}/{stress_dataset}/*.nc\",\n",
    "                            coords=\"minimal\",\n",
    "                            data_vars=\"minimal\",\n",
    "                            parallel=True, compat=\"override\")\n",
    "    stress = stress[\"EXFtaue\"].to_dataset()\n",
    "\n",
    "    obp = xr.open_mfdataset(f\"{path}_full/{lat}/{obp_dataset}/*.nc\",\n",
    "                            coords=\"minimal\",\n",
    "                            data_vars=\"minimal\",\n",
    "                            parallel=True, compat=\"override\")\n",
    "    obp = obp[\"OBP\"].to_dataset()\n",
    "\n",
    "    ts = xr.open_mfdataset(f\"{path}_full/{lat}/{temp_sal_dataset}/*.nc\",\n",
    "                        coords=\"minimal\",\n",
    "                        data_vars=\"minimal\",\n",
    "                        parallel=True, compat=\"override\")\n",
    "    ts = ts[[\"SALT\", \"THETA\"]].sel(Z=-5.).drop_vars(\"Z\")\n",
    "\n",
    "    datasets = [ssh, stress, obp, ts]\n",
    "    data = xr.merge(datasets)\n",
    "    var_names = {\"SSH\": \"SSH\",\n",
    "                \"EXFtaue\": \"ZWS\",\n",
    "                \"OBP\": \"OBP\",\n",
    "                \"SALT\": \"SSS\",\n",
    "                \"THETA\": \"SST\"}\n",
    "    data = data.rename(var_names)\n",
    "    lon_condition = xr.full_like(data[\"longitude\"], False, dtype=bool)\n",
    "    for minimum, maximum in latlons[lat]:\n",
    "        lon_condition = lon_condition | ((data[\"longitude\"] >= minimum) & (data[\"longitude\"] <= maximum))\n",
    "    data = data.where(lon_condition, drop=True)\n",
    "    data.to_netcdf(f\"{path}_minimal/{lat}.nc\")"
   ]
  },
  {
   "cell_type": "code",
   "execution_count": 13,
   "metadata": {},
   "outputs": [],
   "source": [
    "for lat in lats: make_dataset(lat)"
   ]
  }
 ],
 "metadata": {
  "kernelspec": {
   "display_name": "gtc",
   "language": "python",
   "name": "python3"
  },
  "language_info": {
   "codemirror_mode": {
    "name": "ipython",
    "version": 3
   },
   "file_extension": ".py",
   "mimetype": "text/x-python",
   "name": "python",
   "nbconvert_exporter": "python",
   "pygments_lexer": "ipython3",
   "version": "3.12.1"
  }
 },
 "nbformat": 4,
 "nbformat_minor": 2
}
