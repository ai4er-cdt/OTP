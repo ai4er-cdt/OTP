{
 "cells": [
  {
   "cell_type": "markdown",
   "metadata": {},
   "source": [
    "for misc testing"
   ]
  },
  {
   "cell_type": "code",
   "execution_count": 1,
   "metadata": {},
   "outputs": [],
   "source": [
    "import sys; sys.path.append(\"../models\")\n",
    "import utils\n",
    "import train\n",
    "import MLP\n",
    "\n",
    "import torch as t\n",
    "import torch.nn as nn\n",
    "import torch.nn.functional as F\n",
    "\n",
    "import xarray as xr\n",
    "\n",
    "t.manual_seed(123456)\n",
    "device = \"cuda\" if t.cuda.is_available() else \"cpu\""
   ]
  },
  {
   "cell_type": "code",
   "execution_count": 2,
   "metadata": {},
   "outputs": [
    {
     "name": "stdout",
     "output_type": "stream",
     "text": [
      "axes: ['time', 'history', 'longitude', 'feature']\n",
      "variables: ['SSH', 'SST', 'SSS', 'OBP', 'ZWS']\n",
      "shape: (283, 6, 164, 5)\n"
     ]
    }
   ],
   "source": [
    "# note: the aim is for all preprocessing / reshaping to be folded into SimDataset\n",
    "\n",
    "data_home = \"/mnt/g/My Drive/GTC/solodoch_data_minimal\"\n",
    "lats = [\"26N\", \"30S\", \"55S\", \"60S\"]\n",
    "\n",
    "lat = lats[0]\n",
    "data = xr.open_dataset(f\"{data_home}/{lat}.nc\")\n",
    "\n",
    "# apply whatever preprocessing we want *before* calling reshape_inputs\n",
    "pp_data = utils.apply_preprocessing(data,\n",
    "                                    mode=\"inputs\",\n",
    "                                    remove_season=True,\n",
    "                                    remove_trend=True,\n",
    "                                    standardize=True,\n",
    "                                    lowpass=True)\n",
    "\n",
    "# reshape as desired and convert to a tensor\n",
    "pp_data = utils.reshape_inputs(pp_data, keep_coords=[\"time\", \"longitude\"], history=6, return_pt=True)\n",
    "\n",
    "# dummy strength data\n",
    "strength = t.rand(pp_data.shape[0])\n",
    "X = pp_data; y = strength"
   ]
  },
  {
   "cell_type": "code",
   "execution_count": 3,
   "metadata": {},
   "outputs": [
    {
     "name": "stdout",
     "output_type": "stream",
     "text": [
      "torch.Size([283, 1])\n"
     ]
    }
   ],
   "source": [
    "X = X.reshape(X.shape[0], -1)\n",
    "m = MLP.MLP(X.shape[1], 2, 16, 0.2)\n",
    "out = m(X)\n",
    "print(out.shape)"
   ]
  }
 ],
 "metadata": {
  "kernelspec": {
   "display_name": "gtc",
   "language": "python",
   "name": "python3"
  },
  "language_info": {
   "codemirror_mode": {
    "name": "ipython",
    "version": 3
   },
   "file_extension": ".py",
   "mimetype": "text/x-python",
   "name": "python",
   "nbconvert_exporter": "python",
   "pygments_lexer": "ipython3",
   "version": "3.12.1"
  }
 },
 "nbformat": 4,
 "nbformat_minor": 2
}
