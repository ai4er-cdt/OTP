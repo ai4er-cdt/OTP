{
 "cells": [
  {
   "cell_type": "markdown",
   "source": [
    "## Setup"
   ],
   "metadata": {
    "collapsed": false
   }
  },
  {
   "cell_type": "code",
   "execution_count": 1,
   "metadata": {
    "ExecuteTime": {
     "end_time": "2024-03-10T22:53:32.494547Z",
     "start_time": "2024-03-10T22:53:23.756506300Z"
    }
   },
   "outputs": [],
   "source": [
    "import sys\n",
    "import pandas as pd\n",
    "\n",
    "import paths\n",
    "import pickle\n",
    "\n",
    "sys.path.append(\"..\")\n",
    "from models.utils import *\n",
    "from models.plotting_utils import *\n",
    "from sklearn.metrics import mean_squared_error, r2_score, mean_absolute_error, root_mean_squared_error\n",
    "from models import train_alt, CNN1D, CNN2D\n",
    "\n",
    "import matplotlib.pyplot as plt"
   ]
  },
  {
   "cell_type": "code",
   "execution_count": 2,
   "outputs": [],
   "source": [
    "# A helper function to subset 30S, since now the surface vars exist for all longitudes - values taken from basin function!\n",
    "def mask_30S(inputs):\n",
    "    mask = np.logical_or(np.logical_or(np.logical_and(inputs.longitude >= -180, \n",
    "                                                      inputs.longitude <= -71),\n",
    "                                       np.logical_and(inputs.longitude >= 31, \n",
    "                                                      inputs.longitude <= 115)),\n",
    "                         np.logical_and(inputs.longitude >= 153, \n",
    "                                        inputs.longitude <= 180))\n",
    "    masked = inputs.where(mask, drop = True)\n",
    "\n",
    "    return masked"
   ],
   "metadata": {
    "collapsed": false,
    "ExecuteTime": {
     "end_time": "2024-03-10T22:53:32.516852800Z",
     "start_time": "2024-03-10T22:53:32.497289200Z"
    }
   }
  },
  {
   "cell_type": "code",
   "execution_count": 3,
   "outputs": [],
   "source": [
    "# A helper function to format the input files based on a given latitude\n",
    "def format_lat_lon(value):\n",
    "    \"\"\"Format latitude or longitude with N/S or E/W suffix.\"\"\"\n",
    "    if value < 0:\n",
    "        return f\"{abs(value)}S\"\n",
    "    else:\n",
    "        return f\"{value}N\""
   ],
   "metadata": {
    "collapsed": false,
    "ExecuteTime": {
     "end_time": "2024-03-10T22:53:32.516852800Z",
     "start_time": "2024-03-10T22:53:32.506133100Z"
    }
   }
  },
  {
   "cell_type": "markdown",
   "source": [
    "## Experiment Variables"
   ],
   "metadata": {
    "collapsed": false
   }
  },
  {
   "cell_type": "code",
   "execution_count": 757,
   "metadata": {
    "ExecuteTime": {
     "end_time": "2024-03-11T21:06:24.168874900Z",
     "start_time": "2024-03-11T21:06:24.150378Z"
    }
   },
   "outputs": [],
   "source": [
    "data_home = paths.LOCAL_DIR\n",
    "lats = [26, -30, -55, -60]\n",
    "lat = lats[3]"
   ]
  },
  {
   "cell_type": "markdown",
   "source": [
    "## Loading and processing relevant data"
   ],
   "metadata": {
    "collapsed": false
   }
  },
  {
   "cell_type": "code",
   "execution_count": 758,
   "outputs": [
    {
     "data": {
      "text/plain": "<xarray.Dataset>\nDimensions:    (time: 312, latitude: 1, longitude: 720)\nCoordinates:\n  * latitude   (latitude) float32 -59.75\n  * longitude  (longitude) float32 -179.8 -179.2 -178.8 ... 178.8 179.2 179.8\n  * time       (time) datetime64[ns] 1992-01-16T18:00:00 ... 2017-12-16T06:00:00\nData variables:\n    SSH        (time, latitude, longitude) float32 ...\n    ZWS        (time, latitude, longitude) float32 ...\n    OBP        (time, latitude, longitude) float32 ...\n    SSS        (time, latitude, longitude) float32 ...\n    SST        (time, latitude, longitude) float32 ...",
      "text/html": "<div><svg style=\"position: absolute; width: 0; height: 0; overflow: hidden\">\n<defs>\n<symbol id=\"icon-database\" viewBox=\"0 0 32 32\">\n<path d=\"M16 0c-8.837 0-16 2.239-16 5v4c0 2.761 7.163 5 16 5s16-2.239 16-5v-4c0-2.761-7.163-5-16-5z\"></path>\n<path d=\"M16 17c-8.837 0-16-2.239-16-5v6c0 2.761 7.163 5 16 5s16-2.239 16-5v-6c0 2.761-7.163 5-16 5z\"></path>\n<path d=\"M16 26c-8.837 0-16-2.239-16-5v6c0 2.761 7.163 5 16 5s16-2.239 16-5v-6c0 2.761-7.163 5-16 5z\"></path>\n</symbol>\n<symbol id=\"icon-file-text2\" viewBox=\"0 0 32 32\">\n<path d=\"M28.681 7.159c-0.694-0.947-1.662-2.053-2.724-3.116s-2.169-2.030-3.116-2.724c-1.612-1.182-2.393-1.319-2.841-1.319h-15.5c-1.378 0-2.5 1.121-2.5 2.5v27c0 1.378 1.122 2.5 2.5 2.5h23c1.378 0 2.5-1.122 2.5-2.5v-19.5c0-0.448-0.137-1.23-1.319-2.841zM24.543 5.457c0.959 0.959 1.712 1.825 2.268 2.543h-4.811v-4.811c0.718 0.556 1.584 1.309 2.543 2.268zM28 29.5c0 0.271-0.229 0.5-0.5 0.5h-23c-0.271 0-0.5-0.229-0.5-0.5v-27c0-0.271 0.229-0.5 0.5-0.5 0 0 15.499-0 15.5 0v7c0 0.552 0.448 1 1 1h7v19.5z\"></path>\n<path d=\"M23 26h-14c-0.552 0-1-0.448-1-1s0.448-1 1-1h14c0.552 0 1 0.448 1 1s-0.448 1-1 1z\"></path>\n<path d=\"M23 22h-14c-0.552 0-1-0.448-1-1s0.448-1 1-1h14c0.552 0 1 0.448 1 1s-0.448 1-1 1z\"></path>\n<path d=\"M23 18h-14c-0.552 0-1-0.448-1-1s0.448-1 1-1h14c0.552 0 1 0.448 1 1s-0.448 1-1 1z\"></path>\n</symbol>\n</defs>\n</svg>\n<style>/* CSS stylesheet for displaying xarray objects in jupyterlab.\n *\n */\n\n:root {\n  --xr-font-color0: var(--jp-content-font-color0, rgba(0, 0, 0, 1));\n  --xr-font-color2: var(--jp-content-font-color2, rgba(0, 0, 0, 0.54));\n  --xr-font-color3: var(--jp-content-font-color3, rgba(0, 0, 0, 0.38));\n  --xr-border-color: var(--jp-border-color2, #e0e0e0);\n  --xr-disabled-color: var(--jp-layout-color3, #bdbdbd);\n  --xr-background-color: var(--jp-layout-color0, white);\n  --xr-background-color-row-even: var(--jp-layout-color1, white);\n  --xr-background-color-row-odd: var(--jp-layout-color2, #eeeeee);\n}\n\nhtml[theme=dark],\nbody[data-theme=dark],\nbody.vscode-dark {\n  --xr-font-color0: rgba(255, 255, 255, 1);\n  --xr-font-color2: rgba(255, 255, 255, 0.54);\n  --xr-font-color3: rgba(255, 255, 255, 0.38);\n  --xr-border-color: #1F1F1F;\n  --xr-disabled-color: #515151;\n  --xr-background-color: #111111;\n  --xr-background-color-row-even: #111111;\n  --xr-background-color-row-odd: #313131;\n}\n\n.xr-wrap {\n  display: block !important;\n  min-width: 300px;\n  max-width: 700px;\n}\n\n.xr-text-repr-fallback {\n  /* fallback to plain text repr when CSS is not injected (untrusted notebook) */\n  display: none;\n}\n\n.xr-header {\n  padding-top: 6px;\n  padding-bottom: 6px;\n  margin-bottom: 4px;\n  border-bottom: solid 1px var(--xr-border-color);\n}\n\n.xr-header > div,\n.xr-header > ul {\n  display: inline;\n  margin-top: 0;\n  margin-bottom: 0;\n}\n\n.xr-obj-type,\n.xr-array-name {\n  margin-left: 2px;\n  margin-right: 10px;\n}\n\n.xr-obj-type {\n  color: var(--xr-font-color2);\n}\n\n.xr-sections {\n  padding-left: 0 !important;\n  display: grid;\n  grid-template-columns: 150px auto auto 1fr 20px 20px;\n}\n\n.xr-section-item {\n  display: contents;\n}\n\n.xr-section-item input {\n  display: none;\n}\n\n.xr-section-item input + label {\n  color: var(--xr-disabled-color);\n}\n\n.xr-section-item input:enabled + label {\n  cursor: pointer;\n  color: var(--xr-font-color2);\n}\n\n.xr-section-item input:enabled + label:hover {\n  color: var(--xr-font-color0);\n}\n\n.xr-section-summary {\n  grid-column: 1;\n  color: var(--xr-font-color2);\n  font-weight: 500;\n}\n\n.xr-section-summary > span {\n  display: inline-block;\n  padding-left: 0.5em;\n}\n\n.xr-section-summary-in:disabled + label {\n  color: var(--xr-font-color2);\n}\n\n.xr-section-summary-in + label:before {\n  display: inline-block;\n  content: '►';\n  font-size: 11px;\n  width: 15px;\n  text-align: center;\n}\n\n.xr-section-summary-in:disabled + label:before {\n  color: var(--xr-disabled-color);\n}\n\n.xr-section-summary-in:checked + label:before {\n  content: '▼';\n}\n\n.xr-section-summary-in:checked + label > span {\n  display: none;\n}\n\n.xr-section-summary,\n.xr-section-inline-details {\n  padding-top: 4px;\n  padding-bottom: 4px;\n}\n\n.xr-section-inline-details {\n  grid-column: 2 / -1;\n}\n\n.xr-section-details {\n  display: none;\n  grid-column: 1 / -1;\n  margin-bottom: 5px;\n}\n\n.xr-section-summary-in:checked ~ .xr-section-details {\n  display: contents;\n}\n\n.xr-array-wrap {\n  grid-column: 1 / -1;\n  display: grid;\n  grid-template-columns: 20px auto;\n}\n\n.xr-array-wrap > label {\n  grid-column: 1;\n  vertical-align: top;\n}\n\n.xr-preview {\n  color: var(--xr-font-color3);\n}\n\n.xr-array-preview,\n.xr-array-data {\n  padding: 0 5px !important;\n  grid-column: 2;\n}\n\n.xr-array-data,\n.xr-array-in:checked ~ .xr-array-preview {\n  display: none;\n}\n\n.xr-array-in:checked ~ .xr-array-data,\n.xr-array-preview {\n  display: inline-block;\n}\n\n.xr-dim-list {\n  display: inline-block !important;\n  list-style: none;\n  padding: 0 !important;\n  margin: 0;\n}\n\n.xr-dim-list li {\n  display: inline-block;\n  padding: 0;\n  margin: 0;\n}\n\n.xr-dim-list:before {\n  content: '(';\n}\n\n.xr-dim-list:after {\n  content: ')';\n}\n\n.xr-dim-list li:not(:last-child):after {\n  content: ',';\n  padding-right: 5px;\n}\n\n.xr-has-index {\n  font-weight: bold;\n}\n\n.xr-var-list,\n.xr-var-item {\n  display: contents;\n}\n\n.xr-var-item > div,\n.xr-var-item label,\n.xr-var-item > .xr-var-name span {\n  background-color: var(--xr-background-color-row-even);\n  margin-bottom: 0;\n}\n\n.xr-var-item > .xr-var-name:hover span {\n  padding-right: 5px;\n}\n\n.xr-var-list > li:nth-child(odd) > div,\n.xr-var-list > li:nth-child(odd) > label,\n.xr-var-list > li:nth-child(odd) > .xr-var-name span {\n  background-color: var(--xr-background-color-row-odd);\n}\n\n.xr-var-name {\n  grid-column: 1;\n}\n\n.xr-var-dims {\n  grid-column: 2;\n}\n\n.xr-var-dtype {\n  grid-column: 3;\n  text-align: right;\n  color: var(--xr-font-color2);\n}\n\n.xr-var-preview {\n  grid-column: 4;\n}\n\n.xr-index-preview {\n  grid-column: 2 / 5;\n  color: var(--xr-font-color2);\n}\n\n.xr-var-name,\n.xr-var-dims,\n.xr-var-dtype,\n.xr-preview,\n.xr-attrs dt {\n  white-space: nowrap;\n  overflow: hidden;\n  text-overflow: ellipsis;\n  padding-right: 10px;\n}\n\n.xr-var-name:hover,\n.xr-var-dims:hover,\n.xr-var-dtype:hover,\n.xr-attrs dt:hover {\n  overflow: visible;\n  width: auto;\n  z-index: 1;\n}\n\n.xr-var-attrs,\n.xr-var-data,\n.xr-index-data {\n  display: none;\n  background-color: var(--xr-background-color) !important;\n  padding-bottom: 5px !important;\n}\n\n.xr-var-attrs-in:checked ~ .xr-var-attrs,\n.xr-var-data-in:checked ~ .xr-var-data,\n.xr-index-data-in:checked ~ .xr-index-data {\n  display: block;\n}\n\n.xr-var-data > table {\n  float: right;\n}\n\n.xr-var-name span,\n.xr-var-data,\n.xr-index-name div,\n.xr-index-data,\n.xr-attrs {\n  padding-left: 25px !important;\n}\n\n.xr-attrs,\n.xr-var-attrs,\n.xr-var-data,\n.xr-index-data {\n  grid-column: 1 / -1;\n}\n\ndl.xr-attrs {\n  padding: 0;\n  margin: 0;\n  display: grid;\n  grid-template-columns: 125px auto;\n}\n\n.xr-attrs dt,\n.xr-attrs dd {\n  padding: 0;\n  margin: 0;\n  float: left;\n  padding-right: 10px;\n  width: auto;\n}\n\n.xr-attrs dt {\n  font-weight: normal;\n  grid-column: 1;\n}\n\n.xr-attrs dt:hover span {\n  display: inline-block;\n  background: var(--xr-background-color);\n  padding-right: 10px;\n}\n\n.xr-attrs dd {\n  grid-column: 2;\n  white-space: pre-wrap;\n  word-break: break-all;\n}\n\n.xr-icon-database,\n.xr-icon-file-text2,\n.xr-no-icon {\n  display: inline-block;\n  vertical-align: middle;\n  width: 1em;\n  height: 1.5em !important;\n  stroke-width: 0;\n  stroke: currentColor;\n  fill: currentColor;\n}\n</style><pre class='xr-text-repr-fallback'>&lt;xarray.Dataset&gt;\nDimensions:    (time: 312, latitude: 1, longitude: 720)\nCoordinates:\n  * latitude   (latitude) float32 -59.75\n  * longitude  (longitude) float32 -179.8 -179.2 -178.8 ... 178.8 179.2 179.8\n  * time       (time) datetime64[ns] 1992-01-16T18:00:00 ... 2017-12-16T06:00:00\nData variables:\n    SSH        (time, latitude, longitude) float32 ...\n    ZWS        (time, latitude, longitude) float32 ...\n    OBP        (time, latitude, longitude) float32 ...\n    SSS        (time, latitude, longitude) float32 ...\n    SST        (time, latitude, longitude) float32 ...</pre><div class='xr-wrap' style='display:none'><div class='xr-header'><div class='xr-obj-type'>xarray.Dataset</div></div><ul class='xr-sections'><li class='xr-section-item'><input id='section-22786baa-1b37-4611-8cf8-7be7e2bd8b08' class='xr-section-summary-in' type='checkbox' disabled ><label for='section-22786baa-1b37-4611-8cf8-7be7e2bd8b08' class='xr-section-summary'  title='Expand/collapse section'>Dimensions:</label><div class='xr-section-inline-details'><ul class='xr-dim-list'><li><span class='xr-has-index'>time</span>: 312</li><li><span class='xr-has-index'>latitude</span>: 1</li><li><span class='xr-has-index'>longitude</span>: 720</li></ul></div><div class='xr-section-details'></div></li><li class='xr-section-item'><input id='section-ff2e4977-0cfc-4305-a9ed-66a15d66be6e' class='xr-section-summary-in' type='checkbox'  checked><label for='section-ff2e4977-0cfc-4305-a9ed-66a15d66be6e' class='xr-section-summary' >Coordinates: <span>(3)</span></label><div class='xr-section-inline-details'></div><div class='xr-section-details'><ul class='xr-var-list'><li class='xr-var-item'><div class='xr-var-name'><span class='xr-has-index'>latitude</span></div><div class='xr-var-dims'>(latitude)</div><div class='xr-var-dtype'>float32</div><div class='xr-var-preview xr-preview'>-59.75</div><input id='attrs-f9939f8c-b156-4b5b-853d-09f9048bc657' class='xr-var-attrs-in' type='checkbox' ><label for='attrs-f9939f8c-b156-4b5b-853d-09f9048bc657' title='Show/Hide attributes'><svg class='icon xr-icon-file-text2'><use xlink:href='#icon-file-text2'></use></svg></label><input id='data-ad383c75-a42e-4669-91e6-5183ef409817' class='xr-var-data-in' type='checkbox'><label for='data-ad383c75-a42e-4669-91e6-5183ef409817' title='Show/Hide data repr'><svg class='icon xr-icon-database'><use xlink:href='#icon-database'></use></svg></label><div class='xr-var-attrs'><dl class='xr-attrs'><dt><span>axis :</span></dt><dd>Y</dd><dt><span>bounds :</span></dt><dd>latitude_bnds</dd><dt><span>comment :</span></dt><dd>uniform grid spacing from -89.75 to 89.75 by 0.5</dd><dt><span>coverage_content_type :</span></dt><dd>coordinate</dd><dt><span>long_name :</span></dt><dd>latitude at grid cell center</dd><dt><span>standard_name :</span></dt><dd>latitude</dd><dt><span>units :</span></dt><dd>degrees_north</dd><dt><span>origname :</span></dt><dd>latitude</dd><dt><span>fullnamepath :</span></dt><dd>/latitude</dd></dl></div><div class='xr-var-data'><pre>array([-59.75], dtype=float32)</pre></div></li><li class='xr-var-item'><div class='xr-var-name'><span class='xr-has-index'>longitude</span></div><div class='xr-var-dims'>(longitude)</div><div class='xr-var-dtype'>float32</div><div class='xr-var-preview xr-preview'>-179.8 -179.2 ... 179.2 179.8</div><input id='attrs-dcf5ff6c-f6d0-4816-a873-92acfca41596' class='xr-var-attrs-in' type='checkbox' ><label for='attrs-dcf5ff6c-f6d0-4816-a873-92acfca41596' title='Show/Hide attributes'><svg class='icon xr-icon-file-text2'><use xlink:href='#icon-file-text2'></use></svg></label><input id='data-4d589663-d3c2-4a26-b505-ba58d4febee3' class='xr-var-data-in' type='checkbox'><label for='data-4d589663-d3c2-4a26-b505-ba58d4febee3' title='Show/Hide data repr'><svg class='icon xr-icon-database'><use xlink:href='#icon-database'></use></svg></label><div class='xr-var-attrs'><dl class='xr-attrs'><dt><span>axis :</span></dt><dd>X</dd><dt><span>bounds :</span></dt><dd>longitude_bnds</dd><dt><span>comment :</span></dt><dd>uniform grid spacing from -179.75 to 179.75 by 0.5</dd><dt><span>coverage_content_type :</span></dt><dd>coordinate</dd><dt><span>long_name :</span></dt><dd>longitude at grid cell center</dd><dt><span>standard_name :</span></dt><dd>longitude</dd><dt><span>units :</span></dt><dd>degrees_east</dd><dt><span>origname :</span></dt><dd>longitude</dd><dt><span>fullnamepath :</span></dt><dd>/longitude</dd></dl></div><div class='xr-var-data'><pre>array([-179.75, -179.25, -178.75, ...,  178.75,  179.25,  179.75],\n      dtype=float32)</pre></div></li><li class='xr-var-item'><div class='xr-var-name'><span class='xr-has-index'>time</span></div><div class='xr-var-dims'>(time)</div><div class='xr-var-dtype'>datetime64[ns]</div><div class='xr-var-preview xr-preview'>1992-01-16T18:00:00 ... 2017-12-...</div><input id='attrs-a359cd5f-5699-44da-a065-b7fed23fbb3d' class='xr-var-attrs-in' type='checkbox' ><label for='attrs-a359cd5f-5699-44da-a065-b7fed23fbb3d' title='Show/Hide attributes'><svg class='icon xr-icon-file-text2'><use xlink:href='#icon-file-text2'></use></svg></label><input id='data-77e40f53-87d2-4f3e-93d4-e07b907f3198' class='xr-var-data-in' type='checkbox'><label for='data-77e40f53-87d2-4f3e-93d4-e07b907f3198' title='Show/Hide data repr'><svg class='icon xr-icon-database'><use xlink:href='#icon-database'></use></svg></label><div class='xr-var-attrs'><dl class='xr-attrs'><dt><span>axis :</span></dt><dd>T</dd><dt><span>bounds :</span></dt><dd>time_bnds</dd><dt><span>coverage_content_type :</span></dt><dd>coordinate</dd><dt><span>long_name :</span></dt><dd>center time of averaging period</dd><dt><span>standard_name :</span></dt><dd>time</dd><dt><span>origname :</span></dt><dd>time</dd><dt><span>fullnamepath :</span></dt><dd>/time</dd></dl></div><div class='xr-var-data'><pre>array([&#x27;1992-01-16T18:00:00.000000000&#x27;, &#x27;1992-02-15T12:00:00.000000000&#x27;,\n       &#x27;1992-03-16T12:00:00.000000000&#x27;, ..., &#x27;2017-10-16T12:00:00.000000000&#x27;,\n       &#x27;2017-11-16T00:00:00.000000000&#x27;, &#x27;2017-12-16T06:00:00.000000000&#x27;],\n      dtype=&#x27;datetime64[ns]&#x27;)</pre></div></li></ul></div></li><li class='xr-section-item'><input id='section-5438170f-8f1a-4c15-966a-6e8a483a49fa' class='xr-section-summary-in' type='checkbox'  checked><label for='section-5438170f-8f1a-4c15-966a-6e8a483a49fa' class='xr-section-summary' >Data variables: <span>(5)</span></label><div class='xr-section-inline-details'></div><div class='xr-section-details'><ul class='xr-var-list'><li class='xr-var-item'><div class='xr-var-name'><span>SSH</span></div><div class='xr-var-dims'>(time, latitude, longitude)</div><div class='xr-var-dtype'>float32</div><div class='xr-var-preview xr-preview'>...</div><input id='attrs-edf18727-3899-4f28-8779-074fc4b4f783' class='xr-var-attrs-in' type='checkbox' ><label for='attrs-edf18727-3899-4f28-8779-074fc4b4f783' title='Show/Hide attributes'><svg class='icon xr-icon-file-text2'><use xlink:href='#icon-file-text2'></use></svg></label><input id='data-cefc7211-af99-4013-a2ac-265c7e3f0149' class='xr-var-data-in' type='checkbox'><label for='data-cefc7211-af99-4013-a2ac-265c7e3f0149' title='Show/Hide data repr'><svg class='icon xr-icon-database'><use xlink:href='#icon-database'></use></svg></label><div class='xr-var-attrs'><dl class='xr-attrs'><dt><span>coverage_content_type :</span></dt><dd>modelResult</dd><dt><span>long_name :</span></dt><dd>Dynamic sea surface height anomaly</dd><dt><span>standard_name :</span></dt><dd>sea_surface_height_above_geoid</dd><dt><span>units :</span></dt><dd>m</dd><dt><span>comment :</span></dt><dd>Dynamic sea surface height anomaly above the geoid, suitable for comparisons with altimetry sea surface height data products that apply the inverse barometer (IB) correction. Note: SSH is calculated by correcting model sea level anomaly ETAN for three effects: a) global mean steric sea level changes related to density changes in the Boussinesq volume-conserving model (Greatbatch correction, see sterGloH), b) the inverted barometer (IB) effect (see SSHIBC) and c) sea level displacement due to sea-ice and snow pressure loading (see sIceLoad). SSH can be compared with the similarly-named SSH variable in previous ECCO products that did not include atmospheric pressure loading (e.g., Version 4 Release 3). Use SSHNOIBC for comparisons with altimetry data products that do NOT apply the IB correction.</dd><dt><span>valid_min :</span></dt><dd>-1.8805772066116333</dd><dt><span>valid_max :</span></dt><dd>1.4207719564437866</dd><dt><span>origname :</span></dt><dd>SSH</dd><dt><span>fullnamepath :</span></dt><dd>/SSH</dd></dl></div><div class='xr-var-data'><pre>[224640 values with dtype=float32]</pre></div></li><li class='xr-var-item'><div class='xr-var-name'><span>ZWS</span></div><div class='xr-var-dims'>(time, latitude, longitude)</div><div class='xr-var-dtype'>float32</div><div class='xr-var-preview xr-preview'>...</div><input id='attrs-7633b8b9-c5de-4050-9b0e-3bd91ce7d5f9' class='xr-var-attrs-in' type='checkbox' ><label for='attrs-7633b8b9-c5de-4050-9b0e-3bd91ce7d5f9' title='Show/Hide attributes'><svg class='icon xr-icon-file-text2'><use xlink:href='#icon-file-text2'></use></svg></label><input id='data-e465faad-4403-46b4-ae4b-c8789f6ba562' class='xr-var-data-in' type='checkbox'><label for='data-e465faad-4403-46b4-ae4b-c8789f6ba562' title='Show/Hide data repr'><svg class='icon xr-icon-database'><use xlink:href='#icon-database'></use></svg></label><div class='xr-var-attrs'><dl class='xr-attrs'><dt><span>coverage_content_type :</span></dt><dd>modelResult</dd><dt><span>direction :</span></dt><dd> &gt;0 increases eastward velocity (EVEL)</dd><dt><span>long_name :</span></dt><dd>Zonal (east-west) wind stress</dd><dt><span>standard_name :</span></dt><dd>surface_downward_eastward_stress</dd><dt><span>units :</span></dt><dd>N m-2</dd><dt><span>comment :</span></dt><dd>Zonal (east-west) component of wind stress. Note: EXFtaue is the zonal wind stress applied to the ocean and sea-ice. When sea-ice is present, the total zonal stress applied to the ocean surface is NOT EXFtaue, but a combination of the wind stress in the open water fraction (EXFtaue) and a stress from sea-ice in the ice-covered fraction (see oceTAUE). EXFtaue is calculated by interpolating the model&#x27;s x and y components of wind stress (EXFtaux and EXFtauy) to tracer cell centers and then finding the zonal component of the interpolated vectors. It is NOT recommended to use EXFtaue and EXFtaun for momentum budget calculations because interpolating EXFtaux and EXFtauy from the model grid to the lat-lon grid introduces errors. For momentum fluxes to the ocean surface see oceTAUx and oceTAUy.</dd><dt><span>valid_min :</span></dt><dd>-0.7545976042747498</dd><dt><span>valid_max :</span></dt><dd>0.6626148223876953</dd><dt><span>origname :</span></dt><dd>EXFtaue</dd><dt><span>fullnamepath :</span></dt><dd>/EXFtaue</dd></dl></div><div class='xr-var-data'><pre>[224640 values with dtype=float32]</pre></div></li><li class='xr-var-item'><div class='xr-var-name'><span>OBP</span></div><div class='xr-var-dims'>(time, latitude, longitude)</div><div class='xr-var-dtype'>float32</div><div class='xr-var-preview xr-preview'>...</div><input id='attrs-889f5f63-d081-4144-8196-88bfe51c43fc' class='xr-var-attrs-in' type='checkbox' ><label for='attrs-889f5f63-d081-4144-8196-88bfe51c43fc' title='Show/Hide attributes'><svg class='icon xr-icon-file-text2'><use xlink:href='#icon-file-text2'></use></svg></label><input id='data-6afa38f1-9b79-4f32-89a2-b1a0cb1504fe' class='xr-var-data-in' type='checkbox'><label for='data-6afa38f1-9b79-4f32-89a2-b1a0cb1504fe' title='Show/Hide data repr'><svg class='icon xr-icon-database'><use xlink:href='#icon-database'></use></svg></label><div class='xr-var-attrs'><dl class='xr-attrs'><dt><span>coverage_content_type :</span></dt><dd>modelResult</dd><dt><span>long_name :</span></dt><dd>Ocean bottom pressure given as equivalent water thickness</dd><dt><span>units :</span></dt><dd>m</dd><dt><span>comment :</span></dt><dd>OBP excludes the contribution from global mean atmospheric pressure and is therefore suitable for comparisons with GRACE data products. OBP is calculated as follows. First, we calculate ocean hydrostatic bottom pressure anomaly, PHIBOT, with PHIBOT = p_b/rhoConst - gH(t), where p_b = model ocean hydrostatic bottom pressure, rhoConst = reference density (1029 kg m-3), g is acceleration due to gravity (9.81 m s-2), and H(t) is model depth at time t. Then, OBP = PHIBOT/g + corrections for i) global mean steric sea level changes related to density changes in the Boussinesq volume-conserving model (Greatbatch correction, see sterGloH) and ii) global mean atmospheric pressure variations. Use OBP for comparisons with ocean bottom pressure data products that have been corrected for global mean atmospheric pressure variations. GRACE data typically ARE corrected for global mean atmospheric pressure variations. In contrast, ocean bottom pressure gauge data typically ARE NOT corrected for global mean atmospheric pressure variations.</dd><dt><span>valid_min :</span></dt><dd>-1.7899188995361328</dd><dt><span>valid_max :</span></dt><dd>72.07011413574219</dd><dt><span>origname :</span></dt><dd>OBP</dd><dt><span>fullnamepath :</span></dt><dd>/OBP</dd></dl></div><div class='xr-var-data'><pre>[224640 values with dtype=float32]</pre></div></li><li class='xr-var-item'><div class='xr-var-name'><span>SSS</span></div><div class='xr-var-dims'>(time, latitude, longitude)</div><div class='xr-var-dtype'>float32</div><div class='xr-var-preview xr-preview'>...</div><input id='attrs-03356ac8-e90b-4e90-bd87-cb00518b00dd' class='xr-var-attrs-in' type='checkbox' ><label for='attrs-03356ac8-e90b-4e90-bd87-cb00518b00dd' title='Show/Hide attributes'><svg class='icon xr-icon-file-text2'><use xlink:href='#icon-file-text2'></use></svg></label><input id='data-55dec9e7-ba55-4031-9faa-e3ee8c654b7c' class='xr-var-data-in' type='checkbox'><label for='data-55dec9e7-ba55-4031-9faa-e3ee8c654b7c' title='Show/Hide data repr'><svg class='icon xr-icon-database'><use xlink:href='#icon-database'></use></svg></label><div class='xr-var-attrs'><dl class='xr-attrs'><dt><span>coverage_content_type :</span></dt><dd>modelResult</dd><dt><span>long_name :</span></dt><dd>Salinity</dd><dt><span>standard_name :</span></dt><dd>sea_water_salinity</dd><dt><span>units :</span></dt><dd>1e-3</dd><dt><span>valid_min :</span></dt><dd>17.106637954711914</dd><dt><span>valid_max :</span></dt><dd>41.26802444458008</dd><dt><span>comment :</span></dt><dd>Defined using CF convention &#x27;Sea water salinity is the salt content of sea water, often on the Practical Salinity Scale of 1978. However, the unqualified term &#x27;salinity&#x27; is generic and does not necessarily imply any particular method of calculation. The units of salinity are dimensionless and the units attribute should normally be given as 1e-3 or 0.001 i.e. parts per thousand.&#x27; see https://cfconventions.org/Data/cf-standard-names/73/build/cf-standard-name-table.html</dd><dt><span>origname :</span></dt><dd>SALT</dd><dt><span>fullnamepath :</span></dt><dd>/SALT</dd></dl></div><div class='xr-var-data'><pre>[224640 values with dtype=float32]</pre></div></li><li class='xr-var-item'><div class='xr-var-name'><span>SST</span></div><div class='xr-var-dims'>(time, latitude, longitude)</div><div class='xr-var-dtype'>float32</div><div class='xr-var-preview xr-preview'>...</div><input id='attrs-58fded44-5317-47f1-a3bd-00dd89df8194' class='xr-var-attrs-in' type='checkbox' ><label for='attrs-58fded44-5317-47f1-a3bd-00dd89df8194' title='Show/Hide attributes'><svg class='icon xr-icon-file-text2'><use xlink:href='#icon-file-text2'></use></svg></label><input id='data-b97b296e-57ee-4c90-b8c4-43e077abc4b6' class='xr-var-data-in' type='checkbox'><label for='data-b97b296e-57ee-4c90-b8c4-43e077abc4b6' title='Show/Hide data repr'><svg class='icon xr-icon-database'><use xlink:href='#icon-database'></use></svg></label><div class='xr-var-attrs'><dl class='xr-attrs'><dt><span>coverage_content_type :</span></dt><dd>modelResult</dd><dt><span>long_name :</span></dt><dd>Potential temperature </dd><dt><span>standard_name :</span></dt><dd>sea_water_potential_temperature</dd><dt><span>units :</span></dt><dd>degree_C</dd><dt><span>comment :</span></dt><dd>Sea water potential temperature is the temperature a parcel of sea water would have if moved adiabatically to sea level pressure. Note: the equation of state is a modified UNESCO formula by Jackett and McDougall (1995), which uses the model variable potential temperature as input assuming a horizontally and temporally constant pressure of $p_0=-g \rho_{0} z$.</dd><dt><span>valid_min :</span></dt><dd>-2.2909388542175293</dd><dt><span>valid_max :</span></dt><dd>36.032955169677734</dd><dt><span>origname :</span></dt><dd>THETA</dd><dt><span>fullnamepath :</span></dt><dd>/THETA</dd></dl></div><div class='xr-var-data'><pre>[224640 values with dtype=float32]</pre></div></li></ul></div></li><li class='xr-section-item'><input id='section-d26b3ecf-b335-4392-a64b-9b74d4517c2e' class='xr-section-summary-in' type='checkbox'  ><label for='section-d26b3ecf-b335-4392-a64b-9b74d4517c2e' class='xr-section-summary' >Indexes: <span>(3)</span></label><div class='xr-section-inline-details'></div><div class='xr-section-details'><ul class='xr-var-list'><li class='xr-var-item'><div class='xr-index-name'><div>latitude</div></div><div class='xr-index-preview'>PandasIndex</div><div></div><input id='index-4e38f1dc-e47f-4577-9cca-10778716217b' class='xr-index-data-in' type='checkbox'/><label for='index-4e38f1dc-e47f-4577-9cca-10778716217b' title='Show/Hide index repr'><svg class='icon xr-icon-database'><use xlink:href='#icon-database'></use></svg></label><div class='xr-index-data'><pre>PandasIndex(Index([-59.75], dtype=&#x27;float32&#x27;, name=&#x27;latitude&#x27;))</pre></div></li><li class='xr-var-item'><div class='xr-index-name'><div>longitude</div></div><div class='xr-index-preview'>PandasIndex</div><div></div><input id='index-b2395349-0845-48f8-bd92-accb8b4c4810' class='xr-index-data-in' type='checkbox'/><label for='index-b2395349-0845-48f8-bd92-accb8b4c4810' title='Show/Hide index repr'><svg class='icon xr-icon-database'><use xlink:href='#icon-database'></use></svg></label><div class='xr-index-data'><pre>PandasIndex(Index([-179.75, -179.25, -178.75, -178.25, -177.75, -177.25, -176.75, -176.25,\n       -175.75, -175.25,\n       ...\n        175.25,  175.75,  176.25,  176.75,  177.25,  177.75,  178.25,  178.75,\n        179.25,  179.75],\n      dtype=&#x27;float32&#x27;, name=&#x27;longitude&#x27;, length=720))</pre></div></li><li class='xr-var-item'><div class='xr-index-name'><div>time</div></div><div class='xr-index-preview'>PandasIndex</div><div></div><input id='index-b943c04c-dde7-4f6d-9f94-2f5393e73f3d' class='xr-index-data-in' type='checkbox'/><label for='index-b943c04c-dde7-4f6d-9f94-2f5393e73f3d' title='Show/Hide index repr'><svg class='icon xr-icon-database'><use xlink:href='#icon-database'></use></svg></label><div class='xr-index-data'><pre>PandasIndex(DatetimeIndex([&#x27;1992-01-16 18:00:00&#x27;, &#x27;1992-02-15 12:00:00&#x27;,\n               &#x27;1992-03-16 12:00:00&#x27;, &#x27;1992-04-16 00:00:00&#x27;,\n               &#x27;1992-05-16 12:00:00&#x27;, &#x27;1992-06-16 00:00:00&#x27;,\n               &#x27;1992-07-16 12:00:00&#x27;, &#x27;1992-08-16 12:00:00&#x27;,\n               &#x27;1992-09-16 00:00:00&#x27;, &#x27;1992-10-16 12:00:00&#x27;,\n               ...\n               &#x27;2017-03-16 12:00:00&#x27;, &#x27;2017-04-16 00:00:00&#x27;,\n               &#x27;2017-05-16 12:00:00&#x27;, &#x27;2017-06-16 00:00:00&#x27;,\n               &#x27;2017-07-16 12:00:00&#x27;, &#x27;2017-08-16 12:00:00&#x27;,\n               &#x27;2017-09-16 00:00:00&#x27;, &#x27;2017-10-16 12:00:00&#x27;,\n               &#x27;2017-11-16 00:00:00&#x27;, &#x27;2017-12-16 06:00:00&#x27;],\n              dtype=&#x27;datetime64[ns]&#x27;, name=&#x27;time&#x27;, length=312, freq=None))</pre></div></li></ul></div></li><li class='xr-section-item'><input id='section-d9945610-fe5d-4ef2-8248-ddcf328cd6ed' class='xr-section-summary-in' type='checkbox' disabled ><label for='section-d9945610-fe5d-4ef2-8248-ddcf328cd6ed' class='xr-section-summary'  title='Expand/collapse section'>Attributes: <span>(0)</span></label><div class='xr-section-inline-details'></div><div class='xr-section-details'><dl class='xr-attrs'></dl></div></li></ul></div></div>"
     },
     "execution_count": 758,
     "metadata": {},
     "output_type": "execute_result"
    }
   ],
   "source": [
    "# Retrieve the input covariates (ecco surface variables)\n",
    "inputs = xr.open_dataset(f\"{data_home}/ecco_data_minimal/{format_lat_lon(lat)}.nc\").isel(latitude=slice(1,2))\n",
    "if lat == -30:\n",
    "    inputs = mask_30S(inputs)  # when working at 30S, they have to be masked, otherwise not\n",
    "if lat == -55:\n",
    "    inputs = inputs.dropna('longitude', how = 'all')\n",
    "inputs"
   ],
   "metadata": {
    "collapsed": false,
    "ExecuteTime": {
     "end_time": "2024-03-11T21:06:24.790198300Z",
     "start_time": "2024-03-11T21:06:24.762867400Z"
    }
   }
  },
  {
   "cell_type": "code",
   "execution_count": 759,
   "outputs": [
    {
     "data": {
      "text/plain": "<xarray.Dataset>\nDimensions:   (time: 312, latitude: 1)\nCoordinates:\n  * time      (time) datetime64[ns] 1992-01-16T18:00:00 ... 2017-12-16T06:00:00\n  * latitude  (latitude) int32 -60\nData variables:\n    moc       (time, latitude) float64 -13.38 -14.45 -6.522 ... 2.564 -15.85",
      "text/html": "<div><svg style=\"position: absolute; width: 0; height: 0; overflow: hidden\">\n<defs>\n<symbol id=\"icon-database\" viewBox=\"0 0 32 32\">\n<path d=\"M16 0c-8.837 0-16 2.239-16 5v4c0 2.761 7.163 5 16 5s16-2.239 16-5v-4c0-2.761-7.163-5-16-5z\"></path>\n<path d=\"M16 17c-8.837 0-16-2.239-16-5v6c0 2.761 7.163 5 16 5s16-2.239 16-5v-6c0 2.761-7.163 5-16 5z\"></path>\n<path d=\"M16 26c-8.837 0-16-2.239-16-5v6c0 2.761 7.163 5 16 5s16-2.239 16-5v-6c0 2.761-7.163 5-16 5z\"></path>\n</symbol>\n<symbol id=\"icon-file-text2\" viewBox=\"0 0 32 32\">\n<path d=\"M28.681 7.159c-0.694-0.947-1.662-2.053-2.724-3.116s-2.169-2.030-3.116-2.724c-1.612-1.182-2.393-1.319-2.841-1.319h-15.5c-1.378 0-2.5 1.121-2.5 2.5v27c0 1.378 1.122 2.5 2.5 2.5h23c1.378 0 2.5-1.122 2.5-2.5v-19.5c0-0.448-0.137-1.23-1.319-2.841zM24.543 5.457c0.959 0.959 1.712 1.825 2.268 2.543h-4.811v-4.811c0.718 0.556 1.584 1.309 2.543 2.268zM28 29.5c0 0.271-0.229 0.5-0.5 0.5h-23c-0.271 0-0.5-0.229-0.5-0.5v-27c0-0.271 0.229-0.5 0.5-0.5 0 0 15.499-0 15.5 0v7c0 0.552 0.448 1 1 1h7v19.5z\"></path>\n<path d=\"M23 26h-14c-0.552 0-1-0.448-1-1s0.448-1 1-1h14c0.552 0 1 0.448 1 1s-0.448 1-1 1z\"></path>\n<path d=\"M23 22h-14c-0.552 0-1-0.448-1-1s0.448-1 1-1h14c0.552 0 1 0.448 1 1s-0.448 1-1 1z\"></path>\n<path d=\"M23 18h-14c-0.552 0-1-0.448-1-1s0.448-1 1-1h14c0.552 0 1 0.448 1 1s-0.448 1-1 1z\"></path>\n</symbol>\n</defs>\n</svg>\n<style>/* CSS stylesheet for displaying xarray objects in jupyterlab.\n *\n */\n\n:root {\n  --xr-font-color0: var(--jp-content-font-color0, rgba(0, 0, 0, 1));\n  --xr-font-color2: var(--jp-content-font-color2, rgba(0, 0, 0, 0.54));\n  --xr-font-color3: var(--jp-content-font-color3, rgba(0, 0, 0, 0.38));\n  --xr-border-color: var(--jp-border-color2, #e0e0e0);\n  --xr-disabled-color: var(--jp-layout-color3, #bdbdbd);\n  --xr-background-color: var(--jp-layout-color0, white);\n  --xr-background-color-row-even: var(--jp-layout-color1, white);\n  --xr-background-color-row-odd: var(--jp-layout-color2, #eeeeee);\n}\n\nhtml[theme=dark],\nbody[data-theme=dark],\nbody.vscode-dark {\n  --xr-font-color0: rgba(255, 255, 255, 1);\n  --xr-font-color2: rgba(255, 255, 255, 0.54);\n  --xr-font-color3: rgba(255, 255, 255, 0.38);\n  --xr-border-color: #1F1F1F;\n  --xr-disabled-color: #515151;\n  --xr-background-color: #111111;\n  --xr-background-color-row-even: #111111;\n  --xr-background-color-row-odd: #313131;\n}\n\n.xr-wrap {\n  display: block !important;\n  min-width: 300px;\n  max-width: 700px;\n}\n\n.xr-text-repr-fallback {\n  /* fallback to plain text repr when CSS is not injected (untrusted notebook) */\n  display: none;\n}\n\n.xr-header {\n  padding-top: 6px;\n  padding-bottom: 6px;\n  margin-bottom: 4px;\n  border-bottom: solid 1px var(--xr-border-color);\n}\n\n.xr-header > div,\n.xr-header > ul {\n  display: inline;\n  margin-top: 0;\n  margin-bottom: 0;\n}\n\n.xr-obj-type,\n.xr-array-name {\n  margin-left: 2px;\n  margin-right: 10px;\n}\n\n.xr-obj-type {\n  color: var(--xr-font-color2);\n}\n\n.xr-sections {\n  padding-left: 0 !important;\n  display: grid;\n  grid-template-columns: 150px auto auto 1fr 20px 20px;\n}\n\n.xr-section-item {\n  display: contents;\n}\n\n.xr-section-item input {\n  display: none;\n}\n\n.xr-section-item input + label {\n  color: var(--xr-disabled-color);\n}\n\n.xr-section-item input:enabled + label {\n  cursor: pointer;\n  color: var(--xr-font-color2);\n}\n\n.xr-section-item input:enabled + label:hover {\n  color: var(--xr-font-color0);\n}\n\n.xr-section-summary {\n  grid-column: 1;\n  color: var(--xr-font-color2);\n  font-weight: 500;\n}\n\n.xr-section-summary > span {\n  display: inline-block;\n  padding-left: 0.5em;\n}\n\n.xr-section-summary-in:disabled + label {\n  color: var(--xr-font-color2);\n}\n\n.xr-section-summary-in + label:before {\n  display: inline-block;\n  content: '►';\n  font-size: 11px;\n  width: 15px;\n  text-align: center;\n}\n\n.xr-section-summary-in:disabled + label:before {\n  color: var(--xr-disabled-color);\n}\n\n.xr-section-summary-in:checked + label:before {\n  content: '▼';\n}\n\n.xr-section-summary-in:checked + label > span {\n  display: none;\n}\n\n.xr-section-summary,\n.xr-section-inline-details {\n  padding-top: 4px;\n  padding-bottom: 4px;\n}\n\n.xr-section-inline-details {\n  grid-column: 2 / -1;\n}\n\n.xr-section-details {\n  display: none;\n  grid-column: 1 / -1;\n  margin-bottom: 5px;\n}\n\n.xr-section-summary-in:checked ~ .xr-section-details {\n  display: contents;\n}\n\n.xr-array-wrap {\n  grid-column: 1 / -1;\n  display: grid;\n  grid-template-columns: 20px auto;\n}\n\n.xr-array-wrap > label {\n  grid-column: 1;\n  vertical-align: top;\n}\n\n.xr-preview {\n  color: var(--xr-font-color3);\n}\n\n.xr-array-preview,\n.xr-array-data {\n  padding: 0 5px !important;\n  grid-column: 2;\n}\n\n.xr-array-data,\n.xr-array-in:checked ~ .xr-array-preview {\n  display: none;\n}\n\n.xr-array-in:checked ~ .xr-array-data,\n.xr-array-preview {\n  display: inline-block;\n}\n\n.xr-dim-list {\n  display: inline-block !important;\n  list-style: none;\n  padding: 0 !important;\n  margin: 0;\n}\n\n.xr-dim-list li {\n  display: inline-block;\n  padding: 0;\n  margin: 0;\n}\n\n.xr-dim-list:before {\n  content: '(';\n}\n\n.xr-dim-list:after {\n  content: ')';\n}\n\n.xr-dim-list li:not(:last-child):after {\n  content: ',';\n  padding-right: 5px;\n}\n\n.xr-has-index {\n  font-weight: bold;\n}\n\n.xr-var-list,\n.xr-var-item {\n  display: contents;\n}\n\n.xr-var-item > div,\n.xr-var-item label,\n.xr-var-item > .xr-var-name span {\n  background-color: var(--xr-background-color-row-even);\n  margin-bottom: 0;\n}\n\n.xr-var-item > .xr-var-name:hover span {\n  padding-right: 5px;\n}\n\n.xr-var-list > li:nth-child(odd) > div,\n.xr-var-list > li:nth-child(odd) > label,\n.xr-var-list > li:nth-child(odd) > .xr-var-name span {\n  background-color: var(--xr-background-color-row-odd);\n}\n\n.xr-var-name {\n  grid-column: 1;\n}\n\n.xr-var-dims {\n  grid-column: 2;\n}\n\n.xr-var-dtype {\n  grid-column: 3;\n  text-align: right;\n  color: var(--xr-font-color2);\n}\n\n.xr-var-preview {\n  grid-column: 4;\n}\n\n.xr-index-preview {\n  grid-column: 2 / 5;\n  color: var(--xr-font-color2);\n}\n\n.xr-var-name,\n.xr-var-dims,\n.xr-var-dtype,\n.xr-preview,\n.xr-attrs dt {\n  white-space: nowrap;\n  overflow: hidden;\n  text-overflow: ellipsis;\n  padding-right: 10px;\n}\n\n.xr-var-name:hover,\n.xr-var-dims:hover,\n.xr-var-dtype:hover,\n.xr-attrs dt:hover {\n  overflow: visible;\n  width: auto;\n  z-index: 1;\n}\n\n.xr-var-attrs,\n.xr-var-data,\n.xr-index-data {\n  display: none;\n  background-color: var(--xr-background-color) !important;\n  padding-bottom: 5px !important;\n}\n\n.xr-var-attrs-in:checked ~ .xr-var-attrs,\n.xr-var-data-in:checked ~ .xr-var-data,\n.xr-index-data-in:checked ~ .xr-index-data {\n  display: block;\n}\n\n.xr-var-data > table {\n  float: right;\n}\n\n.xr-var-name span,\n.xr-var-data,\n.xr-index-name div,\n.xr-index-data,\n.xr-attrs {\n  padding-left: 25px !important;\n}\n\n.xr-attrs,\n.xr-var-attrs,\n.xr-var-data,\n.xr-index-data {\n  grid-column: 1 / -1;\n}\n\ndl.xr-attrs {\n  padding: 0;\n  margin: 0;\n  display: grid;\n  grid-template-columns: 125px auto;\n}\n\n.xr-attrs dt,\n.xr-attrs dd {\n  padding: 0;\n  margin: 0;\n  float: left;\n  padding-right: 10px;\n  width: auto;\n}\n\n.xr-attrs dt {\n  font-weight: normal;\n  grid-column: 1;\n}\n\n.xr-attrs dt:hover span {\n  display: inline-block;\n  background: var(--xr-background-color);\n  padding-right: 10px;\n}\n\n.xr-attrs dd {\n  grid-column: 2;\n  white-space: pre-wrap;\n  word-break: break-all;\n}\n\n.xr-icon-database,\n.xr-icon-file-text2,\n.xr-no-icon {\n  display: inline-block;\n  vertical-align: middle;\n  width: 1em;\n  height: 1.5em !important;\n  stroke-width: 0;\n  stroke: currentColor;\n  fill: currentColor;\n}\n</style><pre class='xr-text-repr-fallback'>&lt;xarray.Dataset&gt;\nDimensions:   (time: 312, latitude: 1)\nCoordinates:\n  * time      (time) datetime64[ns] 1992-01-16T18:00:00 ... 2017-12-16T06:00:00\n  * latitude  (latitude) int32 -60\nData variables:\n    moc       (time, latitude) float64 -13.38 -14.45 -6.522 ... 2.564 -15.85</pre><div class='xr-wrap' style='display:none'><div class='xr-header'><div class='xr-obj-type'>xarray.Dataset</div></div><ul class='xr-sections'><li class='xr-section-item'><input id='section-d0800228-ac2f-4ba6-99cf-6c14a88270e8' class='xr-section-summary-in' type='checkbox' disabled ><label for='section-d0800228-ac2f-4ba6-99cf-6c14a88270e8' class='xr-section-summary'  title='Expand/collapse section'>Dimensions:</label><div class='xr-section-inline-details'><ul class='xr-dim-list'><li><span class='xr-has-index'>time</span>: 312</li><li><span class='xr-has-index'>latitude</span>: 1</li></ul></div><div class='xr-section-details'></div></li><li class='xr-section-item'><input id='section-789b7d94-7ea6-4850-9c6e-c2dd1c512065' class='xr-section-summary-in' type='checkbox'  checked><label for='section-789b7d94-7ea6-4850-9c6e-c2dd1c512065' class='xr-section-summary' >Coordinates: <span>(2)</span></label><div class='xr-section-inline-details'></div><div class='xr-section-details'><ul class='xr-var-list'><li class='xr-var-item'><div class='xr-var-name'><span class='xr-has-index'>time</span></div><div class='xr-var-dims'>(time)</div><div class='xr-var-dtype'>datetime64[ns]</div><div class='xr-var-preview xr-preview'>1992-01-16T18:00:00 ... 2017-12-...</div><input id='attrs-2d0c0ea2-6e66-4b10-bfd2-5cabad4cffeb' class='xr-var-attrs-in' type='checkbox' ><label for='attrs-2d0c0ea2-6e66-4b10-bfd2-5cabad4cffeb' title='Show/Hide attributes'><svg class='icon xr-icon-file-text2'><use xlink:href='#icon-file-text2'></use></svg></label><input id='data-61182acf-8e1b-4618-9f5e-480b618d5c12' class='xr-var-data-in' type='checkbox'><label for='data-61182acf-8e1b-4618-9f5e-480b618d5c12' title='Show/Hide data repr'><svg class='icon xr-icon-database'><use xlink:href='#icon-database'></use></svg></label><div class='xr-var-attrs'><dl class='xr-attrs'><dt><span>axis :</span></dt><dd>T</dd><dt><span>bounds :</span></dt><dd>time_bnds</dd><dt><span>coverage_content_type :</span></dt><dd>coordinate</dd><dt><span>long_name :</span></dt><dd>center time of averaging period</dd><dt><span>standard_name :</span></dt><dd>time</dd><dt><span>origname :</span></dt><dd>time</dd><dt><span>fullnamepath :</span></dt><dd>/time</dd></dl></div><div class='xr-var-data'><pre>array([&#x27;1992-01-16T18:00:00.000000000&#x27;, &#x27;1992-02-15T12:00:00.000000000&#x27;,\n       &#x27;1992-03-16T12:00:00.000000000&#x27;, ..., &#x27;2017-10-16T12:00:00.000000000&#x27;,\n       &#x27;2017-11-16T00:00:00.000000000&#x27;, &#x27;2017-12-16T06:00:00.000000000&#x27;],\n      dtype=&#x27;datetime64[ns]&#x27;)</pre></div></li><li class='xr-var-item'><div class='xr-var-name'><span class='xr-has-index'>latitude</span></div><div class='xr-var-dims'>(latitude)</div><div class='xr-var-dtype'>int32</div><div class='xr-var-preview xr-preview'>-60</div><input id='attrs-e219646c-1b4f-4bf0-aff7-4445b13d0e88' class='xr-var-attrs-in' type='checkbox' disabled><label for='attrs-e219646c-1b4f-4bf0-aff7-4445b13d0e88' title='Show/Hide attributes'><svg class='icon xr-icon-file-text2'><use xlink:href='#icon-file-text2'></use></svg></label><input id='data-509abd67-c9f9-43b9-917f-48e536fb5791' class='xr-var-data-in' type='checkbox'><label for='data-509abd67-c9f9-43b9-917f-48e536fb5791' title='Show/Hide data repr'><svg class='icon xr-icon-database'><use xlink:href='#icon-database'></use></svg></label><div class='xr-var-attrs'><dl class='xr-attrs'></dl></div><div class='xr-var-data'><pre>array([-60])</pre></div></li></ul></div></li><li class='xr-section-item'><input id='section-941f4d80-8641-4140-9151-4618e13fb832' class='xr-section-summary-in' type='checkbox'  checked><label for='section-941f4d80-8641-4140-9151-4618e13fb832' class='xr-section-summary' >Data variables: <span>(1)</span></label><div class='xr-section-inline-details'></div><div class='xr-section-details'><ul class='xr-var-list'><li class='xr-var-item'><div class='xr-var-name'><span>moc</span></div><div class='xr-var-dims'>(time, latitude)</div><div class='xr-var-dtype'>float64</div><div class='xr-var-preview xr-preview'>-13.38 -14.45 ... 2.564 -15.85</div><input id='attrs-34266b29-016d-4d3d-8ebd-b1e59e394670' class='xr-var-attrs-in' type='checkbox' disabled><label for='attrs-34266b29-016d-4d3d-8ebd-b1e59e394670' title='Show/Hide attributes'><svg class='icon xr-icon-file-text2'><use xlink:href='#icon-file-text2'></use></svg></label><input id='data-b4d3341e-4c0f-43e0-9a02-d1c4da9b2ed3' class='xr-var-data-in' type='checkbox'><label for='data-b4d3341e-4c0f-43e0-9a02-d1c4da9b2ed3' title='Show/Hide data repr'><svg class='icon xr-icon-database'><use xlink:href='#icon-database'></use></svg></label><div class='xr-var-attrs'><dl class='xr-attrs'></dl></div><div class='xr-var-data'><pre>array([[-13.37780965],\n       [-14.44895862],\n       [ -6.52207588],\n       [ -4.79137282],\n       [-17.0942069 ],\n       [-28.6927577 ],\n       [-14.33881945],\n       [-14.36996453],\n       [  3.04985339],\n       [-10.31413795],\n       [ -0.16438731],\n       [-15.80751851],\n       [-26.74494768],\n       [ -5.97257702],\n       [ -8.23962136],\n       [ -7.26334411],\n       [-10.73908844],\n       [ -7.02339701],\n       [ -2.18592039],\n       [-10.03427811],\n...\n       [-14.21632523],\n       [-14.46797122],\n       [-11.17647342],\n       [-18.24675461],\n       [ -3.3126004 ],\n       [ -8.80458616],\n       [-20.51717631],\n       [-27.14605525],\n       [-25.10372744],\n       [-16.2032986 ],\n       [-20.93277633],\n       [ -6.23208024],\n       [ -6.88180798],\n       [-11.54093252],\n       [-12.15729607],\n       [ -3.40698194],\n       [  0.55996396],\n       [-15.72702886],\n       [  2.56419182],\n       [-15.85334387]])</pre></div></li></ul></div></li><li class='xr-section-item'><input id='section-af5718d6-af28-4b34-8405-7989881e99b9' class='xr-section-summary-in' type='checkbox'  ><label for='section-af5718d6-af28-4b34-8405-7989881e99b9' class='xr-section-summary' >Indexes: <span>(2)</span></label><div class='xr-section-inline-details'></div><div class='xr-section-details'><ul class='xr-var-list'><li class='xr-var-item'><div class='xr-index-name'><div>time</div></div><div class='xr-index-preview'>PandasIndex</div><div></div><input id='index-0e760b55-a894-4816-bdca-e0a74e220ccb' class='xr-index-data-in' type='checkbox'/><label for='index-0e760b55-a894-4816-bdca-e0a74e220ccb' title='Show/Hide index repr'><svg class='icon xr-icon-database'><use xlink:href='#icon-database'></use></svg></label><div class='xr-index-data'><pre>PandasIndex(DatetimeIndex([&#x27;1992-01-16 18:00:00&#x27;, &#x27;1992-02-15 12:00:00&#x27;,\n               &#x27;1992-03-16 12:00:00&#x27;, &#x27;1992-04-16 00:00:00&#x27;,\n               &#x27;1992-05-16 12:00:00&#x27;, &#x27;1992-06-16 00:00:00&#x27;,\n               &#x27;1992-07-16 12:00:00&#x27;, &#x27;1992-08-16 12:00:00&#x27;,\n               &#x27;1992-09-16 00:00:00&#x27;, &#x27;1992-10-16 12:00:00&#x27;,\n               ...\n               &#x27;2017-03-16 12:00:00&#x27;, &#x27;2017-04-16 00:00:00&#x27;,\n               &#x27;2017-05-16 12:00:00&#x27;, &#x27;2017-06-16 00:00:00&#x27;,\n               &#x27;2017-07-16 12:00:00&#x27;, &#x27;2017-08-16 12:00:00&#x27;,\n               &#x27;2017-09-16 00:00:00&#x27;, &#x27;2017-10-16 12:00:00&#x27;,\n               &#x27;2017-11-16 00:00:00&#x27;, &#x27;2017-12-16 06:00:00&#x27;],\n              dtype=&#x27;datetime64[ns]&#x27;, name=&#x27;time&#x27;, length=312, freq=None))</pre></div></li><li class='xr-var-item'><div class='xr-index-name'><div>latitude</div></div><div class='xr-index-preview'>PandasIndex</div><div></div><input id='index-11c55e3b-8def-4dcd-ae0c-db3bd68a683b' class='xr-index-data-in' type='checkbox'/><label for='index-11c55e3b-8def-4dcd-ae0c-db3bd68a683b' title='Show/Hide index repr'><svg class='icon xr-icon-database'><use xlink:href='#icon-database'></use></svg></label><div class='xr-index-data'><pre>PandasIndex(Index([-60], dtype=&#x27;int32&#x27;, name=&#x27;latitude&#x27;))</pre></div></li></ul></div></li><li class='xr-section-item'><input id='section-59e2f538-9970-4bcb-9630-ccae23696ada' class='xr-section-summary-in' type='checkbox' disabled ><label for='section-59e2f538-9970-4bcb-9630-ccae23696ada' class='xr-section-summary'  title='Expand/collapse section'>Attributes: <span>(0)</span></label><div class='xr-section-inline-details'></div><div class='xr-section-details'><dl class='xr-attrs'></dl></div></li></ul></div></div>"
     },
     "execution_count": 759,
     "metadata": {},
     "output_type": "execute_result"
    }
   ],
   "source": [
    "# Retrieve the output streamfunctions to train on (in density space)\n",
    "outputs_fp = f\"{data_home}/ecco_data_minimal/{format_lat_lon(lat)}_moc_density.pickle\"\n",
    "\n",
    "with open(outputs_fp, 'rb') as f:\n",
    "    outputs = pickle.load(f).astype(np.float64)\n",
    "outputs = np.expand_dims(outputs, 1) # grabbing just 30S\n",
    "\n",
    "outputs = xr.Dataset(\n",
    "            data_vars = {'moc' : ([\"time\", \"latitude\"], outputs)}, \n",
    "            coords = {'time' : inputs.time, 'latitude' : np.atleast_1d(lat),}\n",
    "        )\n",
    "\n",
    "outputs"
   ],
   "metadata": {
    "collapsed": false,
    "ExecuteTime": {
     "end_time": "2024-03-11T21:06:25.189633200Z",
     "start_time": "2024-03-11T21:06:25.157390200Z"
    }
   }
  },
  {
   "cell_type": "code",
   "execution_count": 760,
   "metadata": {
    "ExecuteTime": {
     "end_time": "2024-03-11T21:06:25.534843700Z",
     "start_time": "2024-03-11T21:06:25.516444Z"
    }
   },
   "outputs": [],
   "source": [
    "def align_dates(inputs, outputs):\n",
    "\n",
    "    # Align the dates according to the data available for in- and output\n",
    "    date_range = (inputs.time.values[0], inputs.time.values[-1]) # grabbing start and end date for inputs\n",
    "    date_range = tuple([str(d).split('T')[0] for d in date_range]) # extracting just the date, w/o time\n",
    "    print('Date range to align to:', date_range)\n",
    "    return align_inputs_outputs(inputs, outputs, date_range = date_range, ecco=False)"
   ]
  },
  {
   "cell_type": "code",
   "execution_count": 761,
   "metadata": {
    "ExecuteTime": {
     "end_time": "2024-03-11T21:06:25.978406700Z",
     "start_time": "2024-03-11T21:06:25.954531300Z"
    }
   },
   "outputs": [],
   "source": [
    "def preprocess_inputs(inputs, history=1, coords = [\"time\"]):\n",
    "\n",
    "    pp_data_surface = apply_preprocessing(inputs,\n",
    "                              mode=\"inputs\",\n",
    "                              remove_season=False,\n",
    "                              remove_trend=False,\n",
    "                              standardize=True,\n",
    "                              lowpass=False)\n",
    "\n",
    "    return reshape_inputs(pp_data_surface, history=history, keep_coords=coords, data_vars=[\"OBP\", \"ZWS\"])"
   ]
  },
  {
   "cell_type": "code",
   "execution_count": 762,
   "outputs": [],
   "source": [
    "def preprocess_outputs(outputs, X):\n",
    "    # MOC strength preprocessing\n",
    "    strength = apply_preprocessing(outputs,\n",
    "                               mode=\"outputs\",\n",
    "                               remove_season=False,\n",
    "                               remove_trend=False,\n",
    "                               standardize=False,\n",
    "                               lowpass=False)\n",
    "    strength_np = strength.moc.squeeze().values\n",
    "    \n",
    "    # Necessary step to do convolutions along the right axis with pytorch tensors!\n",
    "    dims = list(range(X.ndim))  \n",
    "    dims[1], dims[-1] = dims[-1], dims[1]\n",
    "    X = np.transpose(X, dims)\n",
    "\n",
    "    conv_dims = 1\n",
    "    if len(X.shape) == (conv_dims + 1):\n",
    "        X = np.expand_dims(X, axis=-1)\n",
    "\n",
    "    y = strength_np[-X.shape[0]:]\n",
    "    \n",
    "    \"\"\"\n",
    "    print()\n",
    "    print('Inputs shape:', X.shape)\n",
    "    print('Extra inputs shape:', X_extra.shape)\n",
    "    print('Outputs shape:', y.shape)\n",
    "    \"\"\"\n",
    "    return y"
   ],
   "metadata": {
    "collapsed": false,
    "ExecuteTime": {
     "end_time": "2024-03-11T21:06:26.341672900Z",
     "start_time": "2024-03-11T21:06:26.327407600Z"
    }
   }
  },
  {
   "cell_type": "code",
   "execution_count": 763,
   "outputs": [],
   "source": [
    "def define_train_and_validation_sets(X, y):\n",
    "\n",
    "    X_train, X_test, y_train, y_test = train_test_split(X, y, test_size=0.2, shuffle=False, stratify=None, random_state=123456)\n",
    "    X_train, X_valid, y_train, y_valid = train_test_split(X_train, y_train, test_size=0.1, shuffle=False, stratify=None, random_state=123456)\n",
    "\n",
    "    device = \"cuda\" if t.cuda.is_available() else \"cpu\"\n",
    "\n",
    "    Xt_train = t.tensor(X_train, device=device).double()\n",
    "    Yt_train = t.tensor(y_train, device=device).double()\n",
    "    Xt_valid = t.tensor(X_valid, device=device).double()\n",
    "    Yt_valid = t.tensor(y_valid, device=device).double()\n",
    "    Xt_test = t.tensor(X_test, device=device).double()\n",
    "    Yt_test = t.tensor(y_test, device=device).double()\n",
    "    return Xt_train, Yt_train, Xt_valid, Yt_valid, Xt_test, Yt_test"
   ],
   "metadata": {
    "collapsed": false,
    "ExecuteTime": {
     "end_time": "2024-03-11T21:06:26.926417100Z",
     "start_time": "2024-03-11T21:06:26.919224700Z"
    }
   }
  },
  {
   "cell_type": "markdown",
   "source": [
    "## Running Neural Networks Trainings"
   ],
   "metadata": {
    "collapsed": false
   }
  },
  {
   "cell_type": "code",
   "execution_count": 764,
   "outputs": [],
   "source": [
    "def get_input(outputs, inputs, history=1):\n",
    "\n",
    "    inputs, outputs = align_dates(inputs, outputs)\n",
    "    X = preprocess_inputs(inputs, history=history)\n",
    "    print(X.shape)\n",
    "    y = preprocess_outputs(outputs, X)\n",
    "    \n",
    "    return define_train_and_validation_sets(X, y)"
   ],
   "metadata": {
    "collapsed": false,
    "ExecuteTime": {
     "end_time": "2024-03-11T21:06:27.874088500Z",
     "start_time": "2024-03-11T21:06:27.865829800Z"
    }
   }
  },
  {
   "cell_type": "code",
   "execution_count": 765,
   "outputs": [],
   "source": [
    "# Hyperparameters to tune\n",
    "dropout = 0.1\n",
    "n_pure_layers = 1\n",
    "n_mix_layers = 1\n",
    "n_channels_mult = 5\n",
    "kernel_size = 5            #For 2D input change this to (3x3)\n",
    "model_iterations = 1"
   ],
   "metadata": {
    "collapsed": false,
    "ExecuteTime": {
     "end_time": "2024-03-11T21:06:28.403288500Z",
     "start_time": "2024-03-11T21:06:28.399159700Z"
    }
   }
  },
  {
   "cell_type": "code",
   "execution_count": 766,
   "outputs": [
    {
     "data": {
      "text/plain": "<module 'models.train_alt' from 'C:\\\\Users\\\\aline\\\\OTP\\\\models\\\\train_alt.py'>"
     },
     "execution_count": 766,
     "metadata": {},
     "output_type": "execute_result"
    }
   ],
   "source": [
    "import importlib\n",
    "importlib.reload(train_alt)"
   ],
   "metadata": {
    "collapsed": false,
    "ExecuteTime": {
     "end_time": "2024-03-11T21:06:29.041678400Z",
     "start_time": "2024-03-11T21:06:29.024143300Z"
    }
   }
  },
  {
   "cell_type": "code",
   "execution_count": 767,
   "outputs": [],
   "source": [
    "def train_CNN(Xt_train, Yt_train):\n",
    "\n",
    "    model = CNN1D.CNN1D(\n",
    "        n_pure_layers=n_pure_layers, \n",
    "        n_mix_layers=n_mix_layers, \n",
    "        n_features=Xt_train.shape[1], \n",
    "        n_channels=Xt_train.shape[1]*n_channels_mult,\n",
    "        kernel_size=kernel_size,\n",
    "        dropout=dropout, \n",
    "    )\n",
    "\n",
    "    model, train_loss = train_alt.train_model( #, val_loss\n",
    "        model=model, \n",
    "        X_train = Xt_train, \n",
    "        y_train = Yt_train, \n",
    "        #X_val = Xt_valid,\n",
    "        #y_val = Yt_valid, \n",
    "        #early_stopping=True,\n",
    "    )\n",
    "    return model"
   ],
   "metadata": {
    "collapsed": false,
    "ExecuteTime": {
     "end_time": "2024-03-11T21:06:29.390711200Z",
     "start_time": "2024-03-11T21:06:29.367866900Z"
    }
   }
  },
  {
   "cell_type": "code",
   "execution_count": 768,
   "outputs": [],
   "source": [
    "def predict_CNN(model, Xt_train, Yt_train, Xt_valid, Yt_valid, Xt_test, y_test):\n",
    "    model =  model.double()\n",
    "\n",
    "    # Extracting all predictions in time order\n",
    "    train_set_pred = train_alt.predict(model, Xt_train, Yt_train)\n",
    "    valid_set_pred = train_alt.predict(model, Xt_valid, Yt_valid)\n",
    "    test_set_pred = train_alt.predict(model, Xt_test, y_test)\n",
    "    \n",
    "    predictions = {\n",
    "        \"train_set_pred\": train_set_pred, \n",
    "        \"valid_set_pred\": valid_set_pred, \n",
    "        \"test_set_pred\": test_set_pred, \n",
    "        \"all_preds\": np.concatenate([train_set_pred, valid_set_pred, test_set_pred])\n",
    "    }\n",
    "    \n",
    "    print('test set', np.array(test_set_pred).shape)\n",
    "    print(y_test.shape)\n",
    "    \n",
    "    metrics = {\n",
    "        \"rmse\": round(root_mean_squared_error(test_set_pred, y_test), 3),\n",
    "        \"mae\": round(mean_absolute_error(test_set_pred, y_test), 3),\n",
    "        \"mape\": round(mean_absolute_percentage_error(test_set_pred, y_test), 3)*100,        \n",
    "        \"cmape\": round(custom_MAPE(np.array(test_set_pred).squeeze(), y_test.detach().cpu().numpy(), threshold=0.5), 3)*100,\n",
    "        \"test_corr\": round(np.corrcoef(np.array(test_set_pred).squeeze(), y_test)[0, 1], 3),\n",
    "        }\n",
    "    \n",
    "    return predictions, metrics"
   ],
   "metadata": {
    "collapsed": false,
    "ExecuteTime": {
     "end_time": "2024-03-11T21:06:30.054753900Z",
     "start_time": "2024-03-11T21:06:30.029392600Z"
    }
   }
  },
  {
   "cell_type": "code",
   "execution_count": 769,
   "outputs": [
    {
     "name": "stdout",
     "output_type": "stream",
     "text": [
      "Date range to align to: ('1992-01-16', '2017-12-16')\n",
      "axes: ['time', 'history', 'feature']\n",
      "variables: ['OBP', 'ZWS']\n",
      "shape: (312, 1, 2)\n",
      "(312, 1, 2)\n",
      "device: cpu\n",
      "91 parameters.\n"
     ]
    },
    {
     "name": "stderr",
     "output_type": "stream",
     "text": [
      "100%|██████████| 5000/5000 [00:24<00:00, 204.57it/s]\n"
     ]
    },
    {
     "name": "stdout",
     "output_type": "stream",
     "text": [
      "Date range to align to: ('1992-01-16', '2017-12-16')\n",
      "axes: ['time', 'history', 'feature']\n",
      "variables: ['OBP', 'ZWS']\n",
      "shape: (311, 2, 2)\n",
      "(311, 2, 2)\n",
      "device: cpu\n",
      "231 parameters.\n"
     ]
    },
    {
     "name": "stderr",
     "output_type": "stream",
     "text": [
      "100%|██████████| 5000/5000 [01:10<00:00, 70.92it/s] \n"
     ]
    },
    {
     "name": "stdout",
     "output_type": "stream",
     "text": [
      "Date range to align to: ('1992-01-16', '2017-12-16')\n",
      "axes: ['time', 'history', 'feature']\n",
      "variables: ['OBP', 'ZWS']\n",
      "shape: (310, 3, 2)\n",
      "(310, 3, 2)\n",
      "device: cpu\n",
      "421 parameters.\n"
     ]
    },
    {
     "name": "stderr",
     "output_type": "stream",
     "text": [
      "100%|██████████| 5000/5000 [01:12<00:00, 69.35it/s] \n"
     ]
    },
    {
     "name": "stdout",
     "output_type": "stream",
     "text": [
      "Date range to align to: ('1992-01-16', '2017-12-16')\n",
      "axes: ['time', 'history', 'feature']\n",
      "variables: ['OBP', 'ZWS']\n",
      "shape: (309, 4, 2)\n",
      "(309, 4, 2)\n",
      "device: cpu\n",
      "661 parameters.\n"
     ]
    },
    {
     "name": "stderr",
     "output_type": "stream",
     "text": [
      "100%|██████████| 5000/5000 [01:18<00:00, 64.08it/s] \n"
     ]
    },
    {
     "name": "stdout",
     "output_type": "stream",
     "text": [
      "Date range to align to: ('1992-01-16', '2017-12-16')\n",
      "axes: ['time', 'history', 'feature']\n",
      "variables: ['OBP', 'ZWS']\n",
      "shape: (308, 5, 2)\n",
      "(308, 5, 2)\n",
      "device: cpu\n",
      "951 parameters.\n"
     ]
    },
    {
     "name": "stderr",
     "output_type": "stream",
     "text": [
      "100%|██████████| 5000/5000 [01:14<00:00, 67.57it/s] \n"
     ]
    },
    {
     "name": "stdout",
     "output_type": "stream",
     "text": [
      "Date range to align to: ('1992-01-16', '2017-12-16')\n",
      "axes: ['time', 'history', 'feature']\n",
      "variables: ['OBP', 'ZWS']\n",
      "shape: (307, 6, 2)\n",
      "(307, 6, 2)\n",
      "device: cpu\n",
      "1291 parameters.\n"
     ]
    },
    {
     "name": "stderr",
     "output_type": "stream",
     "text": [
      "100%|██████████| 5000/5000 [01:10<00:00, 71.15it/s] \n"
     ]
    },
    {
     "name": "stdout",
     "output_type": "stream",
     "text": [
      "Date range to align to: ('1992-01-16', '2017-12-16')\n",
      "axes: ['time', 'history', 'feature']\n",
      "variables: ['OBP', 'ZWS']\n",
      "shape: (306, 7, 2)\n",
      "(306, 7, 2)\n",
      "device: cpu\n",
      "1681 parameters.\n"
     ]
    },
    {
     "name": "stderr",
     "output_type": "stream",
     "text": [
      "100%|██████████| 5000/5000 [01:11<00:00, 70.35it/s] \n"
     ]
    },
    {
     "name": "stdout",
     "output_type": "stream",
     "text": [
      "Date range to align to: ('1992-01-16', '2017-12-16')\n",
      "axes: ['time', 'history', 'feature']\n",
      "variables: ['OBP', 'ZWS']\n",
      "shape: (305, 8, 2)\n",
      "(305, 8, 2)\n",
      "device: cpu\n",
      "2121 parameters.\n"
     ]
    },
    {
     "name": "stderr",
     "output_type": "stream",
     "text": [
      "100%|██████████| 5000/5000 [01:17<00:00, 64.18it/s] \n"
     ]
    },
    {
     "name": "stdout",
     "output_type": "stream",
     "text": [
      "Date range to align to: ('1992-01-16', '2017-12-16')\n",
      "axes: ['time', 'history', 'feature']\n",
      "variables: ['OBP', 'ZWS']\n",
      "shape: (304, 9, 2)\n",
      "(304, 9, 2)\n",
      "device: cpu\n",
      "2611 parameters.\n"
     ]
    },
    {
     "name": "stderr",
     "output_type": "stream",
     "text": [
      "100%|██████████| 5000/5000 [01:34<00:00, 52.79it/s] \n"
     ]
    },
    {
     "name": "stdout",
     "output_type": "stream",
     "text": [
      "Date range to align to: ('1992-01-16', '2017-12-16')\n",
      "axes: ['time', 'history', 'feature']\n",
      "variables: ['OBP', 'ZWS']\n",
      "shape: (303, 10, 2)\n",
      "(303, 10, 2)\n",
      "device: cpu\n",
      "3151 parameters.\n"
     ]
    },
    {
     "name": "stderr",
     "output_type": "stream",
     "text": [
      "100%|██████████| 5000/5000 [01:38<00:00, 50.52it/s]\n"
     ]
    },
    {
     "name": "stdout",
     "output_type": "stream",
     "text": [
      "Date range to align to: ('1992-01-16', '2017-12-16')\n",
      "axes: ['time', 'history', 'feature']\n",
      "variables: ['OBP', 'ZWS']\n",
      "shape: (302, 11, 2)\n",
      "(302, 11, 2)\n",
      "device: cpu\n",
      "3741 parameters.\n"
     ]
    },
    {
     "name": "stderr",
     "output_type": "stream",
     "text": [
      "100%|██████████| 5000/5000 [01:02<00:00, 80.39it/s] \n"
     ]
    },
    {
     "name": "stdout",
     "output_type": "stream",
     "text": [
      "Date range to align to: ('1992-01-16', '2017-12-16')\n",
      "axes: ['time', 'history', 'feature']\n",
      "variables: ['OBP', 'ZWS']\n",
      "shape: (301, 12, 2)\n",
      "(301, 12, 2)\n",
      "device: cpu\n",
      "4381 parameters.\n"
     ]
    },
    {
     "name": "stderr",
     "output_type": "stream",
     "text": [
      "100%|██████████| 5000/5000 [00:38<00:00, 130.01it/s]\n"
     ]
    },
    {
     "name": "stdout",
     "output_type": "stream",
     "text": [
      "Date range to align to: ('1992-01-16', '2017-12-16')\n",
      "axes: ['time', 'history', 'feature']\n",
      "variables: ['OBP', 'ZWS']\n",
      "shape: (312, 1, 2)\n",
      "(312, 1, 2)\n",
      "test set (63, 1)\n",
      "torch.Size([63])\n",
      "Date range to align to: ('1992-01-16', '2017-12-16')\n",
      "axes: ['time', 'history', 'feature']\n",
      "variables: ['OBP', 'ZWS']\n",
      "shape: (311, 2, 2)\n",
      "(311, 2, 2)\n",
      "test set (63, 1)\n",
      "torch.Size([63])\n",
      "Date range to align to: ('1992-01-16', '2017-12-16')\n",
      "axes: ['time', 'history', 'feature']\n",
      "variables: ['OBP', 'ZWS']\n",
      "shape: (310, 3, 2)\n",
      "(310, 3, 2)\n",
      "test set (62, 1)\n",
      "torch.Size([62])\n",
      "Date range to align to: ('1992-01-16', '2017-12-16')\n",
      "axes: ['time', 'history', 'feature']\n",
      "variables: ['OBP', 'ZWS']\n",
      "shape: (309, 4, 2)\n",
      "(309, 4, 2)\n",
      "test set (62, 1)\n",
      "torch.Size([62])\n",
      "Date range to align to: ('1992-01-16', '2017-12-16')\n",
      "axes: ['time', 'history', 'feature']\n",
      "variables: ['OBP', 'ZWS']\n",
      "shape: (308, 5, 2)\n",
      "(308, 5, 2)\n",
      "test set (62, 1)\n",
      "torch.Size([62])\n",
      "Date range to align to: ('1992-01-16', '2017-12-16')\n",
      "axes: ['time', 'history', 'feature']\n",
      "variables: ['OBP', 'ZWS']\n",
      "shape: (307, 6, 2)\n",
      "(307, 6, 2)\n",
      "test set (62, 1)\n",
      "torch.Size([62])\n",
      "Date range to align to: ('1992-01-16', '2017-12-16')\n",
      "axes: ['time', 'history', 'feature']\n",
      "variables: ['OBP', 'ZWS']\n",
      "shape: (306, 7, 2)\n",
      "(306, 7, 2)\n",
      "test set (62, 1)\n",
      "torch.Size([62])\n",
      "Date range to align to: ('1992-01-16', '2017-12-16')\n",
      "axes: ['time', 'history', 'feature']\n",
      "variables: ['OBP', 'ZWS']\n",
      "shape: (305, 8, 2)\n",
      "(305, 8, 2)\n",
      "test set (61, 1)\n",
      "torch.Size([61])\n",
      "Date range to align to: ('1992-01-16', '2017-12-16')\n",
      "axes: ['time', 'history', 'feature']\n",
      "variables: ['OBP', 'ZWS']\n",
      "shape: (304, 9, 2)\n",
      "(304, 9, 2)\n",
      "test set (61, 1)\n",
      "torch.Size([61])\n",
      "Date range to align to: ('1992-01-16', '2017-12-16')\n",
      "axes: ['time', 'history', 'feature']\n",
      "variables: ['OBP', 'ZWS']\n",
      "shape: (303, 10, 2)\n",
      "(303, 10, 2)\n",
      "test set (61, 1)\n",
      "torch.Size([61])\n",
      "Date range to align to: ('1992-01-16', '2017-12-16')\n",
      "axes: ['time', 'history', 'feature']\n",
      "variables: ['OBP', 'ZWS']\n",
      "shape: (302, 11, 2)\n",
      "(302, 11, 2)\n",
      "test set (61, 1)\n",
      "torch.Size([61])\n",
      "Date range to align to: ('1992-01-16', '2017-12-16')\n",
      "axes: ['time', 'history', 'feature']\n",
      "variables: ['OBP', 'ZWS']\n",
      "shape: (301, 12, 2)\n",
      "(301, 12, 2)\n",
      "test set (61, 1)\n",
      "torch.Size([61])\n"
     ]
    },
    {
     "data": {
      "text/plain": "             mean     std\nrmse        7.868   2.824\nmae         6.480   2.388\nmape       61.992  29.140\ncmape      52.742  12.886\ntest_corr   0.714   0.109",
      "text/html": "<div>\n<style scoped>\n    .dataframe tbody tr th:only-of-type {\n        vertical-align: middle;\n    }\n\n    .dataframe tbody tr th {\n        vertical-align: top;\n    }\n\n    .dataframe thead th {\n        text-align: right;\n    }\n</style>\n<table border=\"1\" class=\"dataframe\">\n  <thead>\n    <tr style=\"text-align: right;\">\n      <th></th>\n      <th>mean</th>\n      <th>std</th>\n    </tr>\n  </thead>\n  <tbody>\n    <tr>\n      <th>rmse</th>\n      <td>7.868</td>\n      <td>2.824</td>\n    </tr>\n    <tr>\n      <th>mae</th>\n      <td>6.480</td>\n      <td>2.388</td>\n    </tr>\n    <tr>\n      <th>mape</th>\n      <td>61.992</td>\n      <td>29.140</td>\n    </tr>\n    <tr>\n      <th>cmape</th>\n      <td>52.742</td>\n      <td>12.886</td>\n    </tr>\n    <tr>\n      <th>test_corr</th>\n      <td>0.714</td>\n      <td>0.109</td>\n    </tr>\n  </tbody>\n</table>\n</div>"
     },
     "metadata": {},
     "output_type": "display_data"
    }
   ],
   "source": [
    "# To loop over several models and compare the performances\n",
    "models = []\n",
    "history = 12\n",
    "for i in range(history):\n",
    "    Xt_train, Yt_train, Xt_valid, Yt_valid, Xt_test, Yt_test = get_input(outputs, inputs, history=i+1)\n",
    "    Xt_train.shape\n",
    "    models.append(train_CNN(Xt_train, Yt_train))\n",
    "\n",
    "predictions_models = []\n",
    "metrics_models = []\n",
    "\n",
    "for i in range(len(models)):\n",
    "    Xt_train, Yt_train, Xt_valid, Yt_valid, Xt_test, Yt_test = get_input(outputs, inputs, history=i+1)\n",
    "    predictions, metrics = predict_CNN(models[i], Xt_train, Yt_train, Xt_valid, Yt_valid, Xt_test, Yt_test )\n",
    "    predictions_models.append(predictions)\n",
    "    metrics_models.append(metrics)\n",
    "\n",
    "metrics_df = pd.DataFrame(metrics_models)\n",
    "summary_metrics_df = pd.DataFrame({\n",
    "                \"mean\": metrics_df.mean().round(3), \n",
    "                \"std\": metrics_df.std().round(3)}\n",
    "            )\n",
    "display(summary_metrics_df)\n",
    "\n",
    "predictions_df = pd.DataFrame(predictions_models)"
   ],
   "metadata": {
    "collapsed": false,
    "ExecuteTime": {
     "end_time": "2024-03-11T21:20:32.484101Z",
     "start_time": "2024-03-11T21:06:30.415751500Z"
    }
   }
  },
  {
   "cell_type": "code",
   "execution_count": 696,
   "outputs": [
    {
     "ename": "TypeError",
     "evalue": "predict_CNN() missing 6 required positional arguments: 'Xt_train', 'Yt_train', 'Xt_valid', 'Yt_valid', 'Xt_test', and 'y_test'",
     "output_type": "error",
     "traceback": [
      "\u001B[1;31m---------------------------------------------------------------------------\u001B[0m",
      "\u001B[1;31mTypeError\u001B[0m                                 Traceback (most recent call last)",
      "Cell \u001B[1;32mIn[696], line 2\u001B[0m\n\u001B[0;32m      1\u001B[0m \u001B[38;5;66;03m# For each of the trained models, retrieve the predictions and according metrics\u001B[39;00m\n\u001B[1;32m----> 2\u001B[0m predictions, metrics \u001B[38;5;241m=\u001B[39m \u001B[38;5;28mzip\u001B[39m(\u001B[38;5;241m*\u001B[39m[predict_CNN(model) \u001B[38;5;28;01mfor\u001B[39;00m model \u001B[38;5;129;01min\u001B[39;00m models])\n\u001B[0;32m      4\u001B[0m summary_metrics_df \u001B[38;5;241m=\u001B[39m pd\u001B[38;5;241m.\u001B[39mDataFrame(metrics)\u001B[38;5;241m.\u001B[39magg([\u001B[38;5;124m'\u001B[39m\u001B[38;5;124mmean\u001B[39m\u001B[38;5;124m'\u001B[39m, \u001B[38;5;124m'\u001B[39m\u001B[38;5;124mstd\u001B[39m\u001B[38;5;124m'\u001B[39m])\u001B[38;5;241m.\u001B[39mround(\u001B[38;5;241m3\u001B[39m)\u001B[38;5;241m.\u001B[39mT\n\u001B[0;32m      5\u001B[0m display(summary_metrics_df)\n",
      "Cell \u001B[1;32mIn[696], line 2\u001B[0m, in \u001B[0;36m<listcomp>\u001B[1;34m(.0)\u001B[0m\n\u001B[0;32m      1\u001B[0m \u001B[38;5;66;03m# For each of the trained models, retrieve the predictions and according metrics\u001B[39;00m\n\u001B[1;32m----> 2\u001B[0m predictions, metrics \u001B[38;5;241m=\u001B[39m \u001B[38;5;28mzip\u001B[39m(\u001B[38;5;241m*\u001B[39m[predict_CNN(model) \u001B[38;5;28;01mfor\u001B[39;00m model \u001B[38;5;129;01min\u001B[39;00m models])\n\u001B[0;32m      4\u001B[0m summary_metrics_df \u001B[38;5;241m=\u001B[39m pd\u001B[38;5;241m.\u001B[39mDataFrame(metrics)\u001B[38;5;241m.\u001B[39magg([\u001B[38;5;124m'\u001B[39m\u001B[38;5;124mmean\u001B[39m\u001B[38;5;124m'\u001B[39m, \u001B[38;5;124m'\u001B[39m\u001B[38;5;124mstd\u001B[39m\u001B[38;5;124m'\u001B[39m])\u001B[38;5;241m.\u001B[39mround(\u001B[38;5;241m3\u001B[39m)\u001B[38;5;241m.\u001B[39mT\n\u001B[0;32m      5\u001B[0m display(summary_metrics_df)\n",
      "\u001B[1;31mTypeError\u001B[0m: predict_CNN() missing 6 required positional arguments: 'Xt_train', 'Yt_train', 'Xt_valid', 'Yt_valid', 'Xt_test', and 'y_test'"
     ]
    }
   ],
   "source": [
    "# For each of the trained models, retrieve the predictions and according metrics\n",
    "predictions, metrics = zip(*[predict_CNN(model) for model in models])\n",
    "\n",
    "summary_metrics_df = pd.DataFrame(metrics).agg(['mean', 'std']).round(3).T\n",
    "display(summary_metrics_df)"
   ],
   "metadata": {
    "collapsed": false,
    "ExecuteTime": {
     "end_time": "2024-03-11T17:59:59.708268500Z",
     "start_time": "2024-03-11T17:59:59.681316Z"
    }
   }
  },
  {
   "cell_type": "code",
   "execution_count": 770,
   "outputs": [],
   "source": [
    "metrics_df.to_csv(f\"{paths.LOCAL_DIR}/{lat}_history.csv\")"
   ],
   "metadata": {
    "collapsed": false,
    "ExecuteTime": {
     "end_time": "2024-03-11T21:20:32.511694400Z",
     "start_time": "2024-03-11T21:20:32.473545600Z"
    }
   }
  },
  {
   "cell_type": "code",
   "execution_count": 771,
   "outputs": [],
   "source": [
    "plot_30 = pd.read_csv(f\"{paths.LOCAL_DIR}/-30_history.csv\")\n",
    "plot_55 = pd.read_csv(f\"{paths.LOCAL_DIR}/-55_history.csv\")\n",
    "plot_60 = pd.read_csv(f\"{paths.LOCAL_DIR}/-60_history.csv\")"
   ],
   "metadata": {
    "collapsed": false,
    "ExecuteTime": {
     "end_time": "2024-03-11T21:20:46.818458900Z",
     "start_time": "2024-03-11T21:20:46.773605200Z"
    }
   }
  },
  {
   "cell_type": "code",
   "execution_count": 779,
   "outputs": [
    {
     "data": {
      "text/plain": "<Figure size 1000x400 with 1 Axes>",
      "image/png": "[encoded data removed]"
     },
     "metadata": {},
     "output_type": "display_data"
    }
   ],
   "source": [
    "# Plotting\n",
    "plt.figure(figsize=(10, 4))  # Optional: specifies the figure size\n",
    "plt.plot(plot_30.index, plot_30['mape'], marker='x', linestyle='--', linewidth=1.5, label='30S indo-pacific')  \n",
    "plt.plot(plot_55.index, plot_55['mape'], marker='x', linestyle='--', linewidth=1.5, label='55S southern') \n",
    "plt.plot(plot_60.index, plot_60['mape'], marker='x', linestyle='--', linewidth=1.5, label='60S southern') \n",
    "plt.xlabel('amount of historical data included in training [months]')\n",
    "plt.ylabel('MAPE [%]')\n",
    "plt.legend()\n",
    "plt.xticks(rotation=45)  # Rotates x-axis labels for better readability\n",
    "plt.tight_layout()  # Adjusts subplot params so that the subplot(s) fits in to the figure area.\n",
    "plt.show()"
   ],
   "metadata": {
    "collapsed": false,
    "ExecuteTime": {
     "end_time": "2024-03-11T21:26:55.309811200Z",
     "start_time": "2024-03-11T21:26:55.042447800Z"
    }
   }
  },
  {
   "cell_type": "markdown",
   "source": [
    "## Output visualisation"
   ],
   "metadata": {
    "collapsed": false
   }
  },
  {
   "cell_type": "code",
   "execution_count": 780,
   "outputs": [
    {
     "ename": "ValueError",
     "evalue": "Per-column arrays must each be 1-dimensional",
     "output_type": "error",
     "traceback": [
      "\u001B[1;31m---------------------------------------------------------------------------\u001B[0m",
      "\u001B[1;31mValueError\u001B[0m                                Traceback (most recent call last)",
      "Cell \u001B[1;32mIn[780], line 1\u001B[0m\n\u001B[1;32m----> 1\u001B[0m predictions_df \u001B[38;5;241m=\u001B[39m pd\u001B[38;5;241m.\u001B[39mDataFrame(predictions)\n\u001B[0;32m      2\u001B[0m mean_y \u001B[38;5;241m=\u001B[39m {col: np\u001B[38;5;241m.\u001B[39mmean(np\u001B[38;5;241m.\u001B[39mstack(predictions_df[col]\u001B[38;5;241m.\u001B[39mvalues), axis\u001B[38;5;241m=\u001B[39m\u001B[38;5;241m0\u001B[39m) \u001B[38;5;28;01mfor\u001B[39;00m col \u001B[38;5;129;01min\u001B[39;00m predictions_df}\n\u001B[0;32m      4\u001B[0m time \u001B[38;5;241m=\u001B[39m outputs\u001B[38;5;241m.\u001B[39mtime\u001B[38;5;241m.\u001B[39mvalues[\u001B[38;5;241m-\u001B[39mX\u001B[38;5;241m.\u001B[39mshape[\u001B[38;5;241m0\u001B[39m]:]\n",
      "File \u001B[1;32m~\\mambaforge\\envs\\gtc\\Lib\\site-packages\\pandas\\core\\frame.py:767\u001B[0m, in \u001B[0;36mDataFrame.__init__\u001B[1;34m(self, data, index, columns, dtype, copy)\u001B[0m\n\u001B[0;32m    761\u001B[0m     mgr \u001B[38;5;241m=\u001B[39m \u001B[38;5;28mself\u001B[39m\u001B[38;5;241m.\u001B[39m_init_mgr(\n\u001B[0;32m    762\u001B[0m         data, axes\u001B[38;5;241m=\u001B[39m{\u001B[38;5;124m\"\u001B[39m\u001B[38;5;124mindex\u001B[39m\u001B[38;5;124m\"\u001B[39m: index, \u001B[38;5;124m\"\u001B[39m\u001B[38;5;124mcolumns\u001B[39m\u001B[38;5;124m\"\u001B[39m: columns}, dtype\u001B[38;5;241m=\u001B[39mdtype, copy\u001B[38;5;241m=\u001B[39mcopy\n\u001B[0;32m    763\u001B[0m     )\n\u001B[0;32m    765\u001B[0m \u001B[38;5;28;01melif\u001B[39;00m \u001B[38;5;28misinstance\u001B[39m(data, \u001B[38;5;28mdict\u001B[39m):\n\u001B[0;32m    766\u001B[0m     \u001B[38;5;66;03m# GH#38939 de facto copy defaults to False only in non-dict cases\u001B[39;00m\n\u001B[1;32m--> 767\u001B[0m     mgr \u001B[38;5;241m=\u001B[39m dict_to_mgr(data, index, columns, dtype\u001B[38;5;241m=\u001B[39mdtype, copy\u001B[38;5;241m=\u001B[39mcopy, typ\u001B[38;5;241m=\u001B[39mmanager)\n\u001B[0;32m    768\u001B[0m \u001B[38;5;28;01melif\u001B[39;00m \u001B[38;5;28misinstance\u001B[39m(data, ma\u001B[38;5;241m.\u001B[39mMaskedArray):\n\u001B[0;32m    769\u001B[0m     \u001B[38;5;28;01mfrom\u001B[39;00m \u001B[38;5;21;01mnumpy\u001B[39;00m\u001B[38;5;21;01m.\u001B[39;00m\u001B[38;5;21;01mma\u001B[39;00m \u001B[38;5;28;01mimport\u001B[39;00m mrecords\n",
      "File \u001B[1;32m~\\mambaforge\\envs\\gtc\\Lib\\site-packages\\pandas\\core\\internals\\construction.py:503\u001B[0m, in \u001B[0;36mdict_to_mgr\u001B[1;34m(data, index, columns, dtype, typ, copy)\u001B[0m\n\u001B[0;32m    499\u001B[0m     \u001B[38;5;28;01melse\u001B[39;00m:\n\u001B[0;32m    500\u001B[0m         \u001B[38;5;66;03m# dtype check to exclude e.g. range objects, scalars\u001B[39;00m\n\u001B[0;32m    501\u001B[0m         arrays \u001B[38;5;241m=\u001B[39m [x\u001B[38;5;241m.\u001B[39mcopy() \u001B[38;5;28;01mif\u001B[39;00m \u001B[38;5;28mhasattr\u001B[39m(x, \u001B[38;5;124m\"\u001B[39m\u001B[38;5;124mdtype\u001B[39m\u001B[38;5;124m\"\u001B[39m) \u001B[38;5;28;01melse\u001B[39;00m x \u001B[38;5;28;01mfor\u001B[39;00m x \u001B[38;5;129;01min\u001B[39;00m arrays]\n\u001B[1;32m--> 503\u001B[0m \u001B[38;5;28;01mreturn\u001B[39;00m arrays_to_mgr(arrays, columns, index, dtype\u001B[38;5;241m=\u001B[39mdtype, typ\u001B[38;5;241m=\u001B[39mtyp, consolidate\u001B[38;5;241m=\u001B[39mcopy)\n",
      "File \u001B[1;32m~\\mambaforge\\envs\\gtc\\Lib\\site-packages\\pandas\\core\\internals\\construction.py:114\u001B[0m, in \u001B[0;36marrays_to_mgr\u001B[1;34m(arrays, columns, index, dtype, verify_integrity, typ, consolidate)\u001B[0m\n\u001B[0;32m    111\u001B[0m \u001B[38;5;28;01mif\u001B[39;00m verify_integrity:\n\u001B[0;32m    112\u001B[0m     \u001B[38;5;66;03m# figure out the index, if necessary\u001B[39;00m\n\u001B[0;32m    113\u001B[0m     \u001B[38;5;28;01mif\u001B[39;00m index \u001B[38;5;129;01mis\u001B[39;00m \u001B[38;5;28;01mNone\u001B[39;00m:\n\u001B[1;32m--> 114\u001B[0m         index \u001B[38;5;241m=\u001B[39m _extract_index(arrays)\n\u001B[0;32m    115\u001B[0m     \u001B[38;5;28;01melse\u001B[39;00m:\n\u001B[0;32m    116\u001B[0m         index \u001B[38;5;241m=\u001B[39m ensure_index(index)\n",
      "File \u001B[1;32m~\\mambaforge\\envs\\gtc\\Lib\\site-packages\\pandas\\core\\internals\\construction.py:664\u001B[0m, in \u001B[0;36m_extract_index\u001B[1;34m(data)\u001B[0m\n\u001B[0;32m    662\u001B[0m         raw_lengths\u001B[38;5;241m.\u001B[39mappend(\u001B[38;5;28mlen\u001B[39m(val))\n\u001B[0;32m    663\u001B[0m     \u001B[38;5;28;01melif\u001B[39;00m \u001B[38;5;28misinstance\u001B[39m(val, np\u001B[38;5;241m.\u001B[39mndarray) \u001B[38;5;129;01mand\u001B[39;00m val\u001B[38;5;241m.\u001B[39mndim \u001B[38;5;241m>\u001B[39m \u001B[38;5;241m1\u001B[39m:\n\u001B[1;32m--> 664\u001B[0m         \u001B[38;5;28;01mraise\u001B[39;00m \u001B[38;5;167;01mValueError\u001B[39;00m(\u001B[38;5;124m\"\u001B[39m\u001B[38;5;124mPer-column arrays must each be 1-dimensional\u001B[39m\u001B[38;5;124m\"\u001B[39m)\n\u001B[0;32m    666\u001B[0m \u001B[38;5;28;01mif\u001B[39;00m \u001B[38;5;129;01mnot\u001B[39;00m indexes \u001B[38;5;129;01mand\u001B[39;00m \u001B[38;5;129;01mnot\u001B[39;00m raw_lengths:\n\u001B[0;32m    667\u001B[0m     \u001B[38;5;28;01mraise\u001B[39;00m \u001B[38;5;167;01mValueError\u001B[39;00m(\u001B[38;5;124m\"\u001B[39m\u001B[38;5;124mIf using all scalar values, you must pass an index\u001B[39m\u001B[38;5;124m\"\u001B[39m)\n",
      "\u001B[1;31mValueError\u001B[0m: Per-column arrays must each be 1-dimensional"
     ]
    }
   ],
   "source": [
    "predictions_df = pd.DataFrame(predictions)\n",
    "mean_y = {col: np.mean(np.stack(predictions_df[col].values), axis=0) for col in predictions_df}\n",
    "\n",
    "time = outputs.time.values[-X.shape[0]:]\n",
    "fig, ax = timeseries_comparison(mean_y['all_preds'], y, time, len(X_train))\n",
    "plt.show()"
   ],
   "metadata": {
    "collapsed": false,
    "ExecuteTime": {
     "end_time": "2024-03-11T22:04:33.360931600Z",
     "start_time": "2024-03-11T22:04:31.710579400Z"
    }
   }
  },
  {
   "cell_type": "code",
   "execution_count": 591,
   "outputs": [
    {
     "data": {
      "text/plain": "<Figure size 400x400 with 1 Axes>",
      "image/png": "[encoded data removed]"
     },
     "metadata": {},
     "output_type": "display_data"
    }
   ],
   "source": [
    "# Alternate view: looking at a scatterplot of predicted vs. actual\n",
    "y_pred_train = np.array(mean_y['train_set_pred']).squeeze()\n",
    "y_pred_test = np.array(mean_y['test_set_pred']).squeeze()\n",
    "\n",
    "fig, ax = pred_vs_actual(y_pred_train, y_pred_test, y_train, y_test)\n",
    "plt.show()"
   ],
   "metadata": {
    "collapsed": false,
    "ExecuteTime": {
     "end_time": "2024-03-11T17:05:42.748764400Z",
     "start_time": "2024-03-11T17:05:42.465257800Z"
    }
   }
  },
  {
   "cell_type": "code",
   "execution_count": null,
   "outputs": [],
   "source": [],
   "metadata": {
    "collapsed": false
   }
  }
 ],
 "metadata": {
  "kernelspec": {
   "display_name": "gtc",
   "language": "python",
   "name": "python3"
  },
  "language_info": {
   "codemirror_mode": {
    "name": "ipython",
    "version": 3
   },
   "file_extension": ".py",
   "mimetype": "text/x-python",
   "name": "python",
   "nbconvert_exporter": "python",
   "pygments_lexer": "ipython3",
   "version": "3.12.1"
  }
 },
 "nbformat": 4,
 "nbformat_minor": 2
}
