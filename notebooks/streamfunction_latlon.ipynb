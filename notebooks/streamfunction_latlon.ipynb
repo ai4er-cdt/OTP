{
 "cells": [
  {
   "cell_type": "code",
   "execution_count": 1,
   "metadata": {},
   "outputs": [],
   "source": [
    "import numpy as np\n",
    "import pandas as pd\n",
    "import xarray as xr\n",
    "from geopy.distance import distance\n",
    "# !pip install gsw\n",
    "from gsw.conversions import CT_from_pt\n",
    "from gsw.density import sigma2\n",
    "import matplotlib.pyplot as plt"
   ]
  },
  {
   "cell_type": "code",
   "execution_count": 2,
   "metadata": {},
   "outputs": [],
   "source": [
    "home = \"/mnt/g/My Drive/GTC/solodoch_data_full/60S\""
   ]
  },
  {
   "cell_type": "code",
   "execution_count": 3,
   "metadata": {},
   "outputs": [],
   "source": [
    "# get monthly mean velocity\n",
    "vm = xr.open_mfdataset(f\"{home}/ECCO_L4_OCEAN_VEL_05DEG_MONTHLY_V4R4/*nc\",\n",
    "                        coords=\"minimal\",\n",
    "                        data_vars=\"minimal\",\n",
    "                        parallel=True, compat=\"override\")\n",
    "vm = vm[[\"NVEL\"]].transpose(\"longitude\", \"latitude\", \"Z\", \"time\")\n",
    "vm = vm.rename({\"NVEL\": \"vm\"})\n",
    "\n",
    "# get bolus velocity\n",
    "ve = xr.open_mfdataset(f\"{home}/ECCO_L4_BOLUS_05DEG_MONTHLY_V4R4/*nc\",\n",
    "                        coords=\"minimal\",\n",
    "                        data_vars=\"minimal\",\n",
    "                        parallel=True, compat=\"override\")\n",
    "ve = ve[[\"NVELSTAR\"]].transpose(\"longitude\", \"latitude\", \"Z\", \"time\")\n",
    "ve = ve.rename({\"NVELSTAR\": \"ve\"})\n",
    "\n",
    "# inner join\n",
    "data = xr.merge([vm, ve], join=\"inner\")\n",
    "lat = data[\"latitude\"].to_numpy()[0]\n",
    "lons = data[\"longitude\"].to_numpy()\n",
    "# flip depth axis because we integrate from the bottom up\n",
    "Z = np.flip(data[\"Z\"].to_numpy())[:-1]\n",
    "# get distance between each lat/lon in meters\n",
    "coords = [(lat, lon) for lon in lons]\n",
    "d_lon = [distance(coords[i-1], coords[i]).meters for i in range(1, len(coords))]\n",
    "# get distance bewteen each depth measurement\n",
    "d_z = np.diff(np.flip(data[\"Z\"].to_numpy()))\n",
    "# this is just necessary because I haven't downloaded all the times yet - I need to subset temp/salinity\n",
    "times = data[\"time\"].to_numpy()\n",
    "start = min(times)\n",
    "end = max(times)\n",
    "# convert to numpy to make life easier\n",
    "vm = data[\"vm\"].to_numpy(); vm = np.nan_to_num(vm)\n",
    "ve = data[\"ve\"].to_numpy(); ve = np.nan_to_num(ve)\n",
    "# remember to flip depth axis - axis order is given by the transpose operations above\n",
    "vm = np.flip(vm, axis=2)\n",
    "ve = np.flip(vm, axis=2)\n",
    "# add monthly mean velocity and bolus velocity \n",
    "v = vm + ve\n",
    "# after calculating d_lon and d_z we have to chop off the ends of these axes\n",
    "v = v[:-1, :, :-1, :]"
   ]
  },
  {
   "cell_type": "code",
   "execution_count": 4,
   "metadata": {},
   "outputs": [],
   "source": [
    "# open potential temperature and absolute salinity - needed to calculate sigma_2 -> isopycnals\n",
    "data = xr.open_mfdataset(f\"{home}/ECCO_L4_TEMP_SALINITY_05DEG_MONTHLY_V4R4/*nc\",\n",
    "                        coords=\"minimal\",\n",
    "                        data_vars=\"minimal\",\n",
    "                        parallel=True, compat=\"override\")\n",
    "data = data[[\"SALT\", \"THETA\"]]\n",
    "# subsetting times I have downloaded\n",
    "data = data.sel(time=times)\n",
    "pt = data[\"THETA\"].to_numpy().squeeze()\n",
    "sa = data[\"SALT\"].to_numpy().squeeze()\n",
    "# convert potential temperature to conservative temperature - needed for the next function\n",
    "ct = CT_from_pt(sa, pt)\n",
    "# calculates sigma_2 (potential density at 2000 decibars) from absolute salinity and conservative temperature\n",
    "density = sigma2(sa, ct)\n",
    "# flip depth axis \n",
    "density = np.flip(density, axis=1)[:, :-1, :-1]"
   ]
  },
  {
   "cell_type": "code",
   "execution_count": 5,
   "metadata": {},
   "outputs": [],
   "source": [
    "def psi(dens: float) -> np.ndarray:\n",
    "    \"\"\"\n",
    "    calculate the streamfunction time series given a particular potential density\n",
    "    see solodoch et al., 2023 2.2 for calculation\n",
    "    dens: density for which we want to calculate isopycnal depths\n",
    "    \"\"\"\n",
    "    # isopycnals are particular depths for every longitude at a given point in time\n",
    "    isopycnals = np.zeros((density.shape[0], density.shape[2]))\n",
    "    for t in range(isopycnals.shape[0]):\n",
    "        for lon in range(isopycnals.shape[1]):\n",
    "            column = density[t, :, lon]\n",
    "            # we want to find the depth at which the density is closest to dens\n",
    "            ix = np.argmin(np.abs(column - dens))\n",
    "            isopycnals[t, lon] = Z[ix]\n",
    "\n",
    "    # we now perform the double integral\n",
    "    n_lons, n_lats, n_depths, n_times = v.shape\n",
    "    inner_integral = np.zeros((n_lons, n_lats, n_times))\n",
    "    for t in range(n_times):\n",
    "        # NOTE: I covinced myself that I need to add one here, but someone should check this.\n",
    "        # need to find how many depth \"cells\" we are going to sum over\n",
    "        ixs = [list(Z).index(d)+1 for d in isopycnals[t]]\n",
    "        for lon in range(n_lons):\n",
    "            v_lon = v[lon, :, :ixs[lon], t]\n",
    "            d_z_lon = d_z[:ixs[lon]]\n",
    "            inner_integral[lon, :, t] = np.tensordot(v_lon, d_z_lon, axes=([1], [0]))\n",
    "    outer_integral = np.tensordot(inner_integral, d_lon, axes=([0], [0]))\n",
    "    out = -outer_integral.squeeze() / 1e6\n",
    "    return out"
   ]
  },
  {
   "cell_type": "code",
   "execution_count": 6,
   "metadata": {},
   "outputs": [],
   "source": [
    "# this controls how many pieces we discretise the density grid into\n",
    "# more obviously means a more precise result, but longer computation time\n",
    "density_precision = 100\n",
    "\n",
    "density_range = density.flatten()\n",
    "density_range = density_range[~np.isnan(density_range)]\n",
    "density_discrete = np.linspace(min(density_range), max(density_range), density_precision)\n",
    "\n",
    "# calculate the streamfunction for every density\n",
    "streamfunction = [psi(d) for d in density_discrete]\n",
    "streamfunction = np.vstack(streamfunction)\n",
    "# find the density which gives the largest absolute time-meaned streamfunction value\n",
    "sigma_2_0 = np.argmax(abs(np.mean(streamfunction, axis=1)))\n",
    "sigma_2_0 = density_discrete[sigma_2_0]\n",
    "# now use this really special important density \n",
    "moc_strength = psi(sigma_2_0)\n",
    "# multiply by the sign\n",
    "sign = (np.mean(moc_strength) > 0) * 2. - 1\n",
    "moc_strength *= sign"
   ]
  },
  {
   "cell_type": "code",
   "execution_count": 9,
   "metadata": {},
   "outputs": [
    {
     "data": {
      "image/png": "[encoded data removed]",
      "text/plain": [
       "<Figure size 1000x300 with 1 Axes>"
      ]
     },
     "metadata": {},
     "output_type": "display_data"
    }
   ],
   "source": [
    "fig, ax = plt.subplots(figsize=(10, 3))\n",
    "ax.plot(moc_strength, color=\"red\", linestyle=\"--\")\n",
    "ax.set_xlabel(\"time\"); ax.set_ylabel(\"moc strength (Sv)\")\n",
    "ax.set_title(\"60S\")\n",
    "ax.set_xticks(np.arange(30), [])\n",
    "plt.show()"
   ]
  }
 ],
 "metadata": {
  "kernelspec": {
   "display_name": "gtc",
   "language": "python",
   "name": "python3"
  },
  "language_info": {
   "codemirror_mode": {
    "name": "ipython",
    "version": 3
   },
   "file_extension": ".py",
   "mimetype": "text/x-python",
   "name": "python",
   "nbconvert_exporter": "python",
   "pygments_lexer": "ipython3",
   "version": "3.12.1"
  }
 },
 "nbformat": 4,
 "nbformat_minor": 2
}
