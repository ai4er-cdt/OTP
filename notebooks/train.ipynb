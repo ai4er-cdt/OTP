{
 "cells": [
  {
   "cell_type": "markdown",
   "metadata": {},
   "source": [
    "Example workbook through training a PyTorch model."
   ]
  },
  {
   "cell_type": "code",
   "execution_count": 1,
   "metadata": {},
   "outputs": [
    {
     "data": {
      "text/plain": [
       "<torch._C.Generator at 0x7f3c817bedb0>"
      ]
     },
     "execution_count": 1,
     "metadata": {},
     "output_type": "execute_result"
    }
   ],
   "source": [
    "import os\n",
    "import sys; sys.path.append(\"../models\")\n",
    "import utils\n",
    "import train\n",
    "import CNN1D\n",
    "\n",
    "import xarray as xr\n",
    "import numpy as np\n",
    "import torch as t\n",
    "\n",
    "device = \"cuda\" if t.cuda.is_available() else \"cpu\"\n",
    "t.manual_seed(123456)"
   ]
  },
  {
   "cell_type": "code",
   "execution_count": 2,
   "metadata": {},
   "outputs": [
    {
     "name": "stdout",
     "output_type": "stream",
     "text": [
      "axes: ['time', 'longitude', 'feature']\n",
      "variables: ['SSH', 'SST', 'SSS', 'OBP', 'ZWS']\n",
      "shape: (288, 164, 5)\n"
     ]
    }
   ],
   "source": [
    "# note: the aim is for all preprocessing / reshaping to be folded into SimDataset\n",
    "\n",
    "data_home = \"/mnt/g/My Drive/GTC/solodoch_data_minimal\"\n",
    "lats = [\"26N\", \"30S\", \"55S\", \"60S\"]\n",
    "\n",
    "lat = lats[0]\n",
    "data = xr.open_dataset(f\"{data_home}/{lat}.nc\")\n",
    "\n",
    "# apply whatever preprocessing we want *before* calling reshape_inputs\n",
    "pp_data = utils.apply_preprocessing(data,\n",
    "                                    mode=\"inputs\",\n",
    "                                    remove_season=True,\n",
    "                                    remove_trend=True,\n",
    "                                    standardize=True,\n",
    "                                    lowpass=True)\n",
    "\n",
    "# reshape as desired and convert to a tensor\n",
    "pp_data = utils.reshape_inputs(pp_data, keep_coords=[\"time\", \"longitude\"], return_pt=True)\n",
    "\n",
    "# dummy strength data\n",
    "strength = t.rand(pp_data.shape[0])\n",
    "X = pp_data; y = strength\n",
    "# shuffle data\n",
    "p = np.random.permutation(len(y))\n",
    "X, y = X[p], y[p]"
   ]
  },
  {
   "cell_type": "code",
   "execution_count": 3,
   "metadata": {},
   "outputs": [],
   "source": [
    "# for 1D CNN shape *must* be (n_times, n_features, dim_to_conv_over)\n",
    "X = X.permute(0, 2, 1)"
   ]
  },
  {
   "cell_type": "code",
   "execution_count": 4,
   "metadata": {},
   "outputs": [
    {
     "name": "stdout",
     "output_type": "stream",
     "text": [
      "device: cuda\n",
      "4851 parameters.\n"
     ]
    },
    {
     "name": "stderr",
     "output_type": "stream",
     "text": [
      "100%|██████████| 100/100 [00:01<00:00, 63.40it/s]\n"
     ]
    },
    {
     "name": "stdout",
     "output_type": "stream",
     "text": [
      "final loss: 0.07349322736263275\n",
      "model saved to /home/maish/OTP/models/saved_models/test_cnn1d.pt\n",
      "loss curve saved to /home/maish/OTP/models/loss_curves/test_cnn1d.png\n"
     ]
    }
   ],
   "source": [
    "# model name + save directory\n",
    "name = \"test_cnn1d\"\n",
    "save_dir = f\"{os.path.dirname(os.path.abspath('.'))}/models\"\n",
    "\n",
    "# changed hyperparameters (defaults set in train.py and <model>.py)\n",
    "CNN1D.n_pure_layers = 2\n",
    "CNN1D.n_mix_layers = 2\n",
    "CNN1D.n_features = X.shape[1]\n",
    "CNN1D.n_channels = CNN1D.n_features * 5\n",
    "CNN1D.kernel_size = 5\n",
    "train.max_iters = 100\n",
    "# ---------------\n",
    "\n",
    "model = CNN1D.CNN1D(n_pure_layers=CNN1D.n_pure_layers,\n",
    "              n_mix_layers=CNN1D.n_mix_layers,\n",
    "              n_features=CNN1D.n_features,\n",
    "              n_channels=CNN1D.n_channels,\n",
    "              kernel_size=CNN1D.kernel_size,\n",
    "              dropout=CNN1D.dropout).to(device)\n",
    "\n",
    "# train the model\n",
    "train.train_model(model, name, X, y, save_dir=save_dir)"
   ]
  }
 ],
 "metadata": {
  "kernelspec": {
   "display_name": "gtc",
   "language": "python",
   "name": "python3"
  },
  "language_info": {
   "codemirror_mode": {
    "name": "ipython",
    "version": 3
   },
   "file_extension": ".py",
   "mimetype": "text/x-python",
   "name": "python",
   "nbconvert_exporter": "python",
   "pygments_lexer": "ipython3",
   "version": "3.12.1"
  }
 },
 "nbformat": 4,
 "nbformat_minor": 2
}
