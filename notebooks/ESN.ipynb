{
 "cells": [
  {
   "cell_type": "code",
   "execution_count": 1,
   "metadata": {},
   "outputs": [],
   "source": [
    "# the Echo State Network is a specific architecture in Reservoir Computing\n",
    "# I implemented this by following https://martinuzzifrancesco.github.io/posts/a-brief-introduction-to-reservoir-computing/\n",
    "\n",
    "import sys; sys.path.append(\"../models\")\n",
    "import utils\n",
    "import ESN\n",
    "\n",
    "import xarray as xr\n",
    "import numpy as np\n",
    "\n",
    "from sklearn.metrics import r2_score, mean_squared_error"
   ]
  },
  {
   "cell_type": "code",
   "execution_count": 2,
   "metadata": {},
   "outputs": [
    {
     "name": "stdout",
     "output_type": "stream",
     "text": [
      "axes: ['time', 'feature']\n",
      "variables: ['SSH', 'SST', 'SSS', 'OBP', 'ZWS']\n",
      "shape: (288, 5)\n"
     ]
    }
   ],
   "source": [
    "# note: the aim is for all preprocessing / reshaping to be folded into SimDataset\n",
    "\n",
    "data_home = \"/mnt/g/My Drive/GTC/solodoch_data_minimal\"\n",
    "lats = [\"26N\", \"30S\", \"55S\", \"60S\"]\n",
    "\n",
    "lat = lats[0]\n",
    "data = xr.open_dataset(f\"{data_home}/{lat}.nc\")\n",
    "\n",
    "# apply whatever preprocessing we want *before* calling reshape_inputs\n",
    "pp_data = utils.apply_preprocessing(data,\n",
    "                                    mode=\"inputs\",\n",
    "                                    remove_season=True,\n",
    "                                    remove_trend=True,\n",
    "                                    standardize=True,\n",
    "                                    lowpass=True)\n",
    "\n",
    "# reshape as desired and convert to a numpy array\n",
    "pp_data = utils.reshape_inputs(pp_data, keep_coords=[\"time\"], return_pt=False)\n",
    "\n",
    "# dummy strength data\n",
    "strength = np.random.rand(pp_data.shape[0])\n",
    "X = pp_data; y = strength"
   ]
  },
  {
   "cell_type": "code",
   "execution_count": 3,
   "metadata": {},
   "outputs": [
    {
     "name": "stdout",
     "output_type": "stream",
     "text": [
      "R^2: 0.379\n",
      "MSE: 0.186\n"
     ]
    }
   ],
   "source": [
    "data = np.append(X, y.reshape(-1, 1), axis=1)\n",
    "# one step prediction\n",
    "targets = data[1:, :]\n",
    "data = data[:-1, :]\n",
    "\n",
    "model = ESN.ESN(n_input=data.shape[1], n_reservoir=data.shape[1]*3)\n",
    "model.fit(data, targets)\n",
    "pred = model.predict(data)\n",
    "r2 = round(r2_score(targets, pred), 3)\n",
    "mse = round(mean_squared_error(targets, pred), 3)\n",
    "print(f\"R^2: {r2}\")\n",
    "print(f\"MSE: {mse}\")\n"
   ]
  }
 ],
 "metadata": {
  "kernelspec": {
   "display_name": "gtc",
   "language": "python",
   "name": "python3"
  },
  "language_info": {
   "codemirror_mode": {
    "name": "ipython",
    "version": 3
   },
   "file_extension": ".py",
   "mimetype": "text/x-python",
   "name": "python",
   "nbconvert_exporter": "python",
   "pygments_lexer": "ipython3",
   "version": "3.12.1"
  }
 },
 "nbformat": 4,
 "nbformat_minor": 2
}
