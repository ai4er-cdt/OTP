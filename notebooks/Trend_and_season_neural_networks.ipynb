{
 "cells": [
  {
   "cell_type": "code",
   "outputs": [],
   "source": [
    "#Import packages\n",
    "import sys\n",
    "import math\n",
    "import numpy as np\n",
    "import paths\n",
    "import pickle\n",
    "sys.path.append(\"..\")\n",
    "from models.utils import *\n",
    "from models.plotting_utils import *\n",
    "from sklearn.metrics import mean_squared_error, r2_score, mean_absolute_error\n",
    "from sklearn.metrics import mean_absolute_percentage_error\n",
    "from streamfunction_ecco import streamfunction_custom_utils as strf_utils\n",
    "import matplotlib.pyplot as plt"
   ],
   "metadata": {
    "collapsed": false,
    "ExecuteTime": {
     "end_time": "2024-03-14T21:15:52.646964200Z",
     "start_time": "2024-03-14T21:15:52.621910Z"
    }
   },
   "execution_count": 7
  },
  {
   "cell_type": "code",
   "outputs": [],
   "source": [
    "#Check paths to the data are correct\n",
    "import importlib \n",
    "importlib.reload(paths)"
   ],
   "metadata": {
    "collapsed": false
   },
   "execution_count": null
  },
  {
   "cell_type": "code",
   "execution_count": 6,
   "metadata": {
    "ExecuteTime": {
     "end_time": "2024-03-14T20:57:11.510152300Z",
     "start_time": "2024-03-14T20:57:11.453931100Z"
    }
   },
   "outputs": [],
   "source": [
    "#Load the data and define the latitudes of interest\n",
    "data_home = paths.LOCAL_DIR\n",
    "lats = [26, -30, -55, -60]"
   ]
  },
  {
   "cell_type": "markdown",
   "source": [
    "Defining the latitude of interest in the first line of code, pick the latitude, where:\n",
    "\n",
    "0 = 26\n",
    "1 = -30\n",
    "2 = -55 \n",
    "3 = -60 "
   ],
   "metadata": {
    "collapsed": false
   }
  },
  {
   "cell_type": "code",
   "execution_count": null,
   "metadata": {},
   "outputs": [],
   "source": [
    "lat = lats[3]                                                                                                 # 3 is picking latitude -60\n",
    "lat_str = strf_utils.format_lat_lon(lat)\n",
    "\n",
    "inputs = xr.open_dataset(f\"{data_home}/ecco_data_minimal/{lat_str}.nc\").isel(latitude=slice(1,2))             # This takes a slice needed for the latitude data\n",
    "inputs"
   ]
  },
  {
   "cell_type": "markdown",
   "source": [],
   "metadata": {
    "collapsed": false
   }
  },
  {
   "cell_type": "code",
   "execution_count": null,
   "outputs": [],
   "source": [
    "outputs_fp = f\"{data_home}/ecco_data_minimal/{lat_str}_moc_density.pickle\"                             # Density pickle to ensure working in density space\n",
    "\n",
    "with open(outputs_fp, 'rb') as f:\n",
    "    outputs = pickle.load(f).astype(np.float64)\n",
    "\n",
    "outputs = np.expand_dims(outputs, 1) # grabbing just 60S\n",
    "outputs = xr.Dataset(data_vars = {'moc' : ([\"time\", \"longitude\"], outputs)}, \n",
    "                     coords = {'time' : inputs.time, 'latitude' : np.atleast_1d(-60)})                   # Replace -60 with the latitude of interest\n",
    "outputs"
   ],
   "metadata": {
    "collapsed": false
   }
  },
  {
   "cell_type": "code",
   "execution_count": null,
   "metadata": {},
   "outputs": [],
   "source": [
    "date_range = (inputs.time.values[0], inputs.time.values[-1])                                                    # Grabbing start and end date for inputs\n",
    "date_range = tuple([str(d).split('T')[0] for d in date_range])                                                  # Extracting just the date, without time\n",
    "print('Date range to align to:', date_range)                                                                    # Prints the data range of the data\n",
    "inputs, outputs = align_inputs_outputs(inputs, outputs, date_range = date_range, ecco=False)"
   ]
  },
  {
   "cell_type": "markdown",
   "source": [],
   "metadata": {
    "collapsed": false
   }
  },
  {
   "cell_type": "code",
   "execution_count": null,
   "metadata": {},
   "outputs": [],
   "source": [
    "# Apply whatever preprocessing we want *before* calling reshape_inputs\n",
    "pp_data = apply_preprocessing(inputs,\n",
    "                              mode=\"inputs\",              \n",
    "                              remove_season=True,         # Remove season here, can be True or False \n",
    "                              remove_trend=False,         # Remove trend here. can be True of False \n",
    "                              standardize=True,   \n",
    "                              lowpass=False)       \n",
    "\n",
    "# reshape as desired and convert to a numpy array\n",
    "pp_data_np = reshape_inputs(pp_data, keep_coords=[\"time\"]) # To make a 2D CNN, you can add ,\"longitude\" after \"time\" and before the ])\n",
    "\n",
    "# MOC strength from data\n",
    "strength = apply_preprocessing(outputs,\n",
    "                               mode=\"outputs\",                        \n",
    "                               remove_season=True,        # Remove season here, can be True or False\n",
    "                               remove_trend=False,        # Remove trend here, can be True or False\n",
    "                               standardize=False,  \n",
    "                               lowpass=False)    \n",
    "strength_np = strength.moc.squeeze().values\n",
    "X = pp_data_np\n",
    " \n",
    "print(X.shape)\n",
    "X = X.transpose(0, 1)                                     # If you have a 2D CNN then change to X = X.transpose(0, 2, 1) \n",
    "\n",
    "y = strength_np\n",
    "\n",
    "print()\n",
    "print('Inputs shape:', X.shape)\n",
    "print('Outputs shape:', y.shape)\n",
    "\n",
    "# Printed values below should include the Axes - for example ['time', 'feature']\n",
    "# printed variables will include what variables from the data is included - for example ['SSH', 'SST', 'SSS', 'OBP', 'ZWS']\n",
    "# printed shape of the data frame - for example (312,5)"
   ]
  },
  {
   "cell_type": "markdown",
   "source": [],
   "metadata": {
    "collapsed": false
   }
  },
  {
   "cell_type": "markdown",
   "source": [
    "Model training detials "
   ],
   "metadata": {
    "collapsed": false
   }
  },
  {
   "cell_type": "code",
   "execution_count": null,
   "outputs": [],
   "source": [
    "X_train, X_test, y_train, y_test = train_test_split(X, y, test_size=0.2, shuffle=False, stratify=None, random_state=123456)\n",
    "\n",
    "device = \"cuda\" if t.cuda.is_available() else \"cpu\"\n",
    "print(f\"device: {device}\")\n",
    "\n",
    "Xt_train = t.tensor(X_train, device=device).double()\n",
    "Yt_train = t.tensor(y_train, device=device).double()\n",
    "Xt_test = t.tensor(X_test, device=device).double()\n",
    "Yt_test = t.tensor(y_test, device=device).double()"
   ],
   "metadata": {
    "collapsed": false
   }
  },
  {
   "cell_type": "markdown",
   "source": [],
   "metadata": {
    "collapsed": false
   }
  },
  {
   "cell_type": "markdown",
   "source": [],
   "metadata": {
    "collapsed": false
   }
  },
  {
   "cell_type": "code",
   "outputs": [],
   "source": [
    "from models import train, SimDataset, CNN1D, CNN2D, CNN3D                 # Define the model "
   ],
   "metadata": {
    "collapsed": false,
    "ExecuteTime": {
     "end_time": "2024-03-13T16:56:46.454261300Z",
     "start_time": "2024-03-13T16:56:46.419057300Z"
    }
   },
   "execution_count": 338
  },
  {
   "cell_type": "markdown",
   "source": [],
   "metadata": {
    "collapsed": false
   }
  },
  {
   "cell_type": "markdown",
   "source": [
    "These are the hyper parameters which can be changed to improve model performance "
   ],
   "metadata": {
    "collapsed": false
   }
  },
  {
   "cell_type": "code",
   "outputs": [],
   "source": [
    "dropout = 0.5                                         # Values usually between 0.2 and 0.5\n",
    "n_pure_layers = 5                                     # Values usually between 1 and 5 \n",
    "n_mix_layers = 1                                      # Values usually between 1 and 5 (can be 0, but then n_pure_layers has to be 1)\n",
    "n_features = 5                                        # How many imput variables do you have\n",
    "n_channels = n_features * 5                           # Values usually between 2 and 5\n",
    "kernel_size = 5                                       # If a 2D CNN then need to add another dimension, for example -  (5,5) \n",
    "\n",
    "model = CNN1D.CNN1D(                                  # for a 2D CNN this model must be changed to CNN2D.CNN2D( \n",
    "    n_pure_layers=n_pure_layers, \n",
    "    n_mix_layers=n_mix_layers, \n",
    "    n_features=n_features, \n",
    "    n_channels=n_channels,\n",
    "    kernel_size=kernel_size,\n",
    "    dropout=dropout\n",
    ").double()\n",
    "\n",
    "save_dir = paths.MODELS_OUTPUT                               \n",
    "loss1 = train.train_model(model, \n",
    "                          'CNN1D_longitudes_1mix_1pure',    #'CNN1D_longitudes_1mix_1pure'  is the title for the figure created\n",
    "                          Xt_train, \n",
    "                          Yt_train, \n",
    "                          save_dir=save_dir, \n",
    "                          conv_dim=1)                       # This is how many dimensions there are, for 2D CNN conv_dim=2"
   ],
   "metadata": {
    "collapsed": false
   },
   "execution_count": null
  },
  {
   "cell_type": "markdown",
   "source": [
    "For the figure above, you are look for the plato. As the graph that contuines to go down, it means it contunies to learn and improve.  "
   ],
   "metadata": {
    "collapsed": false
   }
  },
  {
   "cell_type": "markdown",
   "source": [],
   "metadata": {
    "collapsed": false
   }
  },
  {
   "cell_type": "markdown",
   "source": [
    "This creates the figure and metrics for the model comparisons "
   ],
   "metadata": {
    "collapsed": false
   }
  },
  {
   "cell_type": "code",
   "execution_count": null,
   "outputs": [],
   "source": [
    "# Extracting all predictions in time order\n",
    "train_set_pred = train.predict(model, 'CNN1D', Xt_train, Yt_train, conv_dim=1, save_dir=save_dir)   # conv_dim= number of dimensions\n",
    "test_set_pred = train.predict(model, 'CNN1D', Xt_test, Yt_test, conv_dim=1, save_dir=save_dir)      # conv_dim= number of dimensions\n",
    "all_preds = np.concatenate([train_set_pred, test_set_pred])\n",
    "\n",
    "r2 = round(r2_score(test_set_pred, y_test), 3)\n",
    "mse = round(mean_squared_error(test_set_pred, y_test), 3)\n",
    "rmse = round(math.sqrt(mse), 3)\n",
    "mae = round(mean_absolute_error(test_set_pred, y_test), 3)\n",
    "mape = round(mean_absolute_percentage_error(test_set_pred, y_test), 3)*100\n",
    "\n",
    "print(f\"Test R^2: {r2}\")\n",
    "print(f\"Test MSE: {mse}\")\n",
    "print(f\"Test RMSE: {rmse}\")           \n",
    "print(f\"Test MAE: {mae}\")\n",
    "print(f\"Test MAPE: {mape}\")\n",
    "\n",
    "time = outputs.time.values\n",
    "\n",
    "fig, ax = timeseries_comparison(all_preds, y, time, len(X_train))\n",
    "plt.show()"
   ],
   "metadata": {
    "collapsed": false
   }
  },
  {
   "cell_type": "markdown",
   "source": [],
   "metadata": {
    "collapsed": false
   }
  },
  {
   "cell_type": "code",
   "execution_count": null,
   "outputs": [],
   "source": [
    "# Alternate view: looking at a scatterplot of predicted vs. actual\n",
    "y_pred_train = np.array(train_set_pred).squeeze()\n",
    "y_pred_test = np.array(test_set_pred).squeeze()\n",
    "\n",
    "fig, ax = pred_vs_actual(y_pred_train, y_pred_test, y_train, y_test)\n",
    "plt.show()"
   ],
   "metadata": {
    "collapsed": false
   }
  }
 ],
 "metadata": {
  "kernelspec": {
   "display_name": "gtc",
   "language": "python",
   "name": "python3"
  },
  "language_info": {
   "codemirror_mode": {
    "name": "ipython",
    "version": 3
   },
   "file_extension": ".py",
   "mimetype": "text/x-python",
   "name": "python",
   "nbconvert_exporter": "python",
   "pygments_lexer": "ipython3",
   "version": "3.12.1"
  }
 },
 "nbformat": 4,
 "nbformat_minor": 2
}
