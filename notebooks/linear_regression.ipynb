{
 "cells": [
  {
   "cell_type": "code",
   "execution_count": 1,
   "metadata": {},
   "outputs": [],
   "source": [
    "import sys; sys.path.append(\"..\")\n",
    "from models.utils import *\n",
    "\n",
    "import statsmodels.api as sm\n",
    "from statsmodels.regression.linear_model import OLS"
   ]
  },
  {
   "cell_type": "code",
   "execution_count": 2,
   "metadata": {},
   "outputs": [],
   "source": [
    "data_home = \"/mnt/g/My Drive/GTC/solodoch_data_minimal\"\n",
    "lats = [\"26N\", \"30S\", \"55S\", \"60S\"]"
   ]
  },
  {
   "cell_type": "code",
   "execution_count": 3,
   "metadata": {},
   "outputs": [],
   "source": [
    "lat = lats[0]\n",
    "data = xr.open_dataset(f\"{data_home}/{lat}.nc\")"
   ]
  },
  {
   "cell_type": "code",
   "execution_count": 4,
   "metadata": {},
   "outputs": [
    {
     "name": "stdout",
     "output_type": "stream",
     "text": [
      "axes: ['time', 'feature']\n",
      "variables: ['SSH', 'SST', 'SSS', 'OBP', 'ZWS']\n",
      "shape: (288, 5)\n",
      "Best MSE (cross-validation): 0.081\n",
      "Test R^2: -0.026\n",
      "Test MSE: 0.084\n"
     ]
    }
   ],
   "source": [
    "# apply whatever preprocessing we want *before* calling reshape_inputs\n",
    "pp_data = apply_preprocessing(data,\n",
    "                              mode=\"inputs\",\n",
    "                              remove_season=True,\n",
    "                              remove_trend=True,\n",
    "                              standardize=True,\n",
    "                              lowpass=True)\n",
    "\n",
    "# reshape as desired and convert to a numpy array\n",
    "pp_data_np = reshape_inputs(pp_data, keep_coords=[\"time\"])\n",
    "\n",
    "# dummy strength data\n",
    "strength = np.random.rand(*(pp_data_np.shape[:-1]))\n",
    "X = pp_data_np; y = strength\n",
    "# shuffle data\n",
    "p = np.random.permutation(len(y))\n",
    "X, y = X[p], y[p]\n",
    "\n",
    "class SMWrapper(BaseEstimator, RegressorMixin):\n",
    "    def __init__(self, alpha=0.1, L1_wt=0.1):\n",
    "        self.alpha = alpha\n",
    "        self.L1_wt = L1_wt\n",
    "        self.model = None\n",
    "\n",
    "    def fit(self, X, y):\n",
    "        self.model = sm.OLS(y, X).fit_regularized(alpha=self.alpha, L1_wt=self.L1_wt)\n",
    "        return self\n",
    "\n",
    "    def predict(self, X):\n",
    "        return self.model.predict(X)\n",
    "    \n",
    "# add bias term\n",
    "X = sm.add_constant(X)\n",
    "# train/val/test split\n",
    "X_train, X_test, y_train, y_test = train_test_split(X, y, test_size=0.3, random_state=123456)\n",
    "# hyperparamters to optimise\n",
    "param_grid = {\n",
    "    \"alpha\": np.logspace(-4, 4, 10),\n",
    "    \"L1_wt\": np.linspace(0, 1, 10)\n",
    "}\n",
    "# grid search - 10-fold cross-validation\n",
    "grid_search = GridSearchCV(SMWrapper(), param_grid, cv=10, scoring=\"neg_mean_squared_error\")\n",
    "grid_search.fit(X_train, y_train)\n",
    "# report best result\n",
    "print(f\"Best MSE (cross-validation): {round(-grid_search.best_score_, 3)}\")\n",
    "# report test performance\n",
    "y_pred = grid_search.best_estimator_.predict(X_test)\n",
    "r2 = round(r2_score(y_test, y_pred), 3)\n",
    "mse = round(mean_squared_error(y_test, y_pred), 3)\n",
    "print(f\"Test R^2: {r2}\")\n",
    "print(f\"Test MSE: {mse}\")"
   ]
  }
 ],
 "metadata": {
  "kernelspec": {
   "display_name": "gtc",
   "language": "python",
   "name": "python3"
  },
  "language_info": {
   "codemirror_mode": {
    "name": "ipython",
    "version": 3
   },
   "file_extension": ".py",
   "mimetype": "text/x-python",
   "name": "python",
   "nbconvert_exporter": "python",
   "pygments_lexer": "ipython3",
   "version": "3.12.1"
  }
 },
 "nbformat": 4,
 "nbformat_minor": 2
}
