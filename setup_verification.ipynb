{
 "cells": [
  {
   "cell_type": "markdown",
   "id": "81fee749-3547-47ee-a758-6cb7c92b2875",
   "metadata": {},
   "source": [
    "# Setup Verification\n",
    "\n",
    "_Author: Emilio Luz-Ricca_\n",
    "\n",
    "This notebook exists only to check that local setup was completed correctly. You should be able to run the following cell, which imports the functions from the `ECCOv4-py` submodule and loads important packages used throughout the codebase. \n",
    "\n",
    "If you get an error, please first consult the setup instructions in `DOCUMENTATION.md` to see if you missed a step. If you didn't, please submit an issue on the [GitHub repository](https://github.com/ai4er-cdt/OTP/issues)."
   ]
  },
  {
   "cell_type": "code",
   "execution_count": 1,
   "id": "4cc69c2c-4607-4529-8586-d756c7a1e32a",
   "metadata": {},
   "outputs": [],
   "source": [
    "import sys\n",
    "sys.path.append('ECCOv4-py')\n",
    "\n",
    "import ecco_v4_py as ecco\n",
    "\n",
    "import xarray\n",
    "import numpy\n",
    "import scipy\n",
    "import matplotlib.pyplot\n",
    "import sklearn\n",
    "import torch\n",
    "import statsmodels"
   ]
  },
  {
   "cell_type": "code",
   "execution_count": null,
   "id": "cb2ab721-d158-49c6-b5bc-72edf86e77a2",
   "metadata": {},
   "outputs": [],
   "source": []
  }
 ],
 "metadata": {
  "kernelspec": {
   "display_name": "GTC",
   "language": "python",
   "name": "gtc"
  },
  "language_info": {
   "codemirror_mode": {
    "name": "ipython",
    "version": 3
   },
   "file_extension": ".py",
   "mimetype": "text/x-python",
   "name": "python",
   "nbconvert_exporter": "python",
   "pygments_lexer": "ipython3",
   "version": "3.12.1"
  }
 },
 "nbformat": 4,
 "nbformat_minor": 5
}
