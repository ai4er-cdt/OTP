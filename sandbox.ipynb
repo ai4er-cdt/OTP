{
 "cells": [
  {
   "cell_type": "code",
   "execution_count": 18,
   "metadata": {
    "ExecuteTime": {
     "end_time": "2024-02-10T20:15:44.994037500Z",
     "start_time": "2024-02-10T20:15:44.975427800Z"
    }
   },
   "outputs": [],
   "source": [
    "# testing whether I can load ecco\n",
    "\n",
    "import os\n",
    "from os.path import expanduser\n",
    "user_home_dir = expanduser('~')\n",
    "\n",
    "import sys\n",
    "sys.path.append(os.path.join(user_home_dir, \"OTP\\ECCOv4-py\"))\n",
    "import ecco_v4_py as ecco"
   ]
  },
  {
   "cell_type": "code",
   "execution_count": 19,
   "metadata": {
    "ExecuteTime": {
     "end_time": "2024-02-10T20:15:45.426582800Z",
     "start_time": "2024-02-10T20:15:45.401237600Z"
    }
   },
   "outputs": [
    {
     "name": "stdout",
     "output_type": "stream",
     "text": [
      "['C:\\\\Program Files\\\\JetBrains\\\\PyCharm 2022.3.2\\\\plugins\\\\python\\\\helpers-pro\\\\jupyter_debug', 'C:\\\\Program Files\\\\JetBrains\\\\PyCharm 2022.3.2\\\\plugins\\\\python\\\\helpers\\\\pydev', 'C:\\\\Users\\\\aline\\\\OTP', 'C:\\\\Users\\\\aline\\\\OTP', 'C:\\\\Users\\\\aline\\\\mambaforge\\\\envs\\\\gtc\\\\python311.zip', 'C:\\\\Users\\\\aline\\\\mambaforge\\\\envs\\\\gtc\\\\DLLs', 'C:\\\\Users\\\\aline\\\\mambaforge\\\\envs\\\\gtc\\\\Lib', 'C:\\\\Users\\\\aline\\\\mambaforge\\\\envs\\\\gtc', '', 'C:\\\\Users\\\\aline\\\\mambaforge\\\\envs\\\\gtc\\\\Lib\\\\site-packages', 'C:\\\\Users\\\\aline\\\\mambaforge\\\\envs\\\\gtc\\\\Lib\\\\site-packages\\\\win32', 'C:\\\\Users\\\\aline\\\\mambaforge\\\\envs\\\\gtc\\\\Lib\\\\site-packages\\\\win32\\\\lib', 'C:\\\\Users\\\\aline\\\\mambaforge\\\\envs\\\\gtc\\\\Lib\\\\site-packages\\\\Pythonwin', 'ECCOv4-py', 'C:\\\\Users\\\\aline\\\\ECCOv4-py', 'C:/OTP/ECCOv4-py', 'C:\\\\Users\\\\aline\\\\OTP/ECCOv4-py', 'C:\\\\Users\\\\aline\\\\OTP\\\\ECCOv4-py']\n"
     ]
    }
   ],
   "source": [
    "print(sys.path)"
   ]
  },
  {
   "cell_type": "code",
   "execution_count": 20,
   "outputs": [],
   "source": [
    "import ecco_v4_1py "
   ],
   "metadata": {
    "collapsed": false,
    "ExecuteTime": {
     "end_time": "2024-02-10T20:16:31.441187400Z",
     "start_time": "2024-02-10T20:16:31.332981400Z"
    }
   }
  },
  {
   "cell_type": "code",
   "execution_count": null,
   "outputs": [],
   "source": [],
   "metadata": {
    "collapsed": false
   }
  }
 ],
 "metadata": {
  "kernelspec": {
   "display_name": "gtc",
   "language": "python",
   "name": "python3"
  },
  "language_info": {
   "codemirror_mode": {
    "name": "ipython",
    "version": 3
   },
   "file_extension": ".py",
   "mimetype": "text/x-python",
   "name": "python",
   "nbconvert_exporter": "python",
   "pygments_lexer": "ipython3",
   "version": "3.12.1"
  }
 },
 "nbformat": 4,
 "nbformat_minor": 2
}
