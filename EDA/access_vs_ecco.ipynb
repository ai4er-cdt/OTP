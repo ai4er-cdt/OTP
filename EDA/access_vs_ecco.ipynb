{
 "cells": [
  {
   "cell_type": "code",
   "execution_count": 1,
   "metadata": {},
   "outputs": [],
   "source": [
    "import numpy as np\n",
    "import matplotlib.pyplot as plt\n",
    "import seaborn as sns\n",
    "import xarray as xr\n",
    "import matplotlib.pyplot as plt\n",
    "\n",
    "data_home = \"/mnt/g/My Drive/GTC\""
   ]
  },
  {
   "cell_type": "code",
   "execution_count": 2,
   "metadata": {},
   "outputs": [],
   "source": [
    "access = xr.open_dataset(f\"{data_home}/ACCESS_data/input_data.nc\")\n",
    "ecco = xr.open_dataset(f\"{data_home}/solodoch_data_minimal/60S.nc\")\n",
    "\n",
    "access = access[[\"sea_level\", \"surface_pot_temp\", \"surface_salt\", \"pbot_t\"]]\n",
    "access = access.drop_vars([\"yt_ocean\", \"yu_ocean\", \"st_ocean\"])\n",
    "var_names = {\"sea_level\": \"SSH\",\n",
    "             \"pbot_t\": \"OBP\",\n",
    "             \"surface_salt\": \"SSS\",\n",
    "             \"surface_pot_temp\": \"SST\",\n",
    "             \"xt_ocean\": \"longitude\"}\n",
    "access = access.rename(var_names)\n",
    "latitude_value = ecco[\"latitude\"].values[0]\n",
    "latitude = xr.DataArray([latitude_value], dims=\"latitude\")\n",
    "access = access.assign_coords(latitude=latitude)\n",
    "\n",
    "def find_nearest(array, value):\n",
    "    array = np.asarray(array)\n",
    "    ix = (np.abs(array - value)).argmin()\n",
    "    return array[ix]\n",
    "\n",
    "closest_lon = np.array([find_nearest(access.longitude, lon) for lon in ecco.longitude.to_numpy()])\n",
    "access = access.sel(longitude=closest_lon, method=\"nearest\")\n",
    "access = access.groupby(\"longitude\").mean()\n",
    "access = access.interp(longitude=ecco.longitude, method=\"linear\")\n",
    "times = [t for t in access.time.values if t in ecco.time.values]\n",
    "min_t = min(times); max_t = max(times)\n",
    "access = access.sel(time=slice(min_t, max_t))\n",
    "ecco = ecco.sel(time=slice(min_t, max_t))"
   ]
  },
  {
   "cell_type": "code",
   "execution_count": 3,
   "metadata": {},
   "outputs": [],
   "source": [
    "for var in [\"SSH\", \"SST\", \"SSS\", \"OBP\"]:\n",
    "\n",
    "    var_ecco = ecco.transpose(\"latitude\", \"time\", \"longitude\")[var].to_numpy().squeeze()\n",
    "    var_access = access.transpose(\"latitude\", \"time\", \"longitude\")[var].to_numpy().squeeze()\n",
    "\n",
    "    diff = var_ecco - var_access\n",
    "    e_std = str(round(var_ecco[~np.isnan(var_ecco)].std(), 3))\n",
    "    a_std = str(round(var_access[~np.isnan(var_access)].std(), 3))\n",
    "\n",
    "    fig, ax = plt.subplots(figsize=(7, 7))\n",
    "    sns.heatmap(diff.T, ax=ax, cmap=\"PiYG\")\n",
    "    ax.set_xticks([], []); ax.set_yticks([], [])\n",
    "    ax.set_xlabel(\"time\"); ax.set_ylabel(\"longitude\")\n",
    "    ax.set_title(f\"{var}: Difference between\\n ACCESS ($\\\\sigma$={a_std}) and ECCO ($\\\\sigma$={e_std})\")\n",
    "    plt.tight_layout()\n",
    "    plt.savefig(f\"graphs/{var}_access_vs_ecco.png\", dpi=400)\n",
    "    plt.close()"
   ]
  }
 ],
 "metadata": {
  "kernelspec": {
   "display_name": "gtc",
   "language": "python",
   "name": "python3"
  },
  "language_info": {
   "codemirror_mode": {
    "name": "ipython",
    "version": 3
   },
   "file_extension": ".py",
   "mimetype": "text/x-python",
   "name": "python",
   "nbconvert_exporter": "python",
   "pygments_lexer": "ipython3",
   "version": "3.12.1"
  }
 },
 "nbformat": 4,
 "nbformat_minor": 2
}
