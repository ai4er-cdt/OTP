{
 "cells": [
  {
   "cell_type": "markdown",
   "metadata": {},
   "source": [
    "Downloading data in latlon format instead of llc. Is it easier? yeah i reckon so"
   ]
  },
  {
   "cell_type": "code",
   "execution_count": null,
   "metadata": {},
   "outputs": [],
   "source": [
    "import os\n",
    "import sys\n",
    "sys.path.append(\"../ECCOv4-py\")\n",
    "import ecco_v4_py as ecco\n",
    "from ecco_download import *\n",
    "import xarray as xr\n",
    "import matplotlib.pyplot as plt\n",
    "import pandas as pd\n",
    "import numpy as np"
   ]
  },
  {
   "cell_type": "code",
   "execution_count": null,
   "metadata": {},
   "outputs": [],
   "source": [
    "home = \"~/Documents/Github/OTP/ECCO\"\n",
    "shortname = \"ECCO_L4_TEMP_SALINITY_05DEG_MONTHLY_V4R4\"\n",
    "\n",
    "ecco_podaac_download(ShortName=shortname,\n",
    "                     StartDate=\"2014-08-01\", EndDate=\"2020-12-31\", download_root_dir=\"data\",\n",
    "                     n_workers=6, force_redownload=True)"
   ]
  },
  {
   "cell_type": "code",
   "execution_count": null,
   "metadata": {},
   "outputs": [],
   "source": [
    "ecco = xr.open_mfdataset(f\"{home}/data/{shortname}/*.nc\", parallel=True, \n",
    "                         data_vars=\"minimal\", coords=\"minimal\", compat=\"override\")\n",
    "osnap = xr.open_dataset(\"../OSNAP/OSNAP_Gridded_TSV_201408_202006_2023.nc\")\n",
    "\n",
    "# need to be careful to match depth, first.\n",
    "ecco = ecco.sel(Z=-15.)\n",
    "osnap = osnap.sel(DEPTH=15.)"
   ]
  },
  {
   "cell_type": "code",
   "execution_count": null,
   "metadata": {},
   "outputs": [],
   "source": [
    "min_lat = osnap[\"LATITUDE\"].min().values\n",
    "max_lat = osnap[\"LATITUDE\"].max().values\n",
    "min_lon = osnap[\"LONGITUDE\"].min().values\n",
    "max_lon = osnap[\"LONGITUDE\"].max().values\n",
    "\n",
    "# osnap slice to reduce size.\n",
    "ecco = ecco.sel(latitude=slice(min_lat, max_lat),\n",
    "                longitude=slice(min_lon, max_lon))\n",
    "\n",
    "# we'll take some lat/lon on the array.\n",
    "lat = ecco[\"latitude\"].median().values\n",
    "lon = ecco[\"longitude\"].median().values\n",
    "\n",
    "ecco_subset = ecco.sel(latitude=lat, longitude=lon, method=\"nearest\")\n",
    "osnap_subset = osnap.sortby([\"LATITUDE\", \"LONGITUDE\"]).sel(LATITUDE=lat, LONGITUDE=lon, method=\"nearest\")"
   ]
  },
  {
   "cell_type": "code",
   "execution_count": null,
   "metadata": {},
   "outputs": [],
   "source": [
    "ecco_subset = ecco_subset.assign_coords(month=ecco_subset[\"time\"].dt.month)\n",
    "osnap_subset = osnap_subset.assign_coords(month=osnap_subset[\"TIME\"].dt.month)\n",
    "\n",
    "# Find the start and end of the common time range\n",
    "common_start = max(ecco_subset[\"time\"].min(), osnap_subset[\"TIME\"].min())\n",
    "common_end = min(ecco_subset[\"time\"].max(), osnap_subset[\"TIME\"].max())\n",
    "\n",
    "# Subset the datasets to the common time range\n",
    "ecco_subset = ecco_subset.sel(time=slice(common_start, common_end))\n",
    "osnap_subset = osnap_subset.sel(TIME=slice(common_start, common_end))\n",
    "\n",
    "# now the dates are only out by half a month (possibly just due to a convention difference) so when plotting I used the ecco time index.\n",
    "\n",
    "\n",
    "print(ecco_subset[\"time\"])\n",
    "print(osnap_subset[\"TIME\"])\n",
    "\n",
    "merged = xr.merge([ecco_subset, osnap_subset], compat=\"override\", join=\"outer\")"
   ]
  },
  {
   "cell_type": "code",
   "execution_count": null,
   "metadata": {},
   "outputs": [],
   "source": [
    "merged"
   ]
  },
  {
   "cell_type": "code",
   "execution_count": null,
   "metadata": {},
   "outputs": [],
   "source": [
    "df = pd.DataFrame(columns=[\"time\"])\n",
    "t = merged[\"time\"].values\n",
    "T = merged[\"TIME\"].values\n",
    "print(len(t))\n",
    "print(len(T))\n",
    "e_theta = merged[\"THETA\"].values\n",
    "o_temp = merged[\"TEMP\"].values\n",
    "e_sal = merged[\"SALT\"].values\n",
    "o_sal = merged[\"SAL\"].values\n",
    "\n",
    "l = min(len(t), len(e_theta), len(o_temp), len(e_sal), len(o_sal))\n",
    "\n",
    "df[\"time\"] = t[:l]\n",
    "\n",
    "df[\"ecco_theta\"] = e_theta[:l]\n",
    "df[\"osnap_temp\"] = o_temp[:l]\n",
    "df[\"ecco_sal\"] = e_sal[:l]\n",
    "df[\"osnap_sal\"] = o_sal[:l]\n",
    "\n",
    "df.set_index(\"time\", inplace=True)\n"
   ]
  },
  {
   "cell_type": "code",
   "execution_count": null,
   "metadata": {},
   "outputs": [],
   "source": [
    "print(df.head())\n",
    "\n",
    "fig, ax = plt.subplots(2, 1, figsize=(12, 6))\n",
    "\n",
    "ax[0].plot(df[\"ecco_theta\"], label=\"ECCO\", color=\"green\", alpha=0.5, linestyle=\"-\")\n",
    "ax[0].plot(df[\"osnap_temp\"], label=\"OSNAP\", color=\"red\", alpha=0.5, linestyle=\"--\")\n",
    "ax[0].legend()\n",
    "\n",
    "ax[0].set_xlabel(\"date\"); ax[0].set_ylabel(\"temp $\\\\degree$C\")\n",
    "\n",
    "ax[1].plot(df[\"ecco_sal\"], label=\"ECCO\", color=\"green\", alpha=0.5, linestyle=\"-\")\n",
    "ax[1].plot(df[\"osnap_sal\"], label=\"OSNAP\", color=\"red\", alpha=0.5, linestyle=\"--\")\n",
    "ax[1].legend()\n",
    "\n",
    "ax[1].set_xlabel(\"date\"); ax[1].set_ylabel(\"salinity\")\n",
    "\n",
    "plt.show()\n",
    "\n",
    "print(np.corrcoef(df[\"ecco_theta\"], df[\"osnap_temp\"]))\n",
    "print(np.corrcoef(df[\"ecco_sal\"], df[\"osnap_sal\"]))\n",
    "\n",
    "plt.plot(df[\"ecco_theta\"], df[\"osnap_temp\"], \"o\", alpha=0.5)\n",
    "plt.xlabel(\"ECCO\")\n",
    "plt.ylabel(\"OSNAP\")\n",
    "plt.show()\n",
    "\n",
    "plt.plot(df[\"ecco_sal\"], df[\"osnap_sal\"], \"o\", alpha=0.5)\n",
    "plt.xlabel(\"ECCO\")\n",
    "plt.ylabel(\"OSNAP\")\n",
    "plt.show()"
   ]
  },
  {
   "cell_type": "code",
   "execution_count": null,
   "metadata": {},
   "outputs": [],
   "source": []
  }
 ],
 "metadata": {
  "kernelspec": {
   "display_name": "gtc",
   "language": "python",
   "name": "python3"
  },
  "language_info": {
   "codemirror_mode": {
    "name": "ipython",
    "version": 3
   },
   "file_extension": ".py",
   "mimetype": "text/x-python",
   "name": "python",
   "nbconvert_exporter": "python",
   "pygments_lexer": "ipython3",
   "version": "3.12.1"
  }
 },
 "nbformat": 4,
 "nbformat_minor": 2
}
