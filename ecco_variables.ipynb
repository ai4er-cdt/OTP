{
 "cells": [
  {
   "cell_type": "code",
   "execution_count": 9,
   "metadata": {},
   "outputs": [],
   "source": [
    "import sys\n",
    "import os\n",
    "\n",
    "sys.path.append(\"ECCOv4-py\")\n",
    "import ecco_v4_py as ecco\n",
    "\n",
    "from ecco_download import *"
   ]
  },
  {
   "cell_type": "code",
   "execution_count": 11,
   "metadata": {},
   "outputs": [
    {
     "name": "stdout",
     "output_type": "stream",
     "text": [
      "/Users/emiliolr/Desktop/GTC-OTP\n"
     ]
    }
   ],
   "source": [
    "download_dir = os.getcwd()\n",
    "print(download_dir)"
   ]
  },
  {
   "cell_type": "code",
   "execution_count": 12,
   "metadata": {},
   "outputs": [
    {
     "name": "stdout",
     "output_type": "stream",
     "text": [
      "created download directory /Users/emiliolr/Desktop/GTC-OTP/ECCO_L4_SSH_LLC0090GRID_DAILY_V4R4\n",
      "\n",
      "Total number of matching granules: 7\n",
      "DL Progress: 100%|###########################| 7/7 [00:09<00:00,  1.42s/it]\n",
      "\n",
      "=====================================\n",
      "total downloaded: 41.48 Mb\n",
      "avg download speed: 4.17 Mb/s\n",
      "Time spent = 9.954829931259155 seconds\n"
     ]
    }
   ],
   "source": [
    "ecco_podaac_download(ShortName = \"ECCO_L4_SSH_LLC0090GRID_DAILY_V4R4\",\n",
    "                     StartDate = \"2000-01-08\", \n",
    "                     EndDate = \"2000-01-14\", \n",
    "                     download_root_dir = download_dir,\n",
    "                     n_workers = 6, \n",
    "                     force_redownload = False)"
   ]
  },
  {
   "cell_type": "code",
   "execution_count": null,
   "metadata": {},
   "outputs": [],
   "source": []
  }
 ],
 "metadata": {
  "kernelspec": {
   "display_name": "gtc",
   "language": "python",
   "name": "python3"
  },
  "language_info": {
   "codemirror_mode": {
    "name": "ipython",
    "version": 3
   },
   "file_extension": ".py",
   "mimetype": "text/x-python",
   "name": "python",
   "nbconvert_exporter": "python",
   "pygments_lexer": "ipython3",
   "version": "3.12.1"
  }
 },
 "nbformat": 4,
 "nbformat_minor": 2
}
